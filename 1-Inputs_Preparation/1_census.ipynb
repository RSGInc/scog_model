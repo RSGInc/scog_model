{
 "cells": [
  {
   "cell_type": "markdown",
   "metadata": {},
   "source": [
    "## Census Tract-level data"
   ]
  },
  {
   "cell_type": "code",
   "execution_count": 1,
   "metadata": {},
   "outputs": [],
   "source": [
    "# setup\n",
    "from census import Census\n",
    "from us import states\n",
    "import pandas as pd \n",
    "import numpy as np\n"
   ]
  },
  {
   "cell_type": "code",
   "execution_count": 2,
   "metadata": {},
   "outputs": [],
   "source": [
    "\n",
    "# Tract-level data\n",
    "#   can also serve as control totals \n",
    "\n",
    "# get HH Size by tract\n",
    "api_key = \"71413a49e8eb8071baacc6279df9403154f4a774\"\n",
    "c = Census(api_key,year=2022) # my API key\n",
    "tracts = c.acs5.get(('NAME','GEO_ID','B11016_001E','B11016_003E','B11016_004E','B11016_005E','B11016_006E','B11016_007E','B11016_008E','B11016_010E','B11016_011E','B11016_012E','B11016_013E','B11016_014E','B11016_015E','B11016_016E','B25010_001E','B01001_001E','B08006_001E','B19326_001E',\n",
    "                    'B19001_002E','B19001_003E','B19001_004E','B19001_005E','B19001_006E','B19001_007E','B19001_008E','B19001_009E','B19001_010E','B19001_011E','B19001_012E','B19001_013E','B19001_014E','B19001_015E','B19001_016E','B19001_017E'), \n",
    "                     geo={'for': 'tract:*',\n",
    "                       'in': 'state:{} county:057'.format(states.WA.fips)})\n",
    "\n",
    "tracts2 = c.acs5st.get(('GEO_ID','S1901_C01_013E'), \n",
    "                     geo={'for': 'tract:*',\n",
    "                       'in': 'state:{} county:057'.format(states.WA.fips)})\n",
    "\n",
    "tracts = pd.DataFrame(tracts)\n",
    "tracts2 = pd.DataFrame(tracts2)\n",
    "\n",
    "# fix geoid\n",
    "tracts['GEOID2'] = tracts['GEO_ID'].str.slice(start=9)\n",
    "tracts2['GEOID2'] = tracts2['GEO_ID'].str.slice(start=9)\n",
    "\n",
    "tracts = tracts.merge(tracts2, on='GEOID2')\n"
   ]
  },
  {
   "cell_type": "code",
   "execution_count": 7,
   "metadata": {},
   "outputs": [
    {
     "name": "stdout",
     "output_type": "stream",
     "text": [
      "Avg size of 4+ person HHs:  4.736502989977259\n"
     ]
    }
   ],
   "source": [
    "HH4pHH = tracts.apply(lambda row: row['B11016_005E'] + row['B11016_013E'] + row['B11016_006E'] + row['B11016_014E'] + row['B11016_007E'] + row['B11016_015E'] + row['B11016_008E'] + row['B11016_016E'], axis=1)\n",
    "HH4pPop = tracts.apply(lambda row: ((row['B11016_005E'] + row['B11016_013E']) * 4) + ((row['B11016_006E'] + row['B11016_014E']) * 5) + ((row['B11016_007E'] + row['B11016_015E']) * 6) + ((row['B11016_008E'] + row['B11016_016E']) * 7.5), axis=1)\n",
    "HH4pAvg = HH4pPop.sum() / HH4pHH.sum()\n",
    "\n",
    "print(\"Avg size of 4+ person HHs: \",HH4pAvg)\n"
   ]
  },
  {
   "cell_type": "code",
   "execution_count": null,
   "metadata": {},
   "outputs": [],
   "source": [
    "\n",
    "# combine family and non-family households by size\n",
    "tracts['HH_Total'] = tracts['B11016_001E']\n",
    "tracts['HH1'] = tracts['B11016_010E']\n",
    "tracts['HH2'] = tracts.apply(lambda row: row['B11016_003E'] + row['B11016_011E'], axis=1)\n",
    "tracts['HH3'] = tracts.apply(lambda row: row['B11016_004E'] + row['B11016_012E'], axis=1)\n",
    "tracts['HH4plus'] = tracts.apply(lambda row: row['B11016_005E'] + row['B11016_006E'] + row['B11016_007E'] + row['B11016_008E'] + row['B11016_013E'] + row['B11016_014E'] + row['B11016_015E'] + row['B11016_016E'], axis=1)\n",
    "tracts['HH_AvgSize'] = tracts['B25010_001E']\n",
    "tracts['Wrk_Total'] = tracts['B08006_001E']\n",
    "tracts['Wrk_Average'] = tracts.apply(lambda row: 0 if row['HH_Total'] == 0 else row['B08006_001E'] / row['HH_Total'], axis=1) # total workers / total households \n",
    "tracts['Inc_Median'] = tracts['B19326_001E']\n",
    "tracts['Inc_Mean'] = tracts['S1901_C01_013E']\n",
    "\n",
    "# For HH submodel size and income joint distribution\n",
    "# A two-dimensional distribution table for household size and income was generated using 2017-2021 5-Year ACS data (see Table 19).\n",
    "# TABLE 19: TWO DIMENSIONAL 2022 HOUSEHOLD SIZE & HOUSEHOLD INCOME DISTRIBUTION\n",
    "# HOUSEHOLD SIZE x Income level: <25K, 25K≤INCOME<50K, 50K≤INCOME<75K, 75K≤INCOME\n",
    "# B19001_002E\tLess than $10,000  cat 1\n",
    "# B19001_003E\t$10,000 to $14,999 cat 1\n",
    "# B19001_004E\t$15,000 to $19,999 cat 1\n",
    "# B19001_005E\t$20,000 to $24,999 cat 1\n",
    "# B19001_006E\t$25,000 to $29,999 cat 2\n",
    "# B19001_007E\t$30,000 to $34,999 cat 2\n",
    "# B19001_008E\t$35,000 to $39,999 cat 2\n",
    "# B19001_009E\t$40,000 to $44,999 cat 2\n",
    "# B19001_010E\t$45,000 to $49,999 cat 2\n",
    "# B19001_011E\t$50,000 to $59,999 cat 3\n",
    "# B19001_012E\t$60,000 to $74,999 cat 3\n",
    "# B19001_013E\t$75,000 to $99,999 cat 4\n",
    "# B19001_014E\t$100,000 to $124,999 cat 4\n",
    "# B19001_015E\t$125,000 to $149,999 cat 4\n",
    "# B19001_016E\t$150,000 to $199,999 cat 4\n",
    "# B19001_017E\t$200,000 or more cat 4\n",
    "\n",
    "tracts['INC1'] = tracts.apply(lambda row: row['B19001_002E'] + row['B19001_003E'] + row['B19001_004E'] + row['B19001_005E'], axis=1)                      # < 25k\n",
    "tracts['INC2'] = tracts.apply(lambda row: row['B19001_006E'] + row['B19001_007E'] + row['B19001_008E'] + row['B19001_009E'] + row['B19001_010E'], axis=1) # 25k-50K\n",
    "tracts['INC3'] = tracts.apply(lambda row: row['B19001_011E'] + row['B19001_012E'], axis=1)                                                                # 50k-75K\n",
    "tracts['INC4'] = tracts.apply(lambda row: row['B19001_013E'] + row['B19001_014E'] + row['B19001_015E'] + row['B19001_016E'] + row['B19001_017E'], axis=1) # >75K\n",
    "\n",
    "# proportions\n",
    "tracts['HH_Size1'] = tracts['HH1'] / tracts['HH_Total']\n",
    "tracts['HH_Size2'] = tracts['HH2'] / tracts['HH_Total']\n",
    "tracts['HH_Size3'] = tracts['HH3'] / tracts['HH_Total']\n",
    "tracts['HH_Size4plus'] = tracts['HH4plus'] / tracts['HH_Total']\n",
    "\n",
    "tracts = tracts.drop(columns=['B11016_001E','B11016_003E','B11016_004E','B11016_005E','B11016_006E','B11016_007E','B11016_008E','B11016_010E','B11016_011E','B11016_012E','B11016_013E','B11016_014E','B11016_015E','B11016_016E','B25010_001E','B01001_001E','B08006_001E','B19326_001E',\n",
    "                              'B19001_002E','B19001_003E','B19001_004E','B19001_005E','B19001_006E','B19001_007E','B19001_008E','B19001_009E','B19001_010E','B19001_011E','B19001_012E','B19001_013E','B19001_014E','B19001_015E','B19001_016E','B19001_017E'])\n",
    "\n",
    "#tracts.to_csv('tracts.csv', index=False)\n",
    "\n"
   ]
  },
  {
   "cell_type": "code",
   "execution_count": 34,
   "metadata": {},
   "outputs": [],
   "source": [
    "tracts['HH_AvgSize2'] = round(tracts['HH_AvgSize'],1)\n",
    "# size_pivot = tracts.pivot_table(index='HH_AvgSize2',columns=['HH1','HH2','HH3','HH4plus'],aggfunc='sum')\n",
    "\n",
    "size_pivot = tracts.groupby('HH_AvgSize2')[['HH1','HH2','HH3','HH4plus']].agg('sum')\n",
    "size_pivot.to_csv('HHSize_pivot.csv')\n"
   ]
  },
  {
   "cell_type": "code",
   "execution_count": null,
   "metadata": {},
   "outputs": [],
   "source": [
    "\n",
    "# blockgroup-level data\n",
    "\n",
    "# get HH Size by BG\n",
    "bgs = c.acs5.get(('NAME','GEO_ID','B11016_001E','B11016_003E','B11016_004E','B11016_005E','B11016_006E','B11016_007E','B11016_008E','B11016_010E','B11016_011E','B11016_012E','B11016_013E','B11016_014E','B11016_015E','B11016_016E','B25010_001E','B01001_001E','B08006_001E','B19326_001E',\n",
    "                    'B19001_002E','B19001_003E','B19001_004E','B19001_005E','B19001_006E','B19001_007E','B19001_008E','B19001_009E','B19001_010E','B19001_011E','B19001_012E','B19001_013E','B19001_014E','B19001_015E','B19001_016E','B19001_017E'), \n",
    "                     geo={'for': 'block group:*',\n",
    "                       'in': 'state:{} county:057'.format(states.WA.fips)})\n",
    "\n",
    "bgs = pd.DataFrame(bgs)\n",
    "\n",
    "# fix geoid\n",
    "bgs['GEOID2'] = bgs['GEO_ID'].str.slice(start=9)\n",
    "\n",
    "# combine family and non-family households by size\n",
    "bgs['HH_Total'] = bgs['B11016_001E']\n",
    "bgs['HH1'] = bgs['B11016_010E']\n",
    "bgs['HH2'] = bgs.apply(lambda row: row['B11016_003E'] + row['B11016_011E'], axis=1)\n",
    "bgs['HH3'] = bgs.apply(lambda row: row['B11016_004E'] + row['B11016_012E'], axis=1)\n",
    "bgs['HH4plus'] = bgs.apply(lambda row: row['B11016_005E'] + row['B11016_006E'] + row['B11016_007E'] + row['B11016_008E'] + row['B11016_013E'] + row['B11016_014E'] + row['B11016_015E'] + row['B11016_016E'], axis=1)\n",
    "bgs['HH_AvgSize'] = bgs['B25010_001E']\n",
    "# bgs['Wrk_Total'] = bgs['B08006_001E']\n",
    "# bgs['Wrk_Average'] = bgs.apply(lambda row: 0 if row['HH_Total'] == 0 else row['B08006_001E'] / row['HH_Total'], axis=1) # total workers / total households \n",
    "bgs['Inc_Median'] = bgs['B19326_001E']\n",
    "\n",
    "\n",
    "\n",
    "# For HH submodel size and income joint distribution\n",
    "# A two-dimensional distribution table for household size and income was generated using 2017-2021 5-Year ACS data (see Table 19).\n",
    "# TABLE 19: TWO DIMENSIONAL 2022 HOUSEHOLD SIZE & HOUSEHOLD INCOME DISTRIBUTION\n",
    "# HOUSEHOLD SIZE x Income level: <25K, 25K≤INCOME<50K, 50K≤INCOME<75K, 75K≤INCOME\n",
    "# B19001_002E\tLess than $10,000  cat 1\n",
    "# B19001_003E\t$10,000 to $14,999 cat 1\n",
    "# B19001_004E\t$15,000 to $19,999 cat 1\n",
    "# B19001_005E\t$20,000 to $24,999 cat 1\n",
    "# B19001_006E\t$25,000 to $29,999 cat 2\n",
    "# B19001_007E\t$30,000 to $34,999 cat 2\n",
    "# B19001_008E\t$35,000 to $39,999 cat 2\n",
    "# B19001_009E\t$40,000 to $44,999 cat 2\n",
    "# B19001_010E\t$45,000 to $49,999 cat 2\n",
    "# B19001_011E\t$50,000 to $59,999 cat 3\n",
    "# B19001_012E\t$60,000 to $74,999 cat 3\n",
    "# B19001_013E\t$75,000 to $99,999 cat 4\n",
    "# B19001_014E\t$100,000 to $124,999 cat 4\n",
    "# B19001_015E\t$125,000 to $149,999 cat 4\n",
    "# B19001_016E\t$150,000 to $199,999 cat 4\n",
    "# B19001_017E\t$200,000 or more cat 4\n",
    "\n",
    "bgs['INC1'] = bgs.apply(lambda row: row['B19001_002E'] + row['B19001_003E'] + row['B19001_004E'] + row['B19001_005E'], axis=1)                      # < 25k\n",
    "bgs['INC2'] = bgs.apply(lambda row: row['B19001_006E'] + row['B19001_007E'] + row['B19001_008E'] + row['B19001_009E'] + row['B19001_010E'], axis=1) # 25k-50K\n",
    "bgs['INC3'] = bgs.apply(lambda row: row['B19001_011E'] + row['B19001_012E'], axis=1)                                                                # 50k-75K\n",
    "bgs['INC4'] = bgs.apply(lambda row: row['B19001_013E'] + row['B19001_014E'] + row['B19001_015E'] + row['B19001_016E'] + row['B19001_017E'], axis=1) # >75K\n",
    "\n",
    "# proportions\n",
    "bgs['HH_Size1'] = bgs['HH1'] / bgs['HH_Total']\n",
    "bgs['HH_Size2'] = bgs['HH2'] / bgs['HH_Total']\n",
    "bgs['HH_Size3'] = bgs['HH3'] / bgs['HH_Total']\n",
    "bgs['HH_Size4plus'] = bgs['HH4plus'] / bgs['HH_Total']\n",
    "\n",
    "bgs = bgs.drop(columns=['B11016_001E','B11016_003E','B11016_004E','B11016_005E','B11016_006E','B11016_007E','B11016_008E','B11016_010E','B11016_011E','B11016_012E','B11016_013E','B11016_014E','B11016_015E','B11016_016E','B25010_001E','B01001_001E','B08006_001E','B19326_001E',\n",
    "                              'B19001_002E','B19001_003E','B19001_004E','B19001_005E','B19001_006E','B19001_007E','B19001_008E','B19001_009E','B19001_010E','B19001_011E','B19001_012E','B19001_013E','B19001_014E','B19001_015E','B19001_016E','B19001_017E'])\n",
    "\n",
    "bgs.to_csv('blockgroups.csv', index=False)"
   ]
  },
  {
   "cell_type": "code",
   "execution_count": 35,
   "metadata": {},
   "outputs": [],
   "source": [
    "bgs['HH_AvgSize2'] = round(bgs['HH_AvgSize'],1)\n",
    "# size_pivot = tracts.pivot_table(index='HH_AvgSize2',columns=['HH1','HH2','HH3','HH4plus'],aggfunc='sum')\n",
    "\n",
    "size_pivot = bgs.groupby('HH_AvgSize2')[['HH1','HH2','HH3','HH4plus']].agg('sum')\n",
    "size_pivot.to_csv('HHSize_pivot_bg.csv')\n"
   ]
  },
  {
   "cell_type": "code",
   "execution_count": 5,
   "metadata": {},
   "outputs": [],
   "source": [
    "# HH Size in adjacent counties\n",
    "\n",
    "# get HH Size by BG\n",
    "bgs_island = c.acs5.get(('NAME','GEO_ID','B11016_001E','B11016_003E','B11016_004E','B11016_005E','B11016_006E','B11016_007E','B11016_008E','B11016_010E','B11016_011E','B11016_012E','B11016_013E','B11016_014E','B11016_015E','B11016_016E','B25010_001E','B01001_001E','B08006_001E','B19326_001E',\n",
    "                    'B19001_002E','B19001_003E','B19001_004E','B19001_005E','B19001_006E','B19001_007E','B19001_008E','B19001_009E','B19001_010E','B19001_011E','B19001_012E','B19001_013E','B19001_014E','B19001_015E','B19001_016E','B19001_017E'), \n",
    "                     geo={'for': 'block group:*',\n",
    "                       'in': 'state:{} county:029'.format(states.WA.fips)})\n",
    "\n",
    "bgs_whatcom = c.acs5.get(('NAME','GEO_ID','B11016_001E','B11016_003E','B11016_004E','B11016_005E','B11016_006E','B11016_007E','B11016_008E','B11016_010E','B11016_011E','B11016_012E','B11016_013E','B11016_014E','B11016_015E','B11016_016E','B25010_001E','B01001_001E','B08006_001E','B19326_001E',\n",
    "                    'B19001_002E','B19001_003E','B19001_004E','B19001_005E','B19001_006E','B19001_007E','B19001_008E','B19001_009E','B19001_010E','B19001_011E','B19001_012E','B19001_013E','B19001_014E','B19001_015E','B19001_016E','B19001_017E'), \n",
    "                     geo={'for': 'block group:*',\n",
    "                       'in': 'state:{} county:073'.format(states.WA.fips)})\n",
    "\n",
    "bgs1 = pd.DataFrame(bgs_island)\n",
    "bgs2 = pd.DataFrame(bgs_whatcom)\n",
    "bgs = pd.concat([bgs1,bgs2])\n",
    "\n",
    "# fix geoid\n",
    "bgs['GEOID2'] = bgs['GEO_ID'].str.slice(start=9)\n",
    "\n",
    "# combine family and non-family households by size\n",
    "bgs['HH_Total'] = bgs['B11016_001E']\n",
    "bgs['HH1'] = bgs['B11016_010E']\n",
    "bgs['HH2'] = bgs.apply(lambda row: row['B11016_003E'] + row['B11016_011E'], axis=1)\n",
    "bgs['HH3'] = bgs.apply(lambda row: row['B11016_004E'] + row['B11016_012E'], axis=1)\n",
    "bgs['HH4plus'] = bgs.apply(lambda row: row['B11016_005E'] + row['B11016_006E'] + row['B11016_007E'] + row['B11016_008E'] + row['B11016_013E'] + row['B11016_014E'] + row['B11016_015E'] + row['B11016_016E'], axis=1)\n",
    "bgs['HH_AvgSize'] = bgs['B25010_001E']\n",
    "\n",
    "bgs['HH_AvgSize2'] = round(bgs['HH_AvgSize'],1)\n",
    "# size_pivot = tracts.pivot_table(index='HH_AvgSize2',columns=['HH1','HH2','HH3','HH4plus'],aggfunc='sum')\n",
    "\n",
    "size_pivot = bgs.groupby('HH_AvgSize2')[['HH1','HH2','HH3','HH4plus']].agg('sum')\n",
    "size_pivot.to_csv('HHSize_added_pivot_bg.csv')\n"
   ]
  },
  {
   "cell_type": "markdown",
   "metadata": {},
   "source": [
    "## HH Income Index (by tract)"
   ]
  },
  {
   "cell_type": "code",
   "execution_count": 30,
   "metadata": {},
   "outputs": [],
   "source": [
    "area_income = (tracts['Inc_Mean'] * tracts['HH_Total']).sum() # 5,262,863,780.0\n",
    "area_avg_income = area_income / (tracts['HH_Total'].sum()) # dived by 50,824 HH = 103,550\n",
    "tracts['INC_INDEX'] = tracts['Inc_Mean'] / area_avg_income\n",
    "tracts['INC_INDEX2'] = round(tracts['INC_INDEX'],1)\n",
    "\n",
    "income_pivot = tracts.groupby('INC_INDEX2')[['INC1','INC2','INC3','INC4']].agg('sum')\n",
    "income_pivot.to_csv('HHIncome_pivot.csv')"
   ]
  },
  {
   "cell_type": "markdown",
   "metadata": {},
   "source": [
    "## PUMS HH Size x Income crosstab"
   ]
  },
  {
   "cell_type": "code",
   "execution_count": 22,
   "metadata": {},
   "outputs": [
    {
     "data": {
      "application/vnd.microsoft.datawrangler.viewer.v0+json": {
       "columns": [
        {
         "name": "index",
         "rawType": "int64",
         "type": "integer"
        },
        {
         "name": "RT",
         "rawType": "object",
         "type": "string"
        },
        {
         "name": "SERIALNO",
         "rawType": "object",
         "type": "string"
        },
        {
         "name": "DIVISION",
         "rawType": "int64",
         "type": "integer"
        },
        {
         "name": "PUMA10",
         "rawType": "int64",
         "type": "integer"
        },
        {
         "name": "PUMA20",
         "rawType": "int64",
         "type": "integer"
        },
        {
         "name": "REGION",
         "rawType": "int64",
         "type": "integer"
        },
        {
         "name": "ST",
         "rawType": "int64",
         "type": "integer"
        },
        {
         "name": "ADJHSG",
         "rawType": "int64",
         "type": "integer"
        },
        {
         "name": "ADJINC",
         "rawType": "int64",
         "type": "integer"
        },
        {
         "name": "WGTP",
         "rawType": "int64",
         "type": "integer"
        },
        {
         "name": "NP",
         "rawType": "int64",
         "type": "integer"
        },
        {
         "name": "TYPEHUGQ",
         "rawType": "int64",
         "type": "integer"
        },
        {
         "name": "ACCESSINET",
         "rawType": "float64",
         "type": "float"
        },
        {
         "name": "ACR",
         "rawType": "float64",
         "type": "float"
        },
        {
         "name": "AGS",
         "rawType": "float64",
         "type": "float"
        },
        {
         "name": "BATH",
         "rawType": "float64",
         "type": "float"
        },
        {
         "name": "BDSP",
         "rawType": "float64",
         "type": "float"
        },
        {
         "name": "BLD",
         "rawType": "float64",
         "type": "float"
        },
        {
         "name": "BROADBND",
         "rawType": "float64",
         "type": "float"
        },
        {
         "name": "COMPOTHX",
         "rawType": "float64",
         "type": "float"
        },
        {
         "name": "CONP",
         "rawType": "float64",
         "type": "float"
        },
        {
         "name": "DIALUP",
         "rawType": "float64",
         "type": "float"
        },
        {
         "name": "ELEFP",
         "rawType": "float64",
         "type": "float"
        },
        {
         "name": "ELEP",
         "rawType": "float64",
         "type": "float"
        },
        {
         "name": "FS",
         "rawType": "float64",
         "type": "float"
        },
        {
         "name": "FULFP",
         "rawType": "float64",
         "type": "float"
        },
        {
         "name": "FULP",
         "rawType": "float64",
         "type": "float"
        },
        {
         "name": "GASFP",
         "rawType": "float64",
         "type": "float"
        },
        {
         "name": "GASP",
         "rawType": "float64",
         "type": "float"
        },
        {
         "name": "HFL",
         "rawType": "float64",
         "type": "float"
        },
        {
         "name": "HISPEED",
         "rawType": "float64",
         "type": "float"
        },
        {
         "name": "HOTWAT",
         "rawType": "float64",
         "type": "float"
        },
        {
         "name": "INSP",
         "rawType": "float64",
         "type": "float"
        },
        {
         "name": "LAPTOP",
         "rawType": "float64",
         "type": "float"
        },
        {
         "name": "MHP",
         "rawType": "float64",
         "type": "float"
        },
        {
         "name": "MRGI",
         "rawType": "float64",
         "type": "float"
        },
        {
         "name": "MRGP",
         "rawType": "float64",
         "type": "float"
        },
        {
         "name": "MRGT",
         "rawType": "float64",
         "type": "float"
        },
        {
         "name": "MRGX",
         "rawType": "float64",
         "type": "float"
        },
        {
         "name": "OTHSVCEX",
         "rawType": "float64",
         "type": "float"
        },
        {
         "name": "REFR",
         "rawType": "float64",
         "type": "float"
        },
        {
         "name": "RMSP",
         "rawType": "float64",
         "type": "float"
        },
        {
         "name": "RNTM",
         "rawType": "float64",
         "type": "float"
        },
        {
         "name": "RNTP",
         "rawType": "float64",
         "type": "float"
        },
        {
         "name": "RWAT",
         "rawType": "float64",
         "type": "float"
        },
        {
         "name": "RWATPR",
         "rawType": "float64",
         "type": "float"
        },
        {
         "name": "SATELLITE",
         "rawType": "float64",
         "type": "float"
        },
        {
         "name": "SINK",
         "rawType": "float64",
         "type": "float"
        },
        {
         "name": "SMARTPHONE",
         "rawType": "float64",
         "type": "float"
        },
        {
         "name": "SMP",
         "rawType": "float64",
         "type": "float"
        },
        {
         "name": "STOV",
         "rawType": "float64",
         "type": "float"
        },
        {
         "name": "TABLET",
         "rawType": "float64",
         "type": "float"
        },
        {
         "name": "TEL",
         "rawType": "float64",
         "type": "float"
        },
        {
         "name": "TEN",
         "rawType": "float64",
         "type": "float"
        },
        {
         "name": "VACS",
         "rawType": "float64",
         "type": "float"
        },
        {
         "name": "VALP",
         "rawType": "float64",
         "type": "float"
        },
        {
         "name": "VEH",
         "rawType": "float64",
         "type": "float"
        },
        {
         "name": "WATFP",
         "rawType": "float64",
         "type": "float"
        },
        {
         "name": "WATP",
         "rawType": "float64",
         "type": "float"
        },
        {
         "name": "YRBLT",
         "rawType": "float64",
         "type": "float"
        },
        {
         "name": "CPLT",
         "rawType": "float64",
         "type": "float"
        },
        {
         "name": "FINCP",
         "rawType": "float64",
         "type": "float"
        },
        {
         "name": "FPARC",
         "rawType": "float64",
         "type": "float"
        },
        {
         "name": "GRNTP",
         "rawType": "float64",
         "type": "float"
        },
        {
         "name": "GRPIP",
         "rawType": "float64",
         "type": "float"
        },
        {
         "name": "HHL",
         "rawType": "float64",
         "type": "float"
        },
        {
         "name": "HHLANP",
         "rawType": "float64",
         "type": "float"
        },
        {
         "name": "HHLDRAGEP",
         "rawType": "float64",
         "type": "float"
        },
        {
         "name": "HHLDRHISP",
         "rawType": "float64",
         "type": "float"
        },
        {
         "name": "HHLDRRAC1P",
         "rawType": "float64",
         "type": "float"
        },
        {
         "name": "HHT",
         "rawType": "float64",
         "type": "float"
        },
        {
         "name": "HHT2",
         "rawType": "float64",
         "type": "float"
        },
        {
         "name": "HINCP",
         "rawType": "float64",
         "type": "float"
        },
        {
         "name": "HUGCL",
         "rawType": "float64",
         "type": "float"
        },
        {
         "name": "HUPAC",
         "rawType": "float64",
         "type": "float"
        },
        {
         "name": "HUPAOC",
         "rawType": "float64",
         "type": "float"
        },
        {
         "name": "HUPARC",
         "rawType": "float64",
         "type": "float"
        },
        {
         "name": "KIT",
         "rawType": "float64",
         "type": "float"
        },
        {
         "name": "LNGI",
         "rawType": "float64",
         "type": "float"
        },
        {
         "name": "MULTG",
         "rawType": "float64",
         "type": "float"
        },
        {
         "name": "MV",
         "rawType": "float64",
         "type": "float"
        },
        {
         "name": "NOC",
         "rawType": "float64",
         "type": "float"
        },
        {
         "name": "NPF",
         "rawType": "float64",
         "type": "float"
        },
        {
         "name": "NPP",
         "rawType": "float64",
         "type": "float"
        },
        {
         "name": "NR",
         "rawType": "float64",
         "type": "float"
        },
        {
         "name": "NRC",
         "rawType": "float64",
         "type": "float"
        },
        {
         "name": "OCPIP",
         "rawType": "float64",
         "type": "float"
        },
        {
         "name": "PARTNER",
         "rawType": "float64",
         "type": "float"
        },
        {
         "name": "PLM",
         "rawType": "float64",
         "type": "float"
        },
        {
         "name": "PLMPRP",
         "rawType": "float64",
         "type": "float"
        },
        {
         "name": "PSF",
         "rawType": "float64",
         "type": "float"
        },
        {
         "name": "R18",
         "rawType": "float64",
         "type": "float"
        },
        {
         "name": "R60",
         "rawType": "float64",
         "type": "float"
        },
        {
         "name": "R65",
         "rawType": "float64",
         "type": "float"
        },
        {
         "name": "RESMODE",
         "rawType": "float64",
         "type": "float"
        },
        {
         "name": "SMOCP",
         "rawType": "float64",
         "type": "float"
        },
        {
         "name": "SMX",
         "rawType": "float64",
         "type": "float"
        },
        {
         "name": "SRNT",
         "rawType": "float64",
         "type": "float"
        },
        {
         "name": "SVAL",
         "rawType": "float64",
         "type": "float"
        },
        {
         "name": "TAXAMT",
         "rawType": "float64",
         "type": "float"
        },
        {
         "name": "WIF",
         "rawType": "float64",
         "type": "float"
        },
        {
         "name": "WKEXREL",
         "rawType": "float64",
         "type": "float"
        },
        {
         "name": "WORKSTAT",
         "rawType": "float64",
         "type": "float"
        },
        {
         "name": "FACCESSP",
         "rawType": "float64",
         "type": "float"
        },
        {
         "name": "FACRP",
         "rawType": "float64",
         "type": "float"
        },
        {
         "name": "FAGSP",
         "rawType": "float64",
         "type": "float"
        },
        {
         "name": "FBATHP",
         "rawType": "float64",
         "type": "float"
        },
        {
         "name": "FBDSP",
         "rawType": "float64",
         "type": "float"
        },
        {
         "name": "FBLDP",
         "rawType": "float64",
         "type": "float"
        },
        {
         "name": "FBROADBNDP",
         "rawType": "float64",
         "type": "float"
        },
        {
         "name": "FCOMPOTHXP",
         "rawType": "float64",
         "type": "float"
        },
        {
         "name": "FCONP",
         "rawType": "float64",
         "type": "float"
        },
        {
         "name": "FDIALUPP",
         "rawType": "float64",
         "type": "float"
        },
        {
         "name": "FELEP",
         "rawType": "float64",
         "type": "float"
        },
        {
         "name": "FFINCP",
         "rawType": "float64",
         "type": "float"
        },
        {
         "name": "FFSP",
         "rawType": "int64",
         "type": "integer"
        },
        {
         "name": "FFULP",
         "rawType": "float64",
         "type": "float"
        },
        {
         "name": "FGASP",
         "rawType": "float64",
         "type": "float"
        },
        {
         "name": "FGRNTP",
         "rawType": "float64",
         "type": "float"
        },
        {
         "name": "FHFLP",
         "rawType": "float64",
         "type": "float"
        },
        {
         "name": "FHINCP",
         "rawType": "float64",
         "type": "float"
        },
        {
         "name": "FHISPEEDP",
         "rawType": "float64",
         "type": "float"
        },
        {
         "name": "FHOTWATP",
         "rawType": "float64",
         "type": "float"
        },
        {
         "name": "FINSP",
         "rawType": "float64",
         "type": "float"
        },
        {
         "name": "FKITP",
         "rawType": "float64",
         "type": "float"
        },
        {
         "name": "FLAPTOPP",
         "rawType": "float64",
         "type": "float"
        },
        {
         "name": "FMHP",
         "rawType": "float64",
         "type": "float"
        },
        {
         "name": "FMRGIP",
         "rawType": "float64",
         "type": "float"
        },
        {
         "name": "FMRGP",
         "rawType": "float64",
         "type": "float"
        },
        {
         "name": "FMRGTP",
         "rawType": "float64",
         "type": "float"
        },
        {
         "name": "FMRGXP",
         "rawType": "float64",
         "type": "float"
        },
        {
         "name": "FMVP",
         "rawType": "float64",
         "type": "float"
        },
        {
         "name": "FOTHSVCEXP",
         "rawType": "float64",
         "type": "float"
        },
        {
         "name": "FPLMP",
         "rawType": "float64",
         "type": "float"
        },
        {
         "name": "FPLMPRP",
         "rawType": "float64",
         "type": "float"
        },
        {
         "name": "FREFRP",
         "rawType": "float64",
         "type": "float"
        },
        {
         "name": "FRMSP",
         "rawType": "float64",
         "type": "float"
        },
        {
         "name": "FRNTMP",
         "rawType": "float64",
         "type": "float"
        },
        {
         "name": "FRNTP",
         "rawType": "float64",
         "type": "float"
        },
        {
         "name": "FRWATP",
         "rawType": "float64",
         "type": "float"
        },
        {
         "name": "FRWATPRP",
         "rawType": "float64",
         "type": "float"
        },
        {
         "name": "FSATELLITEP",
         "rawType": "float64",
         "type": "float"
        },
        {
         "name": "FSINKP",
         "rawType": "float64",
         "type": "float"
        },
        {
         "name": "FSMARTPHONP",
         "rawType": "float64",
         "type": "float"
        },
        {
         "name": "FSMOCP",
         "rawType": "float64",
         "type": "float"
        },
        {
         "name": "FSMP",
         "rawType": "float64",
         "type": "float"
        },
        {
         "name": "FSMXHP",
         "rawType": "float64",
         "type": "float"
        },
        {
         "name": "FSMXSP",
         "rawType": "float64",
         "type": "float"
        },
        {
         "name": "FSTOVP",
         "rawType": "float64",
         "type": "float"
        },
        {
         "name": "FTABLETP",
         "rawType": "float64",
         "type": "float"
        },
        {
         "name": "FTAXP",
         "rawType": "float64",
         "type": "float"
        },
        {
         "name": "FTELP",
         "rawType": "float64",
         "type": "float"
        },
        {
         "name": "FTENP",
         "rawType": "float64",
         "type": "float"
        },
        {
         "name": "FVACSP",
         "rawType": "float64",
         "type": "float"
        },
        {
         "name": "FVALP",
         "rawType": "float64",
         "type": "float"
        },
        {
         "name": "FVEHP",
         "rawType": "float64",
         "type": "float"
        },
        {
         "name": "FWATP",
         "rawType": "float64",
         "type": "float"
        },
        {
         "name": "FYRBLTP",
         "rawType": "float64",
         "type": "float"
        },
        {
         "name": "WGTP1",
         "rawType": "int64",
         "type": "integer"
        },
        {
         "name": "WGTP2",
         "rawType": "int64",
         "type": "integer"
        },
        {
         "name": "WGTP3",
         "rawType": "int64",
         "type": "integer"
        },
        {
         "name": "WGTP4",
         "rawType": "int64",
         "type": "integer"
        },
        {
         "name": "WGTP5",
         "rawType": "int64",
         "type": "integer"
        },
        {
         "name": "WGTP6",
         "rawType": "int64",
         "type": "integer"
        },
        {
         "name": "WGTP7",
         "rawType": "int64",
         "type": "integer"
        },
        {
         "name": "WGTP8",
         "rawType": "int64",
         "type": "integer"
        },
        {
         "name": "WGTP9",
         "rawType": "int64",
         "type": "integer"
        },
        {
         "name": "WGTP10",
         "rawType": "int64",
         "type": "integer"
        },
        {
         "name": "WGTP11",
         "rawType": "int64",
         "type": "integer"
        },
        {
         "name": "WGTP12",
         "rawType": "int64",
         "type": "integer"
        },
        {
         "name": "WGTP13",
         "rawType": "int64",
         "type": "integer"
        },
        {
         "name": "WGTP14",
         "rawType": "int64",
         "type": "integer"
        },
        {
         "name": "WGTP15",
         "rawType": "int64",
         "type": "integer"
        },
        {
         "name": "WGTP16",
         "rawType": "int64",
         "type": "integer"
        },
        {
         "name": "WGTP17",
         "rawType": "int64",
         "type": "integer"
        },
        {
         "name": "WGTP18",
         "rawType": "int64",
         "type": "integer"
        },
        {
         "name": "WGTP19",
         "rawType": "int64",
         "type": "integer"
        },
        {
         "name": "WGTP20",
         "rawType": "int64",
         "type": "integer"
        },
        {
         "name": "WGTP21",
         "rawType": "int64",
         "type": "integer"
        },
        {
         "name": "WGTP22",
         "rawType": "int64",
         "type": "integer"
        },
        {
         "name": "WGTP23",
         "rawType": "int64",
         "type": "integer"
        },
        {
         "name": "WGTP24",
         "rawType": "int64",
         "type": "integer"
        },
        {
         "name": "WGTP25",
         "rawType": "int64",
         "type": "integer"
        },
        {
         "name": "WGTP26",
         "rawType": "int64",
         "type": "integer"
        },
        {
         "name": "WGTP27",
         "rawType": "int64",
         "type": "integer"
        },
        {
         "name": "WGTP28",
         "rawType": "int64",
         "type": "integer"
        },
        {
         "name": "WGTP29",
         "rawType": "int64",
         "type": "integer"
        },
        {
         "name": "WGTP30",
         "rawType": "int64",
         "type": "integer"
        },
        {
         "name": "WGTP31",
         "rawType": "int64",
         "type": "integer"
        },
        {
         "name": "WGTP32",
         "rawType": "int64",
         "type": "integer"
        },
        {
         "name": "WGTP33",
         "rawType": "int64",
         "type": "integer"
        },
        {
         "name": "WGTP34",
         "rawType": "int64",
         "type": "integer"
        },
        {
         "name": "WGTP35",
         "rawType": "int64",
         "type": "integer"
        },
        {
         "name": "WGTP36",
         "rawType": "int64",
         "type": "integer"
        },
        {
         "name": "WGTP37",
         "rawType": "int64",
         "type": "integer"
        },
        {
         "name": "WGTP38",
         "rawType": "int64",
         "type": "integer"
        },
        {
         "name": "WGTP39",
         "rawType": "int64",
         "type": "integer"
        },
        {
         "name": "WGTP40",
         "rawType": "int64",
         "type": "integer"
        },
        {
         "name": "WGTP41",
         "rawType": "int64",
         "type": "integer"
        },
        {
         "name": "WGTP42",
         "rawType": "int64",
         "type": "integer"
        },
        {
         "name": "WGTP43",
         "rawType": "int64",
         "type": "integer"
        },
        {
         "name": "WGTP44",
         "rawType": "int64",
         "type": "integer"
        },
        {
         "name": "WGTP45",
         "rawType": "int64",
         "type": "integer"
        },
        {
         "name": "WGTP46",
         "rawType": "int64",
         "type": "integer"
        },
        {
         "name": "WGTP47",
         "rawType": "int64",
         "type": "integer"
        },
        {
         "name": "WGTP48",
         "rawType": "int64",
         "type": "integer"
        },
        {
         "name": "WGTP49",
         "rawType": "int64",
         "type": "integer"
        },
        {
         "name": "WGTP50",
         "rawType": "int64",
         "type": "integer"
        },
        {
         "name": "WGTP51",
         "rawType": "int64",
         "type": "integer"
        },
        {
         "name": "WGTP52",
         "rawType": "int64",
         "type": "integer"
        },
        {
         "name": "WGTP53",
         "rawType": "int64",
         "type": "integer"
        },
        {
         "name": "WGTP54",
         "rawType": "int64",
         "type": "integer"
        },
        {
         "name": "WGTP55",
         "rawType": "int64",
         "type": "integer"
        },
        {
         "name": "WGTP56",
         "rawType": "int64",
         "type": "integer"
        },
        {
         "name": "WGTP57",
         "rawType": "int64",
         "type": "integer"
        },
        {
         "name": "WGTP58",
         "rawType": "int64",
         "type": "integer"
        },
        {
         "name": "WGTP59",
         "rawType": "int64",
         "type": "integer"
        },
        {
         "name": "WGTP60",
         "rawType": "int64",
         "type": "integer"
        },
        {
         "name": "WGTP61",
         "rawType": "int64",
         "type": "integer"
        },
        {
         "name": "WGTP62",
         "rawType": "int64",
         "type": "integer"
        },
        {
         "name": "WGTP63",
         "rawType": "int64",
         "type": "integer"
        },
        {
         "name": "WGTP64",
         "rawType": "int64",
         "type": "integer"
        },
        {
         "name": "WGTP65",
         "rawType": "int64",
         "type": "integer"
        },
        {
         "name": "WGTP66",
         "rawType": "int64",
         "type": "integer"
        },
        {
         "name": "WGTP67",
         "rawType": "int64",
         "type": "integer"
        },
        {
         "name": "WGTP68",
         "rawType": "int64",
         "type": "integer"
        },
        {
         "name": "WGTP69",
         "rawType": "int64",
         "type": "integer"
        },
        {
         "name": "WGTP70",
         "rawType": "int64",
         "type": "integer"
        },
        {
         "name": "WGTP71",
         "rawType": "int64",
         "type": "integer"
        },
        {
         "name": "WGTP72",
         "rawType": "int64",
         "type": "integer"
        },
        {
         "name": "WGTP73",
         "rawType": "int64",
         "type": "integer"
        },
        {
         "name": "WGTP74",
         "rawType": "int64",
         "type": "integer"
        },
        {
         "name": "WGTP75",
         "rawType": "int64",
         "type": "integer"
        },
        {
         "name": "WGTP76",
         "rawType": "int64",
         "type": "integer"
        },
        {
         "name": "WGTP77",
         "rawType": "int64",
         "type": "integer"
        },
        {
         "name": "WGTP78",
         "rawType": "int64",
         "type": "integer"
        },
        {
         "name": "WGTP79",
         "rawType": "int64",
         "type": "integer"
        },
        {
         "name": "WGTP80",
         "rawType": "int64",
         "type": "integer"
        }
       ],
       "conversionMethod": "pd.DataFrame",
       "ref": "107b9eb6-669f-4df9-b3a7-768c732de3db",
       "rows": [
        [
         "0",
         "H",
         "2018GQ0000023",
         "9",
         "10100",
         "-9",
         "4",
         "53",
         "1169060",
         "1184371",
         "0",
         "1",
         "3",
         null,
         null,
         null,
         null,
         null,
         null,
         null,
         null,
         null,
         null,
         null,
         null,
         "1.0",
         null,
         null,
         null,
         null,
         null,
         null,
         null,
         null,
         null,
         null,
         null,
         null,
         null,
         null,
         null,
         null,
         null,
         null,
         null,
         null,
         null,
         null,
         null,
         null,
         null,
         null,
         null,
         null,
         null,
         null,
         null,
         null,
         null,
         null,
         null,
         null,
         null,
         null,
         null,
         null,
         null,
         null,
         null,
         null,
         null,
         null,
         null,
         null,
         null,
         null,
         null,
         null,
         null,
         null,
         null,
         null,
         null,
         null,
         null,
         null,
         null,
         null,
         null,
         null,
         null,
         null,
         null,
         null,
         null,
         null,
         null,
         null,
         null,
         null,
         null,
         null,
         null,
         null,
         null,
         null,
         null,
         null,
         null,
         null,
         null,
         null,
         null,
         null,
         null,
         null,
         "0",
         null,
         null,
         null,
         null,
         null,
         null,
         null,
         null,
         null,
         null,
         null,
         null,
         null,
         null,
         null,
         null,
         null,
         null,
         null,
         null,
         null,
         null,
         null,
         null,
         null,
         null,
         null,
         null,
         null,
         null,
         null,
         null,
         null,
         null,
         null,
         null,
         null,
         null,
         null,
         null,
         null,
         null,
         "0",
         "0",
         "0",
         "0",
         "0",
         "0",
         "0",
         "0",
         "0",
         "0",
         "0",
         "0",
         "0",
         "0",
         "0",
         "0",
         "0",
         "0",
         "0",
         "0",
         "0",
         "0",
         "0",
         "0",
         "0",
         "0",
         "0",
         "0",
         "0",
         "0",
         "0",
         "0",
         "0",
         "0",
         "0",
         "0",
         "0",
         "0",
         "0",
         "0",
         "0",
         "0",
         "0",
         "0",
         "0",
         "0",
         "0",
         "0",
         "0",
         "0",
         "0",
         "0",
         "0",
         "0",
         "0",
         "0",
         "0",
         "0",
         "0",
         "0",
         "0",
         "0",
         "0",
         "0",
         "0",
         "0",
         "0",
         "0",
         "0",
         "0",
         "0",
         "0",
         "0",
         "0",
         "0",
         "0",
         "0",
         "0",
         "0",
         "0"
        ],
        [
         "1",
         "H",
         "2018GQ0000078",
         "9",
         "11502",
         "-9",
         "4",
         "53",
         "1169060",
         "1184371",
         "0",
         "1",
         "2",
         null,
         null,
         null,
         null,
         null,
         null,
         null,
         null,
         null,
         null,
         null,
         null,
         "2.0",
         null,
         null,
         null,
         null,
         null,
         null,
         null,
         null,
         null,
         null,
         null,
         null,
         null,
         null,
         null,
         null,
         null,
         null,
         null,
         null,
         null,
         null,
         null,
         null,
         null,
         null,
         null,
         null,
         null,
         null,
         null,
         null,
         null,
         null,
         null,
         null,
         null,
         null,
         null,
         null,
         null,
         null,
         null,
         null,
         null,
         null,
         null,
         null,
         null,
         null,
         null,
         null,
         null,
         null,
         null,
         null,
         null,
         null,
         null,
         null,
         null,
         null,
         null,
         null,
         null,
         null,
         null,
         null,
         null,
         null,
         null,
         null,
         null,
         null,
         null,
         null,
         null,
         null,
         null,
         null,
         null,
         null,
         null,
         null,
         null,
         null,
         null,
         null,
         null,
         null,
         "0",
         null,
         null,
         null,
         null,
         null,
         null,
         null,
         null,
         null,
         null,
         null,
         null,
         null,
         null,
         null,
         null,
         null,
         null,
         null,
         null,
         null,
         null,
         null,
         null,
         null,
         null,
         null,
         null,
         null,
         null,
         null,
         null,
         null,
         null,
         null,
         null,
         null,
         null,
         null,
         null,
         null,
         null,
         "0",
         "0",
         "0",
         "0",
         "0",
         "0",
         "0",
         "0",
         "0",
         "0",
         "0",
         "0",
         "0",
         "0",
         "0",
         "0",
         "0",
         "0",
         "0",
         "0",
         "0",
         "0",
         "0",
         "0",
         "0",
         "0",
         "0",
         "0",
         "0",
         "0",
         "0",
         "0",
         "0",
         "0",
         "0",
         "0",
         "0",
         "0",
         "0",
         "0",
         "0",
         "0",
         "0",
         "0",
         "0",
         "0",
         "0",
         "0",
         "0",
         "0",
         "0",
         "0",
         "0",
         "0",
         "0",
         "0",
         "0",
         "0",
         "0",
         "0",
         "0",
         "0",
         "0",
         "0",
         "0",
         "0",
         "0",
         "0",
         "0",
         "0",
         "0",
         "0",
         "0",
         "0",
         "0",
         "0",
         "0",
         "0",
         "0",
         "0"
        ],
        [
         "2",
         "H",
         "2018GQ0000117",
         "9",
         "11900",
         "-9",
         "4",
         "53",
         "1169060",
         "1184371",
         "0",
         "1",
         "2",
         null,
         null,
         null,
         null,
         null,
         null,
         null,
         null,
         null,
         null,
         null,
         null,
         "1.0",
         null,
         null,
         null,
         null,
         null,
         null,
         null,
         null,
         null,
         null,
         null,
         null,
         null,
         null,
         null,
         null,
         null,
         null,
         null,
         null,
         null,
         null,
         null,
         null,
         null,
         null,
         null,
         null,
         null,
         null,
         null,
         null,
         null,
         null,
         null,
         null,
         null,
         null,
         null,
         null,
         null,
         null,
         null,
         null,
         null,
         null,
         null,
         null,
         null,
         null,
         null,
         null,
         null,
         null,
         null,
         null,
         null,
         null,
         null,
         null,
         null,
         null,
         null,
         null,
         null,
         null,
         null,
         null,
         null,
         null,
         null,
         null,
         null,
         null,
         null,
         null,
         null,
         null,
         null,
         null,
         null,
         null,
         null,
         null,
         null,
         null,
         null,
         null,
         null,
         null,
         "0",
         null,
         null,
         null,
         null,
         null,
         null,
         null,
         null,
         null,
         null,
         null,
         null,
         null,
         null,
         null,
         null,
         null,
         null,
         null,
         null,
         null,
         null,
         null,
         null,
         null,
         null,
         null,
         null,
         null,
         null,
         null,
         null,
         null,
         null,
         null,
         null,
         null,
         null,
         null,
         null,
         null,
         null,
         "0",
         "0",
         "0",
         "0",
         "0",
         "0",
         "0",
         "0",
         "0",
         "0",
         "0",
         "0",
         "0",
         "0",
         "0",
         "0",
         "0",
         "0",
         "0",
         "0",
         "0",
         "0",
         "0",
         "0",
         "0",
         "0",
         "0",
         "0",
         "0",
         "0",
         "0",
         "0",
         "0",
         "0",
         "0",
         "0",
         "0",
         "0",
         "0",
         "0",
         "0",
         "0",
         "0",
         "0",
         "0",
         "0",
         "0",
         "0",
         "0",
         "0",
         "0",
         "0",
         "0",
         "0",
         "0",
         "0",
         "0",
         "0",
         "0",
         "0",
         "0",
         "0",
         "0",
         "0",
         "0",
         "0",
         "0",
         "0",
         "0",
         "0",
         "0",
         "0",
         "0",
         "0",
         "0",
         "0",
         "0",
         "0",
         "0",
         "0"
        ],
        [
         "3",
         "H",
         "2018GQ0000163",
         "9",
         "11401",
         "-9",
         "4",
         "53",
         "1169060",
         "1184371",
         "0",
         "1",
         "2",
         null,
         null,
         null,
         null,
         null,
         null,
         null,
         null,
         null,
         null,
         null,
         null,
         "2.0",
         null,
         null,
         null,
         null,
         null,
         null,
         null,
         null,
         null,
         null,
         null,
         null,
         null,
         null,
         null,
         null,
         null,
         null,
         null,
         null,
         null,
         null,
         null,
         null,
         null,
         null,
         null,
         null,
         null,
         null,
         null,
         null,
         null,
         null,
         null,
         null,
         null,
         null,
         null,
         null,
         null,
         null,
         null,
         null,
         null,
         null,
         null,
         null,
         null,
         null,
         null,
         null,
         null,
         null,
         null,
         null,
         null,
         null,
         null,
         null,
         null,
         null,
         null,
         null,
         null,
         null,
         null,
         null,
         null,
         null,
         null,
         null,
         null,
         null,
         null,
         null,
         null,
         null,
         null,
         null,
         null,
         null,
         null,
         null,
         null,
         null,
         null,
         null,
         null,
         null,
         "0",
         null,
         null,
         null,
         null,
         null,
         null,
         null,
         null,
         null,
         null,
         null,
         null,
         null,
         null,
         null,
         null,
         null,
         null,
         null,
         null,
         null,
         null,
         null,
         null,
         null,
         null,
         null,
         null,
         null,
         null,
         null,
         null,
         null,
         null,
         null,
         null,
         null,
         null,
         null,
         null,
         null,
         null,
         "0",
         "0",
         "0",
         "0",
         "0",
         "0",
         "0",
         "0",
         "0",
         "0",
         "0",
         "0",
         "0",
         "0",
         "0",
         "0",
         "0",
         "0",
         "0",
         "0",
         "0",
         "0",
         "0",
         "0",
         "0",
         "0",
         "0",
         "0",
         "0",
         "0",
         "0",
         "0",
         "0",
         "0",
         "0",
         "0",
         "0",
         "0",
         "0",
         "0",
         "0",
         "0",
         "0",
         "0",
         "0",
         "0",
         "0",
         "0",
         "0",
         "0",
         "0",
         "0",
         "0",
         "0",
         "0",
         "0",
         "0",
         "0",
         "0",
         "0",
         "0",
         "0",
         "0",
         "0",
         "0",
         "0",
         "0",
         "0",
         "0",
         "0",
         "0",
         "0",
         "0",
         "0",
         "0",
         "0",
         "0",
         "0",
         "0",
         "0"
        ],
        [
         "4",
         "H",
         "2018GQ0000249",
         "9",
         "10901",
         "-9",
         "4",
         "53",
         "1169060",
         "1184371",
         "0",
         "1",
         "2",
         null,
         null,
         null,
         null,
         null,
         null,
         null,
         null,
         null,
         null,
         null,
         null,
         "1.0",
         null,
         null,
         null,
         null,
         null,
         null,
         null,
         null,
         null,
         null,
         null,
         null,
         null,
         null,
         null,
         null,
         null,
         null,
         null,
         null,
         null,
         null,
         null,
         null,
         null,
         null,
         null,
         null,
         null,
         null,
         null,
         null,
         null,
         null,
         null,
         null,
         null,
         null,
         null,
         null,
         null,
         null,
         null,
         null,
         null,
         null,
         null,
         null,
         null,
         null,
         null,
         null,
         null,
         null,
         null,
         null,
         null,
         null,
         null,
         null,
         null,
         null,
         null,
         null,
         null,
         null,
         null,
         null,
         null,
         null,
         null,
         null,
         null,
         null,
         null,
         null,
         null,
         null,
         null,
         null,
         null,
         null,
         null,
         null,
         null,
         null,
         null,
         null,
         null,
         null,
         "0",
         null,
         null,
         null,
         null,
         null,
         null,
         null,
         null,
         null,
         null,
         null,
         null,
         null,
         null,
         null,
         null,
         null,
         null,
         null,
         null,
         null,
         null,
         null,
         null,
         null,
         null,
         null,
         null,
         null,
         null,
         null,
         null,
         null,
         null,
         null,
         null,
         null,
         null,
         null,
         null,
         null,
         null,
         "0",
         "0",
         "0",
         "0",
         "0",
         "0",
         "0",
         "0",
         "0",
         "0",
         "0",
         "0",
         "0",
         "0",
         "0",
         "0",
         "0",
         "0",
         "0",
         "0",
         "0",
         "0",
         "0",
         "0",
         "0",
         "0",
         "0",
         "0",
         "0",
         "0",
         "0",
         "0",
         "0",
         "0",
         "0",
         "0",
         "0",
         "0",
         "0",
         "0",
         "0",
         "0",
         "0",
         "0",
         "0",
         "0",
         "0",
         "0",
         "0",
         "0",
         "0",
         "0",
         "0",
         "0",
         "0",
         "0",
         "0",
         "0",
         "0",
         "0",
         "0",
         "0",
         "0",
         "0",
         "0",
         "0",
         "0",
         "0",
         "0",
         "0",
         "0",
         "0",
         "0",
         "0",
         "0",
         "0",
         "0",
         "0",
         "0",
         "0"
        ]
       ],
       "shape": {
        "columns": 238,
        "rows": 5
       }
      },
      "text/html": [
       "<div>\n",
       "<style scoped>\n",
       "    .dataframe tbody tr th:only-of-type {\n",
       "        vertical-align: middle;\n",
       "    }\n",
       "\n",
       "    .dataframe tbody tr th {\n",
       "        vertical-align: top;\n",
       "    }\n",
       "\n",
       "    .dataframe thead th {\n",
       "        text-align: right;\n",
       "    }\n",
       "</style>\n",
       "<table border=\"1\" class=\"dataframe\">\n",
       "  <thead>\n",
       "    <tr style=\"text-align: right;\">\n",
       "      <th></th>\n",
       "      <th>RT</th>\n",
       "      <th>SERIALNO</th>\n",
       "      <th>DIVISION</th>\n",
       "      <th>PUMA10</th>\n",
       "      <th>PUMA20</th>\n",
       "      <th>REGION</th>\n",
       "      <th>ST</th>\n",
       "      <th>ADJHSG</th>\n",
       "      <th>ADJINC</th>\n",
       "      <th>WGTP</th>\n",
       "      <th>...</th>\n",
       "      <th>WGTP71</th>\n",
       "      <th>WGTP72</th>\n",
       "      <th>WGTP73</th>\n",
       "      <th>WGTP74</th>\n",
       "      <th>WGTP75</th>\n",
       "      <th>WGTP76</th>\n",
       "      <th>WGTP77</th>\n",
       "      <th>WGTP78</th>\n",
       "      <th>WGTP79</th>\n",
       "      <th>WGTP80</th>\n",
       "    </tr>\n",
       "  </thead>\n",
       "  <tbody>\n",
       "    <tr>\n",
       "      <th>0</th>\n",
       "      <td>H</td>\n",
       "      <td>2018GQ0000023</td>\n",
       "      <td>9</td>\n",
       "      <td>10100</td>\n",
       "      <td>-9</td>\n",
       "      <td>4</td>\n",
       "      <td>53</td>\n",
       "      <td>1169060</td>\n",
       "      <td>1184371</td>\n",
       "      <td>0</td>\n",
       "      <td>...</td>\n",
       "      <td>0</td>\n",
       "      <td>0</td>\n",
       "      <td>0</td>\n",
       "      <td>0</td>\n",
       "      <td>0</td>\n",
       "      <td>0</td>\n",
       "      <td>0</td>\n",
       "      <td>0</td>\n",
       "      <td>0</td>\n",
       "      <td>0</td>\n",
       "    </tr>\n",
       "    <tr>\n",
       "      <th>1</th>\n",
       "      <td>H</td>\n",
       "      <td>2018GQ0000078</td>\n",
       "      <td>9</td>\n",
       "      <td>11502</td>\n",
       "      <td>-9</td>\n",
       "      <td>4</td>\n",
       "      <td>53</td>\n",
       "      <td>1169060</td>\n",
       "      <td>1184371</td>\n",
       "      <td>0</td>\n",
       "      <td>...</td>\n",
       "      <td>0</td>\n",
       "      <td>0</td>\n",
       "      <td>0</td>\n",
       "      <td>0</td>\n",
       "      <td>0</td>\n",
       "      <td>0</td>\n",
       "      <td>0</td>\n",
       "      <td>0</td>\n",
       "      <td>0</td>\n",
       "      <td>0</td>\n",
       "    </tr>\n",
       "    <tr>\n",
       "      <th>2</th>\n",
       "      <td>H</td>\n",
       "      <td>2018GQ0000117</td>\n",
       "      <td>9</td>\n",
       "      <td>11900</td>\n",
       "      <td>-9</td>\n",
       "      <td>4</td>\n",
       "      <td>53</td>\n",
       "      <td>1169060</td>\n",
       "      <td>1184371</td>\n",
       "      <td>0</td>\n",
       "      <td>...</td>\n",
       "      <td>0</td>\n",
       "      <td>0</td>\n",
       "      <td>0</td>\n",
       "      <td>0</td>\n",
       "      <td>0</td>\n",
       "      <td>0</td>\n",
       "      <td>0</td>\n",
       "      <td>0</td>\n",
       "      <td>0</td>\n",
       "      <td>0</td>\n",
       "    </tr>\n",
       "    <tr>\n",
       "      <th>3</th>\n",
       "      <td>H</td>\n",
       "      <td>2018GQ0000163</td>\n",
       "      <td>9</td>\n",
       "      <td>11401</td>\n",
       "      <td>-9</td>\n",
       "      <td>4</td>\n",
       "      <td>53</td>\n",
       "      <td>1169060</td>\n",
       "      <td>1184371</td>\n",
       "      <td>0</td>\n",
       "      <td>...</td>\n",
       "      <td>0</td>\n",
       "      <td>0</td>\n",
       "      <td>0</td>\n",
       "      <td>0</td>\n",
       "      <td>0</td>\n",
       "      <td>0</td>\n",
       "      <td>0</td>\n",
       "      <td>0</td>\n",
       "      <td>0</td>\n",
       "      <td>0</td>\n",
       "    </tr>\n",
       "    <tr>\n",
       "      <th>4</th>\n",
       "      <td>H</td>\n",
       "      <td>2018GQ0000249</td>\n",
       "      <td>9</td>\n",
       "      <td>10901</td>\n",
       "      <td>-9</td>\n",
       "      <td>4</td>\n",
       "      <td>53</td>\n",
       "      <td>1169060</td>\n",
       "      <td>1184371</td>\n",
       "      <td>0</td>\n",
       "      <td>...</td>\n",
       "      <td>0</td>\n",
       "      <td>0</td>\n",
       "      <td>0</td>\n",
       "      <td>0</td>\n",
       "      <td>0</td>\n",
       "      <td>0</td>\n",
       "      <td>0</td>\n",
       "      <td>0</td>\n",
       "      <td>0</td>\n",
       "      <td>0</td>\n",
       "    </tr>\n",
       "  </tbody>\n",
       "</table>\n",
       "<p>5 rows × 238 columns</p>\n",
       "</div>"
      ],
      "text/plain": [
       "  RT       SERIALNO  DIVISION  PUMA10  PUMA20  REGION  ST   ADJHSG   ADJINC  \\\n",
       "0  H  2018GQ0000023         9   10100      -9       4  53  1169060  1184371   \n",
       "1  H  2018GQ0000078         9   11502      -9       4  53  1169060  1184371   \n",
       "2  H  2018GQ0000117         9   11900      -9       4  53  1169060  1184371   \n",
       "3  H  2018GQ0000163         9   11401      -9       4  53  1169060  1184371   \n",
       "4  H  2018GQ0000249         9   10901      -9       4  53  1169060  1184371   \n",
       "\n",
       "   WGTP  ...  WGTP71  WGTP72  WGTP73  WGTP74  WGTP75  WGTP76  WGTP77  WGTP78  \\\n",
       "0     0  ...       0       0       0       0       0       0       0       0   \n",
       "1     0  ...       0       0       0       0       0       0       0       0   \n",
       "2     0  ...       0       0       0       0       0       0       0       0   \n",
       "3     0  ...       0       0       0       0       0       0       0       0   \n",
       "4     0  ...       0       0       0       0       0       0       0       0   \n",
       "\n",
       "   WGTP79  WGTP80  \n",
       "0       0       0  \n",
       "1       0       0  \n",
       "2       0       0  \n",
       "3       0       0  \n",
       "4       0       0  \n",
       "\n",
       "[5 rows x 238 columns]"
      ]
     },
     "execution_count": 22,
     "metadata": {},
     "output_type": "execute_result"
    }
   ],
   "source": [
    "# PUMS 2018-22 5 year household data\n",
    "pums = pd.read_csv('data/PUMS/psam_h53.csv')\n",
    "pums.head()"
   ]
  },
  {
   "cell_type": "code",
   "execution_count": 23,
   "metadata": {},
   "outputs": [
    {
     "data": {
      "text/plain": [
       "NP\n",
       "2     56386\n",
       "1     55637\n",
       "3     21608\n",
       "4     17987\n",
       "0      8699\n",
       "5      7746\n",
       "6      3064\n",
       "7      1218\n",
       "8       494\n",
       "9       192\n",
       "10      113\n",
       "11       42\n",
       "12       35\n",
       "13        9\n",
       "20        6\n",
       "16        3\n",
       "14        3\n",
       "15        3\n",
       "17        1\n",
       "Name: count, dtype: int64"
      ]
     },
     "execution_count": 23,
     "metadata": {},
     "output_type": "execute_result"
    }
   ],
   "source": [
    "pums['NP'].value_counts()"
   ]
  },
  {
   "cell_type": "code",
   "execution_count": 24,
   "metadata": {},
   "outputs": [
    {
     "data": {
      "text/plain": [
       "HHSIZE\n",
       "SIZE2    56386\n",
       "SIZE1    55637\n",
       "SIZE4    30916\n",
       "SIZE3    21608\n",
       "NA        8699\n",
       "Name: count, dtype: int64"
      ]
     },
     "execution_count": 24,
     "metadata": {},
     "output_type": "execute_result"
    }
   ],
   "source": [
    "# recode Household size to categories\n",
    "\n",
    "size_cat = [\n",
    "    (pums['NP'] == 1),\n",
    "    (pums['NP'] == 2),\n",
    "    (pums['NP'] == 3),\n",
    "    (pums['NP'] >= 4)\n",
    "]\n",
    "size_cat_labels = ['SIZE1','SIZE2','SIZE3','SIZE4']\n",
    "pums['HHSIZE'] = np.select(size_cat, size_cat_labels, default='NA')\n",
    "\n",
    "pums['HHSIZE'].value_counts() # freq table"
   ]
  },
  {
   "cell_type": "code",
   "execution_count": 11,
   "metadata": {},
   "outputs": [
    {
     "data": {
      "text/plain": [
       "INC_CAT\n",
       "INC4    82446\n",
       "NA      25927\n",
       "INC3    23390\n",
       "INC2    23352\n",
       "INC1    18131\n",
       "Name: count, dtype: int64"
      ]
     },
     "execution_count": 11,
     "metadata": {},
     "output_type": "execute_result"
    }
   ],
   "source": [
    "# recode income to categories\n",
    "pums['HHINC_22'] = pums['HINCP'] * 1.042311 # 2022 ADJINC factor\n",
    "\n",
    "income_cat = [\n",
    "    (pums['HHINC_22'] < 25000),\n",
    "    (pums['HHINC_22'] >= 25000) & (pums['HHINC_22'] < 50000),\n",
    "    (pums['HHINC_22'] >= 50000) & (pums['HHINC_22'] < 75000),\n",
    "    (pums['HHINC_22'] >= 75000)\n",
    "]\n",
    "income_cat_labels = ['INC1','INC2','INC3','INC4']\n",
    "pums['INC_CAT'] = np.select(income_cat, income_cat_labels, default='NA')\n",
    "\n",
    "pums['INC_CAT'].value_counts() # freq table"
   ]
  },
  {
   "cell_type": "code",
   "execution_count": 17,
   "metadata": {},
   "outputs": [],
   "source": [
    "pums_sizebyinc = pd.crosstab(pums['HHSIZE'],pums['INC_CAT'], rownames=['HHSize'],colnames=['HHIncome'])\n",
    "pums_sizebyinc.to_csv('PUMS_SizebyIncome.csv')"
   ]
  },
  {
   "cell_type": "code",
   "execution_count": 8,
   "metadata": {},
   "outputs": [],
   "source": [
    "# PUMS 2018-22 5 year person data\n",
    "pumsp = pd.read_csv('data/PUMS/psam_p53.csv')"
   ]
  },
  {
   "cell_type": "code",
   "execution_count": 25,
   "metadata": {},
   "outputs": [],
   "source": [
    "# recode workers to cat\n",
    "# ESR = Employment Status Recode\n",
    "# from MCCOG: ESR %in% c(1,2,4,5) ~ 1, # Employed or Armed Forces\n",
    "#             ESR %in% c(3,6) | is.na(ESR) ~ 0 # # Unemployed, Not in Labor Force, or under 16\n",
    "\n",
    "pumsp['Worker'] = np.where(pumsp['ESR'].isin([1,2,4,5]),1,0)\n",
    "\n",
    "# Group by serial no, join to HH records\n",
    "pums_workers = pumsp.groupby(['SERIALNO'])['Worker'].sum()\n"
   ]
  },
  {
   "cell_type": "code",
   "execution_count": 26,
   "metadata": {},
   "outputs": [],
   "source": [
    "pums2 = pums.merge(pums_workers, how=\"left\", on=\"SERIALNO\")"
   ]
  },
  {
   "cell_type": "code",
   "execution_count": 27,
   "metadata": {},
   "outputs": [
    {
     "data": {
      "text/plain": [
       "Index(['RT', 'SERIALNO', 'DIVISION', 'PUMA10', 'PUMA20', 'REGION', 'ST',\n",
       "       'ADJHSG', 'ADJINC', 'WGTP',\n",
       "       ...\n",
       "       'WGTP73', 'WGTP74', 'WGTP75', 'WGTP76', 'WGTP77', 'WGTP78', 'WGTP79',\n",
       "       'WGTP80', 'HHSIZE', 'Worker'],\n",
       "      dtype='object', length=240)"
      ]
     },
     "execution_count": 27,
     "metadata": {},
     "output_type": "execute_result"
    }
   ],
   "source": [
    "pums2.columns\n"
   ]
  },
  {
   "cell_type": "code",
   "execution_count": 28,
   "metadata": {},
   "outputs": [],
   "source": [
    "\n",
    "workers_cat = [\n",
    "    (pums2['Worker'] == 0),\n",
    "    (pums2['Worker'] == 1),\n",
    "    (pums2['Worker'] == 2),\n",
    "    (pums2['Worker'] >= 3)\n",
    "]\n",
    "workers_cat_labels = ['WRK0','WRK1','WRK2','WRK3']\n",
    "pums2['WRK_CAT'] = np.select(workers_cat, workers_cat_labels, default='NA')\n",
    "\n",
    "pums_sizebywrk = pd.crosstab(pums2['HHSIZE'],pums2['WRK_CAT'], rownames=['HHSize'],colnames=['HHWorkers'])\n",
    "pums_sizebywrk.to_csv('PUMS_SizebyWorkers.csv')"
   ]
  },
  {
   "cell_type": "code",
   "execution_count": 16,
   "metadata": {},
   "outputs": [
    {
     "data": {
      "text/html": [
       "<div>\n",
       "<style scoped>\n",
       "    .dataframe tbody tr th:only-of-type {\n",
       "        vertical-align: middle;\n",
       "    }\n",
       "\n",
       "    .dataframe tbody tr th {\n",
       "        vertical-align: top;\n",
       "    }\n",
       "\n",
       "    .dataframe thead th {\n",
       "        text-align: right;\n",
       "    }\n",
       "</style>\n",
       "<table border=\"1\" class=\"dataframe\">\n",
       "  <thead>\n",
       "    <tr style=\"text-align: right;\">\n",
       "      <th></th>\n",
       "      <th>NO</th>\n",
       "      <th>HHSIZE</th>\n",
       "      <th>HHINC</th>\n",
       "      <th>HHWRK</th>\n",
       "      <th>TOTHH</th>\n",
       "    </tr>\n",
       "  </thead>\n",
       "  <tbody>\n",
       "    <tr>\n",
       "      <th>0</th>\n",
       "      <td>1</td>\n",
       "      <td>1</td>\n",
       "      <td>1</td>\n",
       "      <td>0</td>\n",
       "      <td>0</td>\n",
       "    </tr>\n",
       "    <tr>\n",
       "      <th>1</th>\n",
       "      <td>1</td>\n",
       "      <td>1</td>\n",
       "      <td>1</td>\n",
       "      <td>1</td>\n",
       "      <td>0</td>\n",
       "    </tr>\n",
       "    <tr>\n",
       "      <th>2</th>\n",
       "      <td>1</td>\n",
       "      <td>1</td>\n",
       "      <td>1</td>\n",
       "      <td>2</td>\n",
       "      <td>0</td>\n",
       "    </tr>\n",
       "    <tr>\n",
       "      <th>3</th>\n",
       "      <td>1</td>\n",
       "      <td>1</td>\n",
       "      <td>1</td>\n",
       "      <td>3</td>\n",
       "      <td>0</td>\n",
       "    </tr>\n",
       "    <tr>\n",
       "      <th>4</th>\n",
       "      <td>1</td>\n",
       "      <td>1</td>\n",
       "      <td>2</td>\n",
       "      <td>0</td>\n",
       "      <td>0</td>\n",
       "    </tr>\n",
       "  </tbody>\n",
       "</table>\n",
       "</div>"
      ],
      "text/plain": [
       "   NO  HHSIZE  HHINC  HHWRK  TOTHH\n",
       "0   1       1      1      0      0\n",
       "1   1       1      1      1      0\n",
       "2   1       1      1      2      0\n",
       "3   1       1      1      3      0\n",
       "4   1       1      2      0      0"
      ]
     },
     "execution_count": 16,
     "metadata": {},
     "output_type": "execute_result"
    }
   ],
   "source": [
    "from itertools import product\n",
    "\n",
    "no = [1,2,3,4,5,6,7,8,9,10]\n",
    "hhsize = [1,2,3,4] \n",
    "hhinc = [1,2,3,4]\n",
    "hhwrk = [0,1,2,3]\n",
    "tothh = [0]\n",
    "combinations = list(product(no,hhsize,hhinc,hhwrk,tothh))\n",
    "test = pd.DataFrame(combinations, columns=['NO','HHSIZE','HHINC','HHWRK','TOTHH'])\n",
    "test.head()"
   ]
  }
 ],
 "metadata": {
  "kernelspec": {
   "display_name": "scog-taz-census-py-Ff0LHJZJ-py3.12",
   "language": "python",
   "name": "python3"
  },
  "language_info": {
   "codemirror_mode": {
    "name": "ipython",
    "version": 3
   },
   "file_extension": ".py",
   "mimetype": "text/x-python",
   "name": "python",
   "nbconvert_exporter": "python",
   "pygments_lexer": "ipython3",
   "version": "3.12.7"
  }
 },
 "nbformat": 4,
 "nbformat_minor": 2
}
