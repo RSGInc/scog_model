{
 "cells": [
  {
   "cell_type": "markdown",
   "id": "ecb5d255",
   "metadata": {},
   "source": [
    "# K-factor calibration"
   ]
  },
  {
   "cell_type": "code",
   "execution_count": 1,
   "id": "a227ab81",
   "metadata": {},
   "outputs": [],
   "source": [
    "# setup\n",
    "import pandas as pd \n",
    "import numpy as np\n",
    "import matplotlib.pyplot as plt\n",
    "import geopandas as gpd\n",
    "import openmatrix as omx\n",
    "import os"
   ]
  },
  {
   "cell_type": "code",
   "execution_count": 2,
   "id": "bc235e1b",
   "metadata": {},
   "outputs": [],
   "source": [
    "# file paths\n",
    "projdir = r\"C:\\Users\\michael.mccarthy\\Resource Systems Group, Inc\\Projects - 2024-Model & RTP Update-240130\\3_Model\"\n",
    "survey_path = 'SCOG_HTS_trips_toNewZones_Autos.csv'\n",
    "model_omx = os.path.join(projdir,'Tasks','6_Calibration','modExport.omx')\n",
    "survey_omx = os.path.join(projdir,'Tasks','6_Calibration','SCOG_HTS_trips.omx')\n",
    "replica_omx = os.path.join(projdir,'Tasks','6_Calibration','SCOG_Replica_trips.omx')\n",
    "zonal_omx = os.path.join(projdir,'Tasks','6_Calibration','kfactor_zone.omx')"
   ]
  },
  {
   "cell_type": "code",
   "execution_count": 3,
   "id": "b0d16c2e",
   "metadata": {},
   "outputs": [],
   "source": [
    "def omxtoDataframe(thismatrix,indexmap,corestr):\n",
    "    df = pd.DataFrame(thismatrix, columns=indexmap, index=indexmap).reset_index().melt(id_vars='index').rename(columns = {'index':'origin', 'variable':'destination', 'value':corestr})\n",
    "    return df\n",
    "\n",
    "def district_kfac(ratio_mtx,district_map,core,limit_low,limit_high,quant):\n",
    "    # limit/adjust\n",
    "    ratio_mtx[ratio_mtx > limit_high] = limit_high\n",
    "    ratio_mtx[ratio_mtx == 0] = np.nan\n",
    "    ratio_mtx[ratio_mtx < limit_low] = limit_low\n",
    "    # group by district\n",
    "    mat_df = omxtoDataframe(ratio_mtx,district_map,core)\n",
    "    mat_df_75 = mat_df.groupby(['origin','destination'])[core].quantile(quant).reset_index()\n",
    "    # keep externals at 1.0\n",
    "    mat_df_75.loc[(mat_df_75['origin'] == 99) | (mat_df_75['destination'] == 99),core] = 1\n",
    "    # then disaggregate back into zonal matrix\n",
    "    mat_k = mat_df.merge(mat_df_75, how='left', on=['origin','destination'])\n",
    "    return np.array(mat_k[core+'_y']).reshape(372,372)"
   ]
  },
  {
   "cell_type": "code",
   "execution_count": 4,
   "id": "dac2e444",
   "metadata": {},
   "outputs": [],
   "source": [
    "# load matrices\n",
    "model_mtx = omx.open_file(model_omx)\n",
    "survey_mtx = omx.open_file(survey_omx)\n",
    "replica_mtx = omx.open_file(replica_omx)\n"
   ]
  },
  {
   "cell_type": "code",
   "execution_count": 5,
   "id": "f4bc26e2",
   "metadata": {},
   "outputs": [],
   "source": [
    "# TAZ mapping\n",
    "tazs = np.array(list(model_mtx.mapping('NO').keys()))"
   ]
  },
  {
   "cell_type": "code",
   "execution_count": 6,
   "id": "9b46aec1",
   "metadata": {},
   "outputs": [],
   "source": [
    "districts_path = os.path.join(projdir,'Data','Passive Data 2019','TAZ2022_Districts.csv')\n",
    "districts = pd.read_csv(districts_path)\n",
    "districts = districts[['NO','zone_id']]\n",
    "districts = districts.rename(columns={'zone_id':'District'})\n",
    "dist_map = np.array(list(districts['District']))"
   ]
  },
  {
   "cell_type": "code",
   "execution_count": 7,
   "id": "f8b84324",
   "metadata": {},
   "outputs": [],
   "source": [
    "# adjust to model trips total\n",
    "survey_hbw_scale = np.array(model_mtx['21']).sum() / np.array(survey_mtx['HBW']).sum()\n",
    "survey_hbo_scale = np.array(model_mtx['22']).sum() / np.array(survey_mtx['HBO']).sum()\n",
    "survey_nhb_scale = np.array(model_mtx['26']).sum() / np.array(survey_mtx['NHB']).sum()\n",
    "\n",
    "replica_hbw_scale = np.array(model_mtx['21']).sum() / np.array(replica_mtx['HBW']).sum()\n",
    "replica_hbo_scale = np.array(model_mtx['22']).sum() / np.array(replica_mtx['HBO']).sum()\n",
    "replica_nhb_scale = np.array(model_mtx['26']).sum() / np.array(replica_mtx['NHB']).sum()\n",
    "\n",
    "# blended observed data\n",
    "obs_hbw = np.array(survey_mtx['HBW'] * survey_hbw_scale) * 0.75 + np.array(replica_mtx['HBW'] * replica_hbw_scale) * 0.25\n",
    "obs_hbo = np.array(survey_mtx['HBO'] * survey_hbo_scale) * 0.75 + np.array(replica_mtx['HBO'] * replica_hbo_scale) * 0.25\n",
    "obs_nhb = np.array(survey_mtx['NHB'] * survey_nhb_scale) * 0.75 + np.array(replica_mtx['NHB'] * replica_nhb_scale) * 0.25"
   ]
  },
  {
   "cell_type": "code",
   "execution_count": 8,
   "id": "d8efeb14",
   "metadata": {},
   "outputs": [
    {
     "name": "stderr",
     "output_type": "stream",
     "text": [
      "C:\\Users\\michael.mccarthy\\AppData\\Local\\Temp\\ipykernel_23828\\989469914.py:3: RuntimeWarning: divide by zero encountered in divide\n",
      "  hbw_vs_obs = obs_hbw / mod_hbw\n",
      "C:\\Users\\michael.mccarthy\\AppData\\Local\\Temp\\ipykernel_23828\\989469914.py:3: RuntimeWarning: invalid value encountered in divide\n",
      "  hbw_vs_obs = obs_hbw / mod_hbw\n",
      "C:\\Users\\michael.mccarthy\\AppData\\Local\\Temp\\ipykernel_23828\\989469914.py:7: RuntimeWarning: divide by zero encountered in divide\n",
      "  hbo_vs_obs = obs_hbo / mod_hbo\n",
      "C:\\Users\\michael.mccarthy\\AppData\\Local\\Temp\\ipykernel_23828\\989469914.py:7: RuntimeWarning: invalid value encountered in divide\n",
      "  hbo_vs_obs = obs_hbo / mod_hbo\n",
      "C:\\Users\\michael.mccarthy\\AppData\\Local\\Temp\\ipykernel_23828\\989469914.py:11: RuntimeWarning: divide by zero encountered in divide\n",
      "  nhb_vs_obs = obs_nhb / mod_nhb\n",
      "C:\\Users\\michael.mccarthy\\AppData\\Local\\Temp\\ipykernel_23828\\989469914.py:11: RuntimeWarning: invalid value encountered in divide\n",
      "  nhb_vs_obs = obs_nhb / mod_nhb\n"
     ]
    }
   ],
   "source": [
    "# HBW observed / model\n",
    "mod_hbw = np.array(model_mtx['21'])\n",
    "hbw_vs_obs = obs_hbw / mod_hbw\n",
    "\n",
    "# HBO observed / model\n",
    "mod_hbo = np.array(model_mtx['22'])\n",
    "hbo_vs_obs = obs_hbo / mod_hbo\n",
    "\n",
    "# NHB observed / model\n",
    "mod_nhb = np.array(model_mtx['26'])\n",
    "nhb_vs_obs = obs_nhb / mod_nhb"
   ]
  },
  {
   "cell_type": "code",
   "execution_count": 9,
   "id": "7e3ed831",
   "metadata": {},
   "outputs": [
    {
     "data": {
      "text/plain": [
       "/lookup/NO (Array(372,)) np.str_('')\n",
       "  atom := UInt32Atom(shape=(), dflt=np.uint32(0))\n",
       "  maindim := 0\n",
       "  flavor := 'numpy'\n",
       "  byteorder := 'little'\n",
       "  chunkshape := None"
      ]
     },
     "execution_count": 9,
     "metadata": {},
     "output_type": "execute_result"
    }
   ],
   "source": [
    "# create omx to hold zonal result\n",
    "zonal = omx.open_file(zonal_omx,'w')\n",
    "zonal.create_mapping('NO', tazs) # add taz mapping"
   ]
  },
  {
   "cell_type": "code",
   "execution_count": 10,
   "id": "a59d1803",
   "metadata": {},
   "outputs": [],
   "source": [
    "# limits initially 0.8 to 1.2\n",
    "zonal['HBW_K'] = district_kfac(hbw_vs_obs,dist_map,'HBW',0.5,1.5,0.75)\n",
    "zonal['HBO_K'] = district_kfac(hbo_vs_obs,dist_map,'HBO',0.5,1.5,0.75)\n",
    "zonal['NHB_K'] = district_kfac(nhb_vs_obs,dist_map,'NHB',0.5,1.5,0.75)"
   ]
  },
  {
   "cell_type": "code",
   "execution_count": 11,
   "id": "80bc20dd",
   "metadata": {},
   "outputs": [],
   "source": [
    "# close files\n",
    "model_mtx.close()\n",
    "survey_mtx.close()\n",
    "replica_mtx.close()\n",
    "zonal.close()"
   ]
  }
 ],
 "metadata": {
  "kernelspec": {
   "display_name": ".venv",
   "language": "python",
   "name": "python3"
  },
  "language_info": {
   "codemirror_mode": {
    "name": "ipython",
    "version": 3
   },
   "file_extension": ".py",
   "mimetype": "text/x-python",
   "name": "python",
   "nbconvert_exporter": "python",
   "pygments_lexer": "ipython3",
   "version": "3.12.7"
  }
 },
 "nbformat": 4,
 "nbformat_minor": 5
}
