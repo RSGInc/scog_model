{
 "cells": [
  {
   "cell_type": "markdown",
   "metadata": {},
   "source": [
    "# SCOG Trip Distribution\n",
    "\n",
    "## Tag survey trips by district\n",
    "\n",
    "michael.mccarthy@rsginc.com\n"
   ]
  },
  {
   "cell_type": "code",
   "execution_count": 25,
   "metadata": {},
   "outputs": [],
   "source": [
    "# setup\n",
    "import pandas as pd \n",
    "import numpy as np\n",
    "import matplotlib.pyplot as plt\n",
    "import geopandas as gpd\n",
    "import openmatrix as omx\n",
    "import os.path\n"
   ]
  },
  {
   "cell_type": "code",
   "execution_count": 26,
   "metadata": {},
   "outputs": [],
   "source": [
    "def freqPlot(df, var, query=None):\n",
    "    fig, axes = plt.subplots(nrows=1, ncols=1, figsize=(5, 5))\n",
    "\n",
    "    if query != None:\n",
    "        data = df.query(query)\n",
    "    else: \n",
    "        data = df\n",
    "    \n",
    "    counts = data[var].value_counts()\n",
    "    axes.bar(counts.index, counts.values)\n",
    "    axes.set_title(var)\n",
    "    axes.set_xlabel(var)\n",
    "    axes.set_ylabel('Frequency')\n",
    "\n",
    "    plt.tight_layout()\n",
    "    plt.show()\n",
    "\n",
    "# from Bishoy\n",
    "def GetTripRatesUsingOneVars(hh_df, trips_df, x, groups, cat, *args, **kwargs):\n",
    "    \"\"\"\n",
    "    Calculate trip rates per cross-classified hhh\n",
    "    \n",
    "    Parameters:\n",
    "    HTS_df: trip records joined to hh + persons\n",
    "    x: x-class variable no. 1\n",
    "\n",
    "    groups: trip purpose, i.e., hbs, hbw, ... etc.!\n",
    "    cat: usually triprate (continous variable), but if trip, we will report the absolute number of trips (discrete)\n",
    "    \"\"\"\n",
    "    HH_PivotTable = hh_df.groupby([x])['hh_weight'].sum().reset_index()\n",
    "    if groups != \"all\":\n",
    "        trips_df = trips_df[trips_df[\"model_purpose\"] == groups].copy()\n",
    "    else:\n",
    "        trips_df = trips_df.copy()\n",
    "\n",
    "    # Finally, pivot the trips using the defined x and y by summing up the trip_weight\n",
    "    Trip_PivotTable = trips_df.groupby([x])['trip_weight'].sum().reset_index()\n",
    "    \n",
    "    if cat == \"trip\":\n",
    "        result_table=pd.merge(HH_PivotTable, Trip_PivotTable, left_on=x, right_on=x, how='inner')\n",
    "\n",
    "    else:\n",
    "        result_table=pd.merge(HH_PivotTable, Trip_PivotTable, left_on=x, right_on=x, how='inner')\n",
    "        result_table['trips_rate'] = result_table['trip_weight']/result_table['hh_weight']\n",
    "    result_table=result_table.fillna(0)\n",
    "        \n",
    "    return result_table\n",
    "\n",
    "def GetTripRatesUsingTwoVars(hh_df, trips_df, x, y, groups, cat, *args, **kwargs):\n",
    "    \"\"\"\n",
    "    Calculate trip rates per cross-classified hhh\n",
    "    \n",
    "    Parameters:\n",
    "    HTS_df: trip records joined to hh + persons\n",
    "    x: x-class variable no. 1\n",
    "    y: x-class variable no. 2, if any!\n",
    "    groups: trip purpose, i.e., hbs, hbw, ... etc.!\n",
    "    cat: usually triprate (continous variable), but if trip, we will report the absolute number of trips (discrete)\n",
    "    \"\"\"\n",
    "   \n",
    "    HH_PivotTable = pd.pivot_table(hh_df, values=\"hh_weight\", index=[y],\n",
    "                        columns=[x], aggfunc=np.sum)     # population\n",
    "    # Filter out the specific trip purpose: ['nhb', 'hbo', 'hbr', 'hbw', 'hbsc', 'hbc']\n",
    "    if groups != \"all\":\n",
    "        trips_df = trips_df[trips_df[\"model_purpose\"] == groups].copy()\n",
    "    else:\n",
    "        trips_df = trips_df.copy()\n",
    "\n",
    "    # Finally, pivot the trips using the defined x and y by summing up the trip_weight\n",
    "    dta = \"trip_weight\"\n",
    "    Trip_PivotTable = pd.pivot_table(trips_df, values=dta, index=[y],\n",
    "                    columns=[x], aggfunc=np.sum)     # population\n",
    "\n",
    "    if cat == \"trip\":\n",
    "        result_table = Trip_PivotTable\n",
    "    else:\n",
    "        result_table = Trip_PivotTable/HH_PivotTable    # get the rates by dividing by the number of hh's in the respective market segment\n",
    "    result_table=result_table.fillna(0)\n",
    "    return result_table\n",
    "\n",
    "def GetTripRatesUsingOneVars_Unweighted(hh_df, trips_df, x, groups, cat, *args, **kwargs):\n",
    "    \"\"\"\n",
    "    Calculate trip rates per cross-classified hhh\n",
    "    \n",
    "    Parameters:\n",
    "    HTS_df: trip records joined to hh + persons\n",
    "    x: x-class variable no. 1\n",
    "\n",
    "    groups: trip purpose, i.e., hbs, hbw, ... etc.!\n",
    "    cat: usually triprate (continous variable), but if trip, we will report the absolute number of trips (discrete)\n",
    "    \"\"\"\n",
    "    HH_PivotTable = hh_df.groupby([x])['hh_id'].count().reset_index()\n",
    "    if groups != \"all\":\n",
    "        trips_df = trips_df[trips_df[\"trip_purpose\"] == groups].copy()\n",
    "    else:\n",
    "        trips_df = trips_df.copy()\n",
    "\n",
    "    # Finally, pivot the trips using the defined x and y by summing up the trip_weight\n",
    "    Trip_PivotTable = trips_df.groupby([x])['trip_id'].count().reset_index()\n",
    "    \n",
    "    if cat == \"trip\":\n",
    "        result_table=pd.merge(HH_PivotTable, Trip_PivotTable, left_on=x, right_on=x, how='inner')\n",
    "\n",
    "    else:\n",
    "        result_table=pd.merge(HH_PivotTable, Trip_PivotTable, left_on=x, right_on=x, how='inner')\n",
    "        result_table['trips_rate'] = result_table['trip_id']/result_table['hh_id']\n",
    "    result_table=result_table.fillna(0)\n",
    "        \n",
    "    return result_table\n",
    "\n",
    "def tripQA(trips_df, lookup_pairs, qa_queries):\n",
    "    \"\"\"\n",
    "        Method for decoding survey codes (trip purpose and mode) and run queries (check reported trip duration/speed) and export sample for QA \n",
    "\n",
    "        Parameters:\n",
    "        trips_df: trips dataframe\n",
    "        decode: dict of column, lookup pairs, such as {\"o_purpose_category\": purpose_lookup_dict}\n",
    "            queries use numexpr, column names and operators passsed in one string, such as\n",
    "            df.eval(\"(mode_type == 1 & speed_mph > 4) | (mode_type == 2 & speed_mph > 20) | (speed_mph > 70)\"\n",
    "\n",
    "    \"\"\"\n",
    "\n",
    "    for dfcol, lookup in lookup_pairs.items():\n",
    "        trips_df[dfcol+\"_decode\"] = trips_df[dfcol].map(lookup)\n",
    "\n",
    "    for dfcol, query in qa_queries.items():\n",
    "        trips_df[dfcol+\"_QA\"] = trips_df.eval(query) # return True/False column\n",
    "\n",
    "    return trips_df\n",
    "\n",
    "def omxtoDataframe(thismatrix,indexmap,corestr):\n",
    "    df = pd.DataFrame(thismatrix, columns=indexmap.keys(), index=indexmap.keys()).reset_index().melt(id_vars='index').rename(columns = {'index':'origin', 'variable':'destination', 'value':corestr})\n",
    "    return df"
   ]
  },
  {
   "cell_type": "code",
   "execution_count": 27,
   "metadata": {},
   "outputs": [
    {
     "name": "stderr",
     "output_type": "stream",
     "text": [
      "C:\\Users\\michael.mccarthy\\AppData\\Local\\Temp\\ipykernel_14440\\1399605883.py:2: DtypeWarning: Columns (45) have mixed types. Specify dtype option on import or set low_memory=False.\n",
      "  survey_trips = pd.read_csv('SCOG_HTS_trips_toNewZones_Autos.csv')\n"
     ]
    }
   ],
   "source": [
    "# read in survey trips dataset\n",
    "survey_trips = pd.read_csv('SCOG_HTS_trips_toNewZones_Autos.csv')\n",
    "survey_trips.loc[((survey_trips['mode_type'] == 8) & (survey_trips['driver'] == 1)),'driver_trip_weight'] = survey_trips['trip_weight']\n",
    "\n",
    "projdir = r\"C:\\Users\\michael.mccarthy\\Resource Systems Group, Inc\\Projects - 2024-Model & RTP Update-240130\\3_Model\\Data\"\n",
    "districts_path = os.path.join(projdir,'Passive Data 2019','TAZ2022_Districts.csv')\n",
    "districts = pd.read_csv(districts_path)\n",
    "districts = districts[['NO','zone_id']]\n",
    "districts = districts.rename(columns={'zone_id':'District'})\n"
   ]
  },
  {
   "cell_type": "code",
   "execution_count": 28,
   "metadata": {},
   "outputs": [],
   "source": [
    "# join districts to origin zone\n",
    "survey_trips = survey_trips.merge(districts, left_on='o_taz', right_on='NO')\n",
    "survey_trips = survey_trips.rename(columns={'District':'o_district'})\n",
    "survey_trips = survey_trips.merge(districts, left_on='d_taz', right_on='NO')\n",
    "survey_trips = survey_trips.rename(columns={'District':'d_district'})\n",
    "survey_trips = survey_trips.drop(columns=['NO_x','NO_y'])"
   ]
  },
  {
   "cell_type": "code",
   "execution_count": 29,
   "metadata": {},
   "outputs": [],
   "source": [
    "# get district-district matrix\n",
    "dist_mat = survey_trips.pivot_table(index='o_district',columns='d_district',values='driver_trip_weight',aggfunc='sum')\n",
    "dist_mat.to_csv('survey_district_mtx.csv')"
   ]
  },
  {
   "cell_type": "code",
   "execution_count": 30,
   "metadata": {},
   "outputs": [],
   "source": [
    "dist_HBW_mat = survey_trips[survey_trips['model_purpose'] == 'HBW'].pivot_table(index='o_district',columns='d_district',values='driver_trip_weight',aggfunc='sum')\n",
    "dist_HBW_mat.to_csv('survey_district_HBW_mtx.csv')"
   ]
  },
  {
   "cell_type": "code",
   "execution_count": 31,
   "metadata": {},
   "outputs": [],
   "source": [
    "dist_HBO_mat = survey_trips[survey_trips['model_purpose'] == 'HBO'].pivot_table(index='o_district',columns='d_district',values='driver_trip_weight',aggfunc='sum')\n",
    "dist_HBO_mat.to_csv('survey_district_HBO_mtx.csv')"
   ]
  },
  {
   "cell_type": "code",
   "execution_count": 32,
   "metadata": {},
   "outputs": [],
   "source": [
    "dist_NHB_mat = survey_trips[survey_trips['model_purpose'].isin(['NHBO','NHBW'])].pivot_table(index='o_district',columns='d_district',values='driver_trip_weight',aggfunc='sum')\n",
    "dist_NHB_mat.to_csv('survey_district_NHB_mtx.csv')"
   ]
  }
 ],
 "metadata": {
  "kernelspec": {
   "display_name": ".venv",
   "language": "python",
   "name": "python3"
  },
  "language_info": {
   "codemirror_mode": {
    "name": "ipython",
    "version": 3
   },
   "file_extension": ".py",
   "mimetype": "text/x-python",
   "name": "python",
   "nbconvert_exporter": "python",
   "pygments_lexer": "ipython3",
   "version": "3.12.7"
  }
 },
 "nbformat": 4,
 "nbformat_minor": 2
}
