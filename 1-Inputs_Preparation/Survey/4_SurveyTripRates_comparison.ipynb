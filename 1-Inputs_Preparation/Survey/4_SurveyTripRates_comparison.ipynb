{
 "cells": [
  {
   "cell_type": "markdown",
   "metadata": {},
   "source": [
    "# SCOG Trip Generation\n",
    "\n",
    "## Compare trip rates to NCHRP 365 and 716\n",
    "\n",
    "michael.mccarthy@rsginc.com\n"
   ]
  },
  {
   "cell_type": "code",
   "execution_count": 2,
   "metadata": {},
   "outputs": [],
   "source": [
    "# setup\n",
    "import pandas as pd \n",
    "import numpy as np\n",
    "import matplotlib.pyplot as plt\n"
   ]
  },
  {
   "cell_type": "code",
   "execution_count": 3,
   "metadata": {},
   "outputs": [],
   "source": [
    "def freqPlot(df, var, query=None):\n",
    "    fig, axes = plt.subplots(nrows=1, ncols=1, figsize=(5, 5))\n",
    "\n",
    "    if query != None:\n",
    "        data = df.query(query)\n",
    "    else: \n",
    "        data = df\n",
    "    \n",
    "    counts = data[var].value_counts()\n",
    "    axes.bar(counts.index, counts.values)\n",
    "    axes.set_title(var)\n",
    "    axes.set_xlabel(var)\n",
    "    axes.set_ylabel('Frequency')\n",
    "\n",
    "    plt.tight_layout()\n",
    "    plt.show()\n",
    "\n",
    "# from Bishoy\n",
    "def GetTripRatesUsingOneVars(hh_df, trips_df, x, groups, cat, *args, **kwargs):\n",
    "    \"\"\"\n",
    "    Calculate trip rates per cross-classified hhh\n",
    "    \n",
    "    Parameters:\n",
    "    HTS_df: trip records joined to hh + persons\n",
    "    x: x-class variable no. 1\n",
    "\n",
    "    groups: trip purpose, i.e., hbs, hbw, ... etc.!\n",
    "    cat: usually triprate (continous variable), but if trip, we will report the absolute number of trips (discrete)\n",
    "    \"\"\"\n",
    "    HH_PivotTable = hh_df.groupby([x])['hh_weight'].sum().reset_index()\n",
    "    if groups != \"all\":\n",
    "        trips_df = trips_df[trips_df[\"model_purpose\"] == groups].copy()\n",
    "    else:\n",
    "        trips_df = trips_df.copy()\n",
    "\n",
    "    # Finally, pivot the trips using the defined x and y by summing up the trip_weight\n",
    "    Trip_PivotTable = trips_df.groupby([x])['trip_weight'].sum().reset_index()\n",
    "    \n",
    "    if cat == \"trip\":\n",
    "        result_table=pd.merge(HH_PivotTable, Trip_PivotTable, left_on=x, right_on=x, how='inner')\n",
    "\n",
    "    else:\n",
    "        result_table=pd.merge(HH_PivotTable, Trip_PivotTable, left_on=x, right_on=x, how='inner')\n",
    "        result_table['trips_rate'] = result_table['trip_weight']/result_table['hh_weight']\n",
    "    result_table=result_table.fillna(0)\n",
    "        \n",
    "    return result_table\n",
    "\n",
    "def GetTripRatesUsingTwoVars(hh_df, trips_df, x, y, groups, cat, *args, **kwargs):\n",
    "    \"\"\"\n",
    "    Calculate trip rates per cross-classified hhh\n",
    "    \n",
    "    Parameters:\n",
    "    HTS_df: trip records joined to hh + persons\n",
    "    x: x-class variable no. 1\n",
    "    y: x-class variable no. 2, if any!\n",
    "    groups: trip purpose, i.e., hbs, hbw, ... etc.!\n",
    "    cat: usually triprate (continous variable), but if trip, we will report the absolute number of trips (discrete)\n",
    "    \"\"\"\n",
    "   \n",
    "    HH_PivotTable = pd.pivot_table(hh_df, values=\"hh_weight\", index=[y],\n",
    "                        columns=[x], aggfunc=np.sum)     # population\n",
    "    # Filter out the specific trip purpose: ['nhb', 'hbo', 'hbr', 'hbw', 'hbsc', 'hbc']\n",
    "    if groups != \"all\":\n",
    "        trips_df = trips_df[trips_df[\"model_purpose\"] == groups].copy()\n",
    "    else:\n",
    "        trips_df = trips_df.copy()\n",
    "\n",
    "    # Finally, pivot the trips using the defined x and y by summing up the trip_weight\n",
    "    dta = \"trip_weight\"\n",
    "    Trip_PivotTable = pd.pivot_table(trips_df, values=dta, index=[y],\n",
    "                    columns=[x], aggfunc=np.sum)     # population\n",
    "\n",
    "    if cat == \"trip\":\n",
    "        result_table = Trip_PivotTable\n",
    "    else:\n",
    "        result_table = Trip_PivotTable/HH_PivotTable    # get the rates by dividing by the number of hh's in the respective market segment\n",
    "    result_table=result_table.fillna(0)\n",
    "    return result_table\n",
    "\n",
    "# michael\n",
    "def tripQA(trips_df, lookup_pairs, qa_queries):\n",
    "    \"\"\"\n",
    "        Method for decoding survey codes (trip purpose and mode) and run queries (check reported trip duration/speed) and export sample for QA \n",
    "\n",
    "        Parameters:\n",
    "        trips_df: trips dataframe\n",
    "        decode: dict of column, lookup pairs, such as {\"o_purpose_category\": purpose_lookup_dict}\n",
    "\n",
    "    \"\"\"\n",
    "\n",
    "    for dfcol, lookup in lookup_pairs.items():\n",
    "        trips_df[dfcol+\"_decode\"] = trips_df[dfcol].map(lookup)\n",
    "\n",
    "    for dfcol, query in qa_queries.items():\n",
    "        trips_df[dfcol+\"_QA\"] = trips_df.eval(query) # return True/False column\n",
    "\n",
    "    return trips_df\n",
    "\n",
    "def htsRecordsbyTwoVars(trips_df, count_field, x, y, groups):\n",
    "     # If counting HH records, pass count_field=\"hh_id\" and groups=\"all\"\n",
    "     # Filter out the specific trip purpose: ['nhb', 'hbo', 'hbr', 'hbw', 'hbsc', 'hbc']\n",
    "    if groups != \"all\":\n",
    "        trips_df = trips_df[trips_df[\"model_purpose\"] == groups].copy()\n",
    "    else:\n",
    "        trips_df = trips_df.copy()\n",
    "\n",
    "    Trip_PivotTable = pd.pivot_table(trips_df, values=count_field, index=[y],\n",
    "                    columns=[x], aggfunc='count')\n",
    "    \n",
    "    result_table=Trip_PivotTable.fillna(0)\n",
    "    return result_table"
   ]
  },
  {
   "cell_type": "code",
   "execution_count": 4,
   "metadata": {},
   "outputs": [],
   "source": [
    "# read in survey tables: households and trips\n",
    "\n",
    "#trips = pd.read_csv('data/trip.csv')\n",
    "hh = pd.read_csv('data/hh.csv')\n",
    "persons = pd.read_csv('data/person.csv')\n",
    "days = pd.read_csv('data/day.csv')\n",
    "\n",
    "trips = pd.read_csv('SCOG_HTS_trips.csv')"
   ]
  },
  {
   "cell_type": "code",
   "execution_count": 5,
   "metadata": {},
   "outputs": [],
   "source": [
    "# And only hh with hh_id in the accounted for trips should be considered\n",
    "hh = hh[hh['hh_id'].isin(trips['hh_id'].unique())]"
   ]
  },
  {
   "cell_type": "code",
   "execution_count": 6,
   "metadata": {},
   "outputs": [],
   "source": [
    "#Get specific variables for HH characteristics\n",
    "# NCHRP 365 1-5+ persons\n",
    "# NCHRP 716 1-5+ persons, 0-3+ workers, 0-3+ autos\n",
    "hh[\"hh_size\"] = np.where(hh[\"num_people\"]>=5, 5, hh[\"num_people\"])\n",
    "hh[\"w_size\"] = np.where(hh[\"num_workers\"]>=3, 3, hh[\"num_workers\"])\n",
    "hh[\"v_size\"] = np.where(hh[\"num_vehicles\"]>=3, 3, hh[\"num_vehicles\"])\n"
   ]
  },
  {
   "cell_type": "code",
   "execution_count": 7,
   "metadata": {},
   "outputs": [
    {
     "data": {
      "text/plain": [
       "array(['INC3', 'INC2', 'INC1', 'INC4', 'NR'], dtype=object)"
      ]
     },
     "execution_count": 7,
     "metadata": {},
     "output_type": "execute_result"
    }
   ],
   "source": [
    "# TAZ income category: INC1 < 25k; INC2 25-50k; INC3 50-75k; INC4 >75k\n",
    "# income_broad\t1\tUnder $25,000\n",
    "# income_broad\t2\t$25,000-$49,999\n",
    "# income_broad\t3\t$50,000-$74,999\n",
    "# income_broad\t4\t$75,000-$99,999\n",
    "# income_broad\t5\t$100,000-$199,999\n",
    "# income_broad\t6\t$200,000 or more\n",
    "# income_broad\t999\tPrefer not to answer\n",
    "\n",
    "\n",
    "income_cat = [\n",
    "    (hh['income_broad'] == 999),\n",
    "    (hh['income_broad'] == 1),\n",
    "    (hh['income_broad'] == 2),\n",
    "    (hh['income_broad'] == 3),\n",
    "    (hh['income_broad'] >= 4)\n",
    "]\n",
    "income_cat_labels = ['NR','INC1','INC2','INC3','INC4'] # using NR for no response\n",
    "hh[\"hh_inc\"] = np.select(income_cat, income_cat_labels, default='NR')\n",
    "\n",
    "hh[\"hh_inc\"].unique()"
   ]
  },
  {
   "cell_type": "markdown",
   "metadata": {},
   "source": [
    "## Trip Purposes"
   ]
  },
  {
   "cell_type": "code",
   "execution_count": 8,
   "metadata": {},
   "outputs": [],
   "source": [
    "# merge into 3 purpose: HBW, HBO, NHB\n",
    "trips['model_purpose'] = np.where((trips['model_purpose'] == 'NHBW') | (trips['model_purpose'] == 'NHBO'),'NHB',trips['model_purpose'])"
   ]
  },
  {
   "cell_type": "code",
   "execution_count": 9,
   "metadata": {},
   "outputs": [
    {
     "data": {
      "text/plain": [
       "model_purpose\n",
       "HBO     3058\n",
       "NHB     1997\n",
       "HBW      527\n",
       "Loop      12\n",
       "Name: count, dtype: int64"
      ]
     },
     "execution_count": 9,
     "metadata": {},
     "output_type": "execute_result"
    }
   ],
   "source": [
    "trips['model_purpose'].value_counts()"
   ]
  },
  {
   "cell_type": "code",
   "execution_count": 10,
   "metadata": {},
   "outputs": [
    {
     "data": {
      "application/vnd.microsoft.datawrangler.viewer.v0+json": {
       "columns": [
        {
         "name": "market_segment",
         "rawType": "object",
         "type": "string"
        },
        {
         "name": "2",
         "rawType": "float64",
         "type": "float"
        },
        {
         "name": "3",
         "rawType": "float64",
         "type": "float"
        },
        {
         "name": "4",
         "rawType": "float64",
         "type": "float"
        }
       ],
       "conversionMethod": "pd.DataFrame",
       "ref": "3fdf7b55-14e0-4a48-9b5c-ddd526f735bb",
       "rows": [
        [
         "II",
         "118149.31394933217",
         "106209.89233205622",
         "101222.41625812987"
        ]
       ],
       "shape": {
        "columns": 3,
        "rows": 1
       }
      },
      "text/html": [
       "<div>\n",
       "<style scoped>\n",
       "    .dataframe tbody tr th:only-of-type {\n",
       "        vertical-align: middle;\n",
       "    }\n",
       "\n",
       "    .dataframe tbody tr th {\n",
       "        vertical-align: top;\n",
       "    }\n",
       "\n",
       "    .dataframe thead th {\n",
       "        text-align: right;\n",
       "    }\n",
       "</style>\n",
       "<table border=\"1\" class=\"dataframe\">\n",
       "  <thead>\n",
       "    <tr style=\"text-align: right;\">\n",
       "      <th>travel_dow</th>\n",
       "      <th>2</th>\n",
       "      <th>3</th>\n",
       "      <th>4</th>\n",
       "    </tr>\n",
       "    <tr>\n",
       "      <th>market_segment</th>\n",
       "      <th></th>\n",
       "      <th></th>\n",
       "      <th></th>\n",
       "    </tr>\n",
       "  </thead>\n",
       "  <tbody>\n",
       "    <tr>\n",
       "      <th>II</th>\n",
       "      <td>118149.313949</td>\n",
       "      <td>106209.892332</td>\n",
       "      <td>101222.416258</td>\n",
       "    </tr>\n",
       "  </tbody>\n",
       "</table>\n",
       "</div>"
      ],
      "text/plain": [
       "travel_dow                  2              3              4\n",
       "market_segment                                             \n",
       "II              118149.313949  106209.892332  101222.416258"
      ]
     },
     "execution_count": 10,
     "metadata": {},
     "output_type": "execute_result"
    }
   ],
   "source": [
    "# trips by market segment and day of week\n",
    "markettab = trips.pivot_table(index='market_segment',columns='travel_dow',values='trip_weight', aggfunc='sum')\n",
    "markettab\n",
    "\n",
    "# markettab.to_clipboard()"
   ]
  },
  {
   "cell_type": "code",
   "execution_count": 11,
   "metadata": {},
   "outputs": [
    {
     "data": {
      "text/plain": [
       "5594"
      ]
     },
     "execution_count": 11,
     "metadata": {},
     "output_type": "execute_result"
    }
   ],
   "source": [
    "trips = trips[(trips['market_segment']=='II') & (trips['travel_dow'].isin([2, 3, 4]))]\n",
    "len(trips)"
   ]
  },
  {
   "cell_type": "markdown",
   "metadata": {},
   "source": [
    "## Prepare Trip Rates by HH Category"
   ]
  },
  {
   "cell_type": "code",
   "execution_count": 12,
   "metadata": {},
   "outputs": [],
   "source": [
    "# drop HH classifications from intial trips dataset and merge\n",
    "trips.drop(['hh_size', 'w_size'], axis=1, inplace=True)\n",
    "\n",
    "trip_join = trips.merge(hh, right_on=\"hh_id\", left_on=\"hh_id\", how=\"left\")"
   ]
  },
  {
   "cell_type": "code",
   "execution_count": 13,
   "metadata": {},
   "outputs": [
    {
     "data": {
      "application/vnd.microsoft.datawrangler.viewer.v0+json": {
       "columns": [
        {
         "name": "index",
         "rawType": "int64",
         "type": "integer"
        },
        {
         "name": "hh_size",
         "rawType": "int64",
         "type": "integer"
        },
        {
         "name": "hh_weight",
         "rawType": "float64",
         "type": "float"
        },
        {
         "name": "trip_weight",
         "rawType": "float64",
         "type": "float"
        },
        {
         "name": "trips_rate",
         "rawType": "float64",
         "type": "float"
        }
       ],
       "conversionMethod": "pd.DataFrame",
       "ref": "8c6933bb-d03a-4f9c-bd47-8c64dbe06bcd",
       "rows": [
        [
         "0",
         "1",
         "9230.158688778156",
         "45224.49138993293",
         "4.899643973067979"
        ],
        [
         "1",
         "2",
         "17002.982012096036",
         "117888.75216466175",
         "6.933416272557067"
        ],
        [
         "2",
         "3",
         "4681.874091429348",
         "41415.7316861106",
         "8.845972975208017"
        ],
        [
         "3",
         "4",
         "5088.573018132926",
         "61186.078200075775",
         "12.024211499381385"
        ],
        [
         "4",
         "5",
         "3893.536451552737",
         "59866.569098737185",
         "15.375885096661282"
        ]
       ],
       "shape": {
        "columns": 4,
        "rows": 5
       }
      },
      "text/html": [
       "<div>\n",
       "<style scoped>\n",
       "    .dataframe tbody tr th:only-of-type {\n",
       "        vertical-align: middle;\n",
       "    }\n",
       "\n",
       "    .dataframe tbody tr th {\n",
       "        vertical-align: top;\n",
       "    }\n",
       "\n",
       "    .dataframe thead th {\n",
       "        text-align: right;\n",
       "    }\n",
       "</style>\n",
       "<table border=\"1\" class=\"dataframe\">\n",
       "  <thead>\n",
       "    <tr style=\"text-align: right;\">\n",
       "      <th></th>\n",
       "      <th>hh_size</th>\n",
       "      <th>hh_weight</th>\n",
       "      <th>trip_weight</th>\n",
       "      <th>trips_rate</th>\n",
       "    </tr>\n",
       "  </thead>\n",
       "  <tbody>\n",
       "    <tr>\n",
       "      <th>0</th>\n",
       "      <td>1</td>\n",
       "      <td>9230.158689</td>\n",
       "      <td>45224.491390</td>\n",
       "      <td>4.899644</td>\n",
       "    </tr>\n",
       "    <tr>\n",
       "      <th>1</th>\n",
       "      <td>2</td>\n",
       "      <td>17002.982012</td>\n",
       "      <td>117888.752165</td>\n",
       "      <td>6.933416</td>\n",
       "    </tr>\n",
       "    <tr>\n",
       "      <th>2</th>\n",
       "      <td>3</td>\n",
       "      <td>4681.874091</td>\n",
       "      <td>41415.731686</td>\n",
       "      <td>8.845973</td>\n",
       "    </tr>\n",
       "    <tr>\n",
       "      <th>3</th>\n",
       "      <td>4</td>\n",
       "      <td>5088.573018</td>\n",
       "      <td>61186.078200</td>\n",
       "      <td>12.024211</td>\n",
       "    </tr>\n",
       "    <tr>\n",
       "      <th>4</th>\n",
       "      <td>5</td>\n",
       "      <td>3893.536452</td>\n",
       "      <td>59866.569099</td>\n",
       "      <td>15.375885</td>\n",
       "    </tr>\n",
       "  </tbody>\n",
       "</table>\n",
       "</div>"
      ],
      "text/plain": [
       "   hh_size     hh_weight    trip_weight  trips_rate\n",
       "0        1   9230.158689   45224.491390    4.899644\n",
       "1        2  17002.982012  117888.752165    6.933416\n",
       "2        3   4681.874091   41415.731686    8.845973\n",
       "3        4   5088.573018   61186.078200   12.024211\n",
       "4        5   3893.536452   59866.569099   15.375885"
      ]
     },
     "execution_count": 13,
     "metadata": {},
     "output_type": "execute_result"
    }
   ],
   "source": [
    "# NCHRP 365 Total trip rate by HH Size\n",
    "daily_trip_rates = GetTripRatesUsingOneVars(hh_df = hh, trips_df=trip_join,\n",
    "            x = \"hh_size\" , groups = \"all\", cat =\"triprate\")\n",
    "daily_trip_rates"
   ]
  },
  {
   "cell_type": "code",
   "execution_count": 14,
   "metadata": {},
   "outputs": [
    {
     "name": "stderr",
     "output_type": "stream",
     "text": [
      "C:\\Users\\michael.mccarthy\\AppData\\Local\\Temp\\ipykernel_22520\\2861469884.py:2: FutureWarning: The provided callable <function sum at 0x00000214B1B4ADE0> is currently using DataFrameGroupBy.sum. In a future version of pandas, the provided callable will be used directly. To keep current behavior pass the string \"sum\" instead.\n",
      "  daily_trip_purpose = pd.pivot_table(trip_join, values='trip_weight', index=['hh_size'],\n"
     ]
    },
    {
     "data": {
      "application/vnd.microsoft.datawrangler.viewer.v0+json": {
       "columns": [
        {
         "name": "hh_size",
         "rawType": "int64",
         "type": "integer"
        },
        {
         "name": "HBO",
         "rawType": "float64",
         "type": "float"
        },
        {
         "name": "HBW",
         "rawType": "float64",
         "type": "float"
        },
        {
         "name": "Loop",
         "rawType": "float64",
         "type": "float"
        },
        {
         "name": "NHB",
         "rawType": "float64",
         "type": "float"
        }
       ],
       "conversionMethod": "pd.DataFrame",
       "ref": "19a36094-128e-4411-ba15-becc285598ab",
       "rows": [
        [
         "1",
         "21027.263968867643",
         "3618.4983966654327",
         "136.96722095010236",
         "20441.761803449754"
        ],
        [
         "2",
         "57883.20889376863",
         "12921.978172268135",
         "50.95884391942178",
         "47032.60625470556"
        ],
        [
         "3",
         "16059.131487643574",
         "7414.917406804699",
         "164.5674476943086",
         "17777.115343968024"
        ],
        [
         "4",
         "33917.33832869762",
         "5151.688676194256",
         "341.2041506621377",
         "21775.84704452177"
        ],
        [
         "5",
         "36558.44393704521",
         "3701.448254123623",
         null,
         "19606.67690756835"
        ]
       ],
       "shape": {
        "columns": 4,
        "rows": 5
       }
      },
      "text/html": [
       "<div>\n",
       "<style scoped>\n",
       "    .dataframe tbody tr th:only-of-type {\n",
       "        vertical-align: middle;\n",
       "    }\n",
       "\n",
       "    .dataframe tbody tr th {\n",
       "        vertical-align: top;\n",
       "    }\n",
       "\n",
       "    .dataframe thead th {\n",
       "        text-align: right;\n",
       "    }\n",
       "</style>\n",
       "<table border=\"1\" class=\"dataframe\">\n",
       "  <thead>\n",
       "    <tr style=\"text-align: right;\">\n",
       "      <th>model_purpose</th>\n",
       "      <th>HBO</th>\n",
       "      <th>HBW</th>\n",
       "      <th>Loop</th>\n",
       "      <th>NHB</th>\n",
       "    </tr>\n",
       "    <tr>\n",
       "      <th>hh_size</th>\n",
       "      <th></th>\n",
       "      <th></th>\n",
       "      <th></th>\n",
       "      <th></th>\n",
       "    </tr>\n",
       "  </thead>\n",
       "  <tbody>\n",
       "    <tr>\n",
       "      <th>1</th>\n",
       "      <td>21027.263969</td>\n",
       "      <td>3618.498397</td>\n",
       "      <td>136.967221</td>\n",
       "      <td>20441.761803</td>\n",
       "    </tr>\n",
       "    <tr>\n",
       "      <th>2</th>\n",
       "      <td>57883.208894</td>\n",
       "      <td>12921.978172</td>\n",
       "      <td>50.958844</td>\n",
       "      <td>47032.606255</td>\n",
       "    </tr>\n",
       "    <tr>\n",
       "      <th>3</th>\n",
       "      <td>16059.131488</td>\n",
       "      <td>7414.917407</td>\n",
       "      <td>164.567448</td>\n",
       "      <td>17777.115344</td>\n",
       "    </tr>\n",
       "    <tr>\n",
       "      <th>4</th>\n",
       "      <td>33917.338329</td>\n",
       "      <td>5151.688676</td>\n",
       "      <td>341.204151</td>\n",
       "      <td>21775.847045</td>\n",
       "    </tr>\n",
       "    <tr>\n",
       "      <th>5</th>\n",
       "      <td>36558.443937</td>\n",
       "      <td>3701.448254</td>\n",
       "      <td>NaN</td>\n",
       "      <td>19606.676908</td>\n",
       "    </tr>\n",
       "  </tbody>\n",
       "</table>\n",
       "</div>"
      ],
      "text/plain": [
       "model_purpose           HBO           HBW        Loop           NHB\n",
       "hh_size                                                            \n",
       "1              21027.263969   3618.498397  136.967221  20441.761803\n",
       "2              57883.208894  12921.978172   50.958844  47032.606255\n",
       "3              16059.131488   7414.917407  164.567448  17777.115344\n",
       "4              33917.338329   5151.688676  341.204151  21775.847045\n",
       "5              36558.443937   3701.448254         NaN  19606.676908"
      ]
     },
     "execution_count": 14,
     "metadata": {},
     "output_type": "execute_result"
    }
   ],
   "source": [
    "# NCHRP 365 Total trips by HH size and Purpose (for % by purpose)\n",
    "daily_trip_purpose = pd.pivot_table(trip_join, values='trip_weight', index=['hh_size'],\n",
    "                    columns=['model_purpose'], aggfunc=np.sum)\n",
    "daily_trip_purpose"
   ]
  },
  {
   "cell_type": "code",
   "execution_count": 15,
   "metadata": {},
   "outputs": [
    {
     "data": {
      "text/plain": [
       "np.float64(8.160528573476823)"
      ]
     },
     "execution_count": 15,
     "metadata": {},
     "output_type": "execute_result"
    }
   ],
   "source": [
    "# NCHRP 365 Total trips per HH\n",
    "tot_triprate = trip_join['trip_weight'].sum() / hh['hh_weight'].sum() \n",
    "tot_triprate"
   ]
  },
  {
   "cell_type": "code",
   "execution_count": 16,
   "metadata": {},
   "outputs": [
    {
     "name": "stderr",
     "output_type": "stream",
     "text": [
      "C:\\Users\\michael.mccarthy\\AppData\\Local\\Temp\\ipykernel_22520\\3342100913.py:61: FutureWarning: The provided callable <function sum at 0x00000214B1B4ADE0> is currently using DataFrameGroupBy.sum. In a future version of pandas, the provided callable will be used directly. To keep current behavior pass the string \"sum\" instead.\n",
      "  HH_PivotTable = pd.pivot_table(hh_df, values=\"hh_weight\", index=[y],\n",
      "C:\\Users\\michael.mccarthy\\AppData\\Local\\Temp\\ipykernel_22520\\3342100913.py:71: FutureWarning: The provided callable <function sum at 0x00000214B1B4ADE0> is currently using DataFrameGroupBy.sum. In a future version of pandas, the provided callable will be used directly. To keep current behavior pass the string \"sum\" instead.\n",
      "  Trip_PivotTable = pd.pivot_table(trips_df, values=dta, index=[y],\n"
     ]
    },
    {
     "data": {
      "application/vnd.microsoft.datawrangler.viewer.v0+json": {
       "columns": [
        {
         "name": "v_size",
         "rawType": "int64",
         "type": "integer"
        },
        {
         "name": "0",
         "rawType": "float64",
         "type": "float"
        },
        {
         "name": "1",
         "rawType": "float64",
         "type": "float"
        },
        {
         "name": "2",
         "rawType": "float64",
         "type": "float"
        },
        {
         "name": "3",
         "rawType": "float64",
         "type": "float"
        }
       ],
       "conversionMethod": "pd.DataFrame",
       "ref": "233dfc5c-fa76-43fb-8dae-96a31e73e3e3",
       "rows": [
        [
         "0",
         "0.0",
         "2.0",
         "4.666666666666673",
         "0.0"
        ],
        [
         "1",
         "0.0",
         "0.6375023520792455",
         "0.12415515488367274",
         "4.125520934170329"
        ],
        [
         "2",
         "0.0",
         "0.7823397433621864",
         "1.5031200768744204",
         "2.1011109356018207"
        ],
        [
         "3",
         "0.0",
         "0.43110398880155887",
         "1.5688537914626166",
         "2.279536763534152"
        ]
       ],
       "shape": {
        "columns": 4,
        "rows": 4
       }
      },
      "text/html": [
       "<div>\n",
       "<style scoped>\n",
       "    .dataframe tbody tr th:only-of-type {\n",
       "        vertical-align: middle;\n",
       "    }\n",
       "\n",
       "    .dataframe tbody tr th {\n",
       "        vertical-align: top;\n",
       "    }\n",
       "\n",
       "    .dataframe thead th {\n",
       "        text-align: right;\n",
       "    }\n",
       "</style>\n",
       "<table border=\"1\" class=\"dataframe\">\n",
       "  <thead>\n",
       "    <tr style=\"text-align: right;\">\n",
       "      <th>w_size</th>\n",
       "      <th>0</th>\n",
       "      <th>1</th>\n",
       "      <th>2</th>\n",
       "      <th>3</th>\n",
       "    </tr>\n",
       "    <tr>\n",
       "      <th>v_size</th>\n",
       "      <th></th>\n",
       "      <th></th>\n",
       "      <th></th>\n",
       "      <th></th>\n",
       "    </tr>\n",
       "  </thead>\n",
       "  <tbody>\n",
       "    <tr>\n",
       "      <th>0</th>\n",
       "      <td>0.0</td>\n",
       "      <td>2.000000</td>\n",
       "      <td>4.666667</td>\n",
       "      <td>0.000000</td>\n",
       "    </tr>\n",
       "    <tr>\n",
       "      <th>1</th>\n",
       "      <td>0.0</td>\n",
       "      <td>0.637502</td>\n",
       "      <td>0.124155</td>\n",
       "      <td>4.125521</td>\n",
       "    </tr>\n",
       "    <tr>\n",
       "      <th>2</th>\n",
       "      <td>0.0</td>\n",
       "      <td>0.782340</td>\n",
       "      <td>1.503120</td>\n",
       "      <td>2.101111</td>\n",
       "    </tr>\n",
       "    <tr>\n",
       "      <th>3</th>\n",
       "      <td>0.0</td>\n",
       "      <td>0.431104</td>\n",
       "      <td>1.568854</td>\n",
       "      <td>2.279537</td>\n",
       "    </tr>\n",
       "  </tbody>\n",
       "</table>\n",
       "</div>"
      ],
      "text/plain": [
       "w_size    0         1         2         3\n",
       "v_size                                   \n",
       "0       0.0  2.000000  4.666667  0.000000\n",
       "1       0.0  0.637502  0.124155  4.125521\n",
       "2       0.0  0.782340  1.503120  2.101111\n",
       "3       0.0  0.431104  1.568854  2.279537"
      ]
     },
     "execution_count": 16,
     "metadata": {},
     "output_type": "execute_result"
    }
   ],
   "source": [
    "# NCHRP 716 HBW by Workers and Autos\n",
    "hbw2D_trip_rates_aw = GetTripRatesUsingTwoVars(hh_df = hh, trips_df=trip_join,\n",
    "            x = \"w_size\" , y = \"v_size\", groups = \"HBW\", cat =\"triprate\")\n",
    "hbw2D_trip_rates_aw"
   ]
  },
  {
   "cell_type": "code",
   "execution_count": 17,
   "metadata": {},
   "outputs": [
    {
     "data": {
      "application/vnd.microsoft.datawrangler.viewer.v0+json": {
       "columns": [
        {
         "name": "index",
         "rawType": "int64",
         "type": "integer"
        },
        {
         "name": "w_size",
         "rawType": "int64",
         "type": "integer"
        },
        {
         "name": "hh_weight",
         "rawType": "float64",
         "type": "float"
        },
        {
         "name": "trip_weight",
         "rawType": "float64",
         "type": "float"
        },
        {
         "name": "trips_rate",
         "rawType": "float64",
         "type": "float"
        }
       ],
       "conversionMethod": "pd.DataFrame",
       "ref": "6d9e60d4-2c93-41d2-b83b-fec7df688b54",
       "rows": [
        [
         "0",
         "1",
         "13090.527935104454",
         "8590.358005130325",
         "0.6562270099201908"
        ],
        [
         "1",
         "2",
         "12286.7882826928",
         "17985.581818598996",
         "1.4638147418828344"
        ],
        [
         "2",
         "3",
         "2200.861430018358",
         "6232.591082326826",
         "2.8318870953519495"
        ]
       ],
       "shape": {
        "columns": 4,
        "rows": 3
       }
      },
      "text/html": [
       "<div>\n",
       "<style scoped>\n",
       "    .dataframe tbody tr th:only-of-type {\n",
       "        vertical-align: middle;\n",
       "    }\n",
       "\n",
       "    .dataframe tbody tr th {\n",
       "        vertical-align: top;\n",
       "    }\n",
       "\n",
       "    .dataframe thead th {\n",
       "        text-align: right;\n",
       "    }\n",
       "</style>\n",
       "<table border=\"1\" class=\"dataframe\">\n",
       "  <thead>\n",
       "    <tr style=\"text-align: right;\">\n",
       "      <th></th>\n",
       "      <th>w_size</th>\n",
       "      <th>hh_weight</th>\n",
       "      <th>trip_weight</th>\n",
       "      <th>trips_rate</th>\n",
       "    </tr>\n",
       "  </thead>\n",
       "  <tbody>\n",
       "    <tr>\n",
       "      <th>0</th>\n",
       "      <td>1</td>\n",
       "      <td>13090.527935</td>\n",
       "      <td>8590.358005</td>\n",
       "      <td>0.656227</td>\n",
       "    </tr>\n",
       "    <tr>\n",
       "      <th>1</th>\n",
       "      <td>2</td>\n",
       "      <td>12286.788283</td>\n",
       "      <td>17985.581819</td>\n",
       "      <td>1.463815</td>\n",
       "    </tr>\n",
       "    <tr>\n",
       "      <th>2</th>\n",
       "      <td>3</td>\n",
       "      <td>2200.861430</td>\n",
       "      <td>6232.591082</td>\n",
       "      <td>2.831887</td>\n",
       "    </tr>\n",
       "  </tbody>\n",
       "</table>\n",
       "</div>"
      ],
      "text/plain": [
       "   w_size     hh_weight   trip_weight  trips_rate\n",
       "0       1  13090.527935   8590.358005    0.656227\n",
       "1       2  12286.788283  17985.581819    1.463815\n",
       "2       3   2200.861430   6232.591082    2.831887"
      ]
     },
     "execution_count": 17,
     "metadata": {},
     "output_type": "execute_result"
    }
   ],
   "source": [
    "# NCHRP 716 HBW by Workers\n",
    "hbw1D_trip_rates_w = GetTripRatesUsingOneVars(hh_df = hh, trips_df=trip_join,\n",
    "            x = \"w_size\", groups = \"HBW\", cat =\"triprate\")\n",
    "hbw1D_trip_rates_w"
   ]
  },
  {
   "cell_type": "code",
   "execution_count": 18,
   "metadata": {},
   "outputs": [
    {
     "name": "stderr",
     "output_type": "stream",
     "text": [
      "C:\\Users\\michael.mccarthy\\AppData\\Local\\Temp\\ipykernel_22520\\3342100913.py:61: FutureWarning: The provided callable <function sum at 0x00000214B1B4ADE0> is currently using DataFrameGroupBy.sum. In a future version of pandas, the provided callable will be used directly. To keep current behavior pass the string \"sum\" instead.\n",
      "  HH_PivotTable = pd.pivot_table(hh_df, values=\"hh_weight\", index=[y],\n",
      "C:\\Users\\michael.mccarthy\\AppData\\Local\\Temp\\ipykernel_22520\\3342100913.py:71: FutureWarning: The provided callable <function sum at 0x00000214B1B4ADE0> is currently using DataFrameGroupBy.sum. In a future version of pandas, the provided callable will be used directly. To keep current behavior pass the string \"sum\" instead.\n",
      "  Trip_PivotTable = pd.pivot_table(trips_df, values=dta, index=[y],\n"
     ]
    },
    {
     "data": {
      "application/vnd.microsoft.datawrangler.viewer.v0+json": {
       "columns": [
        {
         "name": "w_size",
         "rawType": "int64",
         "type": "integer"
        },
        {
         "name": "1",
         "rawType": "float64",
         "type": "float"
        },
        {
         "name": "2",
         "rawType": "float64",
         "type": "float"
        },
        {
         "name": "3",
         "rawType": "float64",
         "type": "float"
        },
        {
         "name": "4",
         "rawType": "float64",
         "type": "float"
        },
        {
         "name": "5",
         "rawType": "float64",
         "type": "float"
        }
       ],
       "conversionMethod": "pd.DataFrame",
       "ref": "035c7d2a-ad47-4bc7-a9bf-08b98d2c55fa",
       "rows": [
        [
         "0",
         "2.7988382149915454",
         "4.564784161537825",
         "6.201857833255736",
         "9.60870490904112",
         "4.000000000000003"
        ],
        [
         "1",
         "1.6459522864253022",
         "3.3947967535447345",
         "5.661869563680527",
         "9.155360615421976",
         "9.418676394442098"
        ],
        [
         "2",
         "0.0",
         "2.2539637992463954",
         "3.122636304276905",
         "5.493945638798469",
         "9.855130082834457"
        ],
        [
         "3",
         "0.0",
         "0.0",
         "1.9754325739353522",
         "0.0",
         "10.975729029094413"
        ]
       ],
       "shape": {
        "columns": 5,
        "rows": 4
       }
      },
      "text/html": [
       "<div>\n",
       "<style scoped>\n",
       "    .dataframe tbody tr th:only-of-type {\n",
       "        vertical-align: middle;\n",
       "    }\n",
       "\n",
       "    .dataframe tbody tr th {\n",
       "        vertical-align: top;\n",
       "    }\n",
       "\n",
       "    .dataframe thead th {\n",
       "        text-align: right;\n",
       "    }\n",
       "</style>\n",
       "<table border=\"1\" class=\"dataframe\">\n",
       "  <thead>\n",
       "    <tr style=\"text-align: right;\">\n",
       "      <th>hh_size</th>\n",
       "      <th>1</th>\n",
       "      <th>2</th>\n",
       "      <th>3</th>\n",
       "      <th>4</th>\n",
       "      <th>5</th>\n",
       "    </tr>\n",
       "    <tr>\n",
       "      <th>w_size</th>\n",
       "      <th></th>\n",
       "      <th></th>\n",
       "      <th></th>\n",
       "      <th></th>\n",
       "      <th></th>\n",
       "    </tr>\n",
       "  </thead>\n",
       "  <tbody>\n",
       "    <tr>\n",
       "      <th>0</th>\n",
       "      <td>2.798838</td>\n",
       "      <td>4.564784</td>\n",
       "      <td>6.201858</td>\n",
       "      <td>9.608705</td>\n",
       "      <td>4.000000</td>\n",
       "    </tr>\n",
       "    <tr>\n",
       "      <th>1</th>\n",
       "      <td>1.645952</td>\n",
       "      <td>3.394797</td>\n",
       "      <td>5.661870</td>\n",
       "      <td>9.155361</td>\n",
       "      <td>9.418676</td>\n",
       "    </tr>\n",
       "    <tr>\n",
       "      <th>2</th>\n",
       "      <td>0.000000</td>\n",
       "      <td>2.253964</td>\n",
       "      <td>3.122636</td>\n",
       "      <td>5.493946</td>\n",
       "      <td>9.855130</td>\n",
       "    </tr>\n",
       "    <tr>\n",
       "      <th>3</th>\n",
       "      <td>0.000000</td>\n",
       "      <td>0.000000</td>\n",
       "      <td>1.975433</td>\n",
       "      <td>0.000000</td>\n",
       "      <td>10.975729</td>\n",
       "    </tr>\n",
       "  </tbody>\n",
       "</table>\n",
       "</div>"
      ],
      "text/plain": [
       "hh_size         1         2         3         4          5\n",
       "w_size                                                    \n",
       "0        2.798838  4.564784  6.201858  9.608705   4.000000\n",
       "1        1.645952  3.394797  5.661870  9.155361   9.418676\n",
       "2        0.000000  2.253964  3.122636  5.493946   9.855130\n",
       "3        0.000000  0.000000  1.975433  0.000000  10.975729"
      ]
     },
     "execution_count": 18,
     "metadata": {},
     "output_type": "execute_result"
    }
   ],
   "source": [
    "# NCHRP 716 HBO by Workers and HH Size\n",
    "hbo2D_trip_rates_wh = GetTripRatesUsingTwoVars(hh_df = hh, trips_df=trip_join,\n",
    "            x = \"hh_size\" , y = \"w_size\", groups = \"HBO\", cat =\"triprate\")\n",
    "hbo2D_trip_rates_wh"
   ]
  },
  {
   "cell_type": "code",
   "execution_count": 19,
   "metadata": {},
   "outputs": [
    {
     "data": {
      "application/vnd.microsoft.datawrangler.viewer.v0+json": {
       "columns": [
        {
         "name": "index",
         "rawType": "int64",
         "type": "integer"
        },
        {
         "name": "w_size",
         "rawType": "int64",
         "type": "integer"
        },
        {
         "name": "hh_weight",
         "rawType": "float64",
         "type": "float"
        },
        {
         "name": "trip_weight",
         "rawType": "float64",
         "type": "float"
        },
        {
         "name": "trips_rate",
         "rawType": "float64",
         "type": "float"
        }
       ],
       "conversionMethod": "pd.DataFrame",
       "ref": "38be0c60-0f01-4faf-abad-1b0b5a640e02",
       "rows": [
        [
         "0",
         "0",
         "12318.94661417359",
         "48750.08144589499",
         "3.9573254899737513"
        ],
        [
         "1",
         "1",
         "13090.527935104454",
         "63066.759780155204",
         "4.817739979075334"
        ],
        [
         "2",
         "2",
         "12286.7882826928",
         "46980.63043530253",
         "3.823670543870245"
        ],
        [
         "3",
         "3",
         "2200.861430018358",
         "6647.914954669942",
         "3.020596782694533"
        ]
       ],
       "shape": {
        "columns": 4,
        "rows": 4
       }
      },
      "text/html": [
       "<div>\n",
       "<style scoped>\n",
       "    .dataframe tbody tr th:only-of-type {\n",
       "        vertical-align: middle;\n",
       "    }\n",
       "\n",
       "    .dataframe tbody tr th {\n",
       "        vertical-align: top;\n",
       "    }\n",
       "\n",
       "    .dataframe thead th {\n",
       "        text-align: right;\n",
       "    }\n",
       "</style>\n",
       "<table border=\"1\" class=\"dataframe\">\n",
       "  <thead>\n",
       "    <tr style=\"text-align: right;\">\n",
       "      <th></th>\n",
       "      <th>w_size</th>\n",
       "      <th>hh_weight</th>\n",
       "      <th>trip_weight</th>\n",
       "      <th>trips_rate</th>\n",
       "    </tr>\n",
       "  </thead>\n",
       "  <tbody>\n",
       "    <tr>\n",
       "      <th>0</th>\n",
       "      <td>0</td>\n",
       "      <td>12318.946614</td>\n",
       "      <td>48750.081446</td>\n",
       "      <td>3.957325</td>\n",
       "    </tr>\n",
       "    <tr>\n",
       "      <th>1</th>\n",
       "      <td>1</td>\n",
       "      <td>13090.527935</td>\n",
       "      <td>63066.759780</td>\n",
       "      <td>4.817740</td>\n",
       "    </tr>\n",
       "    <tr>\n",
       "      <th>2</th>\n",
       "      <td>2</td>\n",
       "      <td>12286.788283</td>\n",
       "      <td>46980.630435</td>\n",
       "      <td>3.823671</td>\n",
       "    </tr>\n",
       "    <tr>\n",
       "      <th>3</th>\n",
       "      <td>3</td>\n",
       "      <td>2200.861430</td>\n",
       "      <td>6647.914955</td>\n",
       "      <td>3.020597</td>\n",
       "    </tr>\n",
       "  </tbody>\n",
       "</table>\n",
       "</div>"
      ],
      "text/plain": [
       "   w_size     hh_weight   trip_weight  trips_rate\n",
       "0       0  12318.946614  48750.081446    3.957325\n",
       "1       1  13090.527935  63066.759780    4.817740\n",
       "2       2  12286.788283  46980.630435    3.823671\n",
       "3       3   2200.861430   6647.914955    3.020597"
      ]
     },
     "execution_count": 19,
     "metadata": {},
     "output_type": "execute_result"
    }
   ],
   "source": [
    "# NCHRP 716 HBO by Workers\n",
    "hbo1D_trip_rates_w = GetTripRatesUsingOneVars(hh_df = hh, trips_df=trip_join,\n",
    "            x = \"w_size\", groups = \"HBO\", cat =\"triprate\")\n",
    "hbo1D_trip_rates_w"
   ]
  },
  {
   "cell_type": "code",
   "execution_count": 20,
   "metadata": {},
   "outputs": [
    {
     "data": {
      "application/vnd.microsoft.datawrangler.viewer.v0+json": {
       "columns": [
        {
         "name": "index",
         "rawType": "int64",
         "type": "integer"
        },
        {
         "name": "hh_size",
         "rawType": "int64",
         "type": "integer"
        },
        {
         "name": "hh_weight",
         "rawType": "float64",
         "type": "float"
        },
        {
         "name": "trip_weight",
         "rawType": "float64",
         "type": "float"
        },
        {
         "name": "trips_rate",
         "rawType": "float64",
         "type": "float"
        }
       ],
       "conversionMethod": "pd.DataFrame",
       "ref": "52e37da5-65a9-4fc7-b856-d90466b89ae0",
       "rows": [
        [
         "0",
         "1",
         "9230.158688778156",
         "21027.263968867643",
         "2.278104275111995"
        ],
        [
         "1",
         "2",
         "17002.982012096036",
         "57883.20889376863",
         "3.4042974845583043"
        ],
        [
         "2",
         "3",
         "4681.874091429348",
         "16059.131487643574",
         "3.4300647932932384"
        ],
        [
         "3",
         "4",
         "5088.573018132926",
         "33917.33832869762",
         "6.66539287297923"
        ],
        [
         "4",
         "5",
         "3893.536451552737",
         "36558.44393704521",
         "9.38952142658527"
        ]
       ],
       "shape": {
        "columns": 4,
        "rows": 5
       }
      },
      "text/html": [
       "<div>\n",
       "<style scoped>\n",
       "    .dataframe tbody tr th:only-of-type {\n",
       "        vertical-align: middle;\n",
       "    }\n",
       "\n",
       "    .dataframe tbody tr th {\n",
       "        vertical-align: top;\n",
       "    }\n",
       "\n",
       "    .dataframe thead th {\n",
       "        text-align: right;\n",
       "    }\n",
       "</style>\n",
       "<table border=\"1\" class=\"dataframe\">\n",
       "  <thead>\n",
       "    <tr style=\"text-align: right;\">\n",
       "      <th></th>\n",
       "      <th>hh_size</th>\n",
       "      <th>hh_weight</th>\n",
       "      <th>trip_weight</th>\n",
       "      <th>trips_rate</th>\n",
       "    </tr>\n",
       "  </thead>\n",
       "  <tbody>\n",
       "    <tr>\n",
       "      <th>0</th>\n",
       "      <td>1</td>\n",
       "      <td>9230.158689</td>\n",
       "      <td>21027.263969</td>\n",
       "      <td>2.278104</td>\n",
       "    </tr>\n",
       "    <tr>\n",
       "      <th>1</th>\n",
       "      <td>2</td>\n",
       "      <td>17002.982012</td>\n",
       "      <td>57883.208894</td>\n",
       "      <td>3.404297</td>\n",
       "    </tr>\n",
       "    <tr>\n",
       "      <th>2</th>\n",
       "      <td>3</td>\n",
       "      <td>4681.874091</td>\n",
       "      <td>16059.131488</td>\n",
       "      <td>3.430065</td>\n",
       "    </tr>\n",
       "    <tr>\n",
       "      <th>3</th>\n",
       "      <td>4</td>\n",
       "      <td>5088.573018</td>\n",
       "      <td>33917.338329</td>\n",
       "      <td>6.665393</td>\n",
       "    </tr>\n",
       "    <tr>\n",
       "      <th>4</th>\n",
       "      <td>5</td>\n",
       "      <td>3893.536452</td>\n",
       "      <td>36558.443937</td>\n",
       "      <td>9.389521</td>\n",
       "    </tr>\n",
       "  </tbody>\n",
       "</table>\n",
       "</div>"
      ],
      "text/plain": [
       "   hh_size     hh_weight   trip_weight  trips_rate\n",
       "0        1   9230.158689  21027.263969    2.278104\n",
       "1        2  17002.982012  57883.208894    3.404297\n",
       "2        3   4681.874091  16059.131488    3.430065\n",
       "3        4   5088.573018  33917.338329    6.665393\n",
       "4        5   3893.536452  36558.443937    9.389521"
      ]
     },
     "execution_count": 20,
     "metadata": {},
     "output_type": "execute_result"
    }
   ],
   "source": [
    "# NCHRP 716 HBO by HH Size\n",
    "hbo1D_trip_rates_h = GetTripRatesUsingOneVars(hh_df = hh, trips_df=trip_join,\n",
    "            x = \"hh_size\", groups = \"HBO\", cat =\"triprate\")\n",
    "hbo1D_trip_rates_h"
   ]
  },
  {
   "cell_type": "code",
   "execution_count": 21,
   "metadata": {},
   "outputs": [
    {
     "name": "stderr",
     "output_type": "stream",
     "text": [
      "C:\\Users\\michael.mccarthy\\AppData\\Local\\Temp\\ipykernel_22520\\3342100913.py:61: FutureWarning: The provided callable <function sum at 0x00000214B1B4ADE0> is currently using DataFrameGroupBy.sum. In a future version of pandas, the provided callable will be used directly. To keep current behavior pass the string \"sum\" instead.\n",
      "  HH_PivotTable = pd.pivot_table(hh_df, values=\"hh_weight\", index=[y],\n",
      "C:\\Users\\michael.mccarthy\\AppData\\Local\\Temp\\ipykernel_22520\\3342100913.py:71: FutureWarning: The provided callable <function sum at 0x00000214B1B4ADE0> is currently using DataFrameGroupBy.sum. In a future version of pandas, the provided callable will be used directly. To keep current behavior pass the string \"sum\" instead.\n",
      "  Trip_PivotTable = pd.pivot_table(trips_df, values=dta, index=[y],\n"
     ]
    },
    {
     "data": {
      "application/vnd.microsoft.datawrangler.viewer.v0+json": {
       "columns": [
        {
         "name": "v_size",
         "rawType": "int64",
         "type": "integer"
        },
        {
         "name": "1",
         "rawType": "float64",
         "type": "float"
        },
        {
         "name": "2",
         "rawType": "float64",
         "type": "float"
        },
        {
         "name": "3",
         "rawType": "float64",
         "type": "float"
        },
        {
         "name": "4",
         "rawType": "float64",
         "type": "float"
        },
        {
         "name": "5",
         "rawType": "float64",
         "type": "float"
        }
       ],
       "conversionMethod": "pd.DataFrame",
       "ref": "5a983af6-582c-4956-b513-950ed6f05d86",
       "rows": [
        [
         "0",
         "1.480837501924347",
         "3.6666666666666723",
         "0.3333333333333329",
         "0.0",
         "0.0"
        ],
        [
         "1",
         "2.3868154429938695",
         "4.780717680233",
         "3.8010304656049536",
         "3.5335379215417673",
         "6.300972038792554"
        ],
        [
         "2",
         "2.1040551312542837",
         "3.248009538849811",
         "4.2043222395248865",
         "7.033040888540817",
         "7.807256124005417"
        ],
        [
         "3",
         "1.8747578746826195",
         "3.07984879525351",
         "2.609420703688815",
         "6.8763366466892535",
         "12.79523950644812"
        ]
       ],
       "shape": {
        "columns": 5,
        "rows": 4
       }
      },
      "text/html": [
       "<div>\n",
       "<style scoped>\n",
       "    .dataframe tbody tr th:only-of-type {\n",
       "        vertical-align: middle;\n",
       "    }\n",
       "\n",
       "    .dataframe tbody tr th {\n",
       "        vertical-align: top;\n",
       "    }\n",
       "\n",
       "    .dataframe thead th {\n",
       "        text-align: right;\n",
       "    }\n",
       "</style>\n",
       "<table border=\"1\" class=\"dataframe\">\n",
       "  <thead>\n",
       "    <tr style=\"text-align: right;\">\n",
       "      <th>hh_size</th>\n",
       "      <th>1</th>\n",
       "      <th>2</th>\n",
       "      <th>3</th>\n",
       "      <th>4</th>\n",
       "      <th>5</th>\n",
       "    </tr>\n",
       "    <tr>\n",
       "      <th>v_size</th>\n",
       "      <th></th>\n",
       "      <th></th>\n",
       "      <th></th>\n",
       "      <th></th>\n",
       "      <th></th>\n",
       "    </tr>\n",
       "  </thead>\n",
       "  <tbody>\n",
       "    <tr>\n",
       "      <th>0</th>\n",
       "      <td>1.480838</td>\n",
       "      <td>3.666667</td>\n",
       "      <td>0.333333</td>\n",
       "      <td>0.000000</td>\n",
       "      <td>0.000000</td>\n",
       "    </tr>\n",
       "    <tr>\n",
       "      <th>1</th>\n",
       "      <td>2.386815</td>\n",
       "      <td>4.780718</td>\n",
       "      <td>3.801030</td>\n",
       "      <td>3.533538</td>\n",
       "      <td>6.300972</td>\n",
       "    </tr>\n",
       "    <tr>\n",
       "      <th>2</th>\n",
       "      <td>2.104055</td>\n",
       "      <td>3.248010</td>\n",
       "      <td>4.204322</td>\n",
       "      <td>7.033041</td>\n",
       "      <td>7.807256</td>\n",
       "    </tr>\n",
       "    <tr>\n",
       "      <th>3</th>\n",
       "      <td>1.874758</td>\n",
       "      <td>3.079849</td>\n",
       "      <td>2.609421</td>\n",
       "      <td>6.876337</td>\n",
       "      <td>12.795240</td>\n",
       "    </tr>\n",
       "  </tbody>\n",
       "</table>\n",
       "</div>"
      ],
      "text/plain": [
       "hh_size         1         2         3         4          5\n",
       "v_size                                                    \n",
       "0        1.480838  3.666667  0.333333  0.000000   0.000000\n",
       "1        2.386815  4.780718  3.801030  3.533538   6.300972\n",
       "2        2.104055  3.248010  4.204322  7.033041   7.807256\n",
       "3        1.874758  3.079849  2.609421  6.876337  12.795240"
      ]
     },
     "execution_count": 21,
     "metadata": {},
     "output_type": "execute_result"
    }
   ],
   "source": [
    "# NCHRP 716 HBO by Vehicles and HH Size\n",
    "hbo2D_trip_rates_vh = GetTripRatesUsingTwoVars(hh_df = hh, trips_df=trip_join,\n",
    "            x = \"hh_size\" , y = \"v_size\", groups = \"HBO\", cat =\"triprate\")\n",
    "hbo2D_trip_rates_vh"
   ]
  },
  {
   "cell_type": "code",
   "execution_count": 22,
   "metadata": {},
   "outputs": [
    {
     "data": {
      "application/vnd.microsoft.datawrangler.viewer.v0+json": {
       "columns": [
        {
         "name": "index",
         "rawType": "int64",
         "type": "integer"
        },
        {
         "name": "v_size",
         "rawType": "int64",
         "type": "integer"
        },
        {
         "name": "hh_weight",
         "rawType": "float64",
         "type": "float"
        },
        {
         "name": "trip_weight",
         "rawType": "float64",
         "type": "float"
        },
        {
         "name": "trips_rate",
         "rawType": "float64",
         "type": "float"
        }
       ],
       "conversionMethod": "pd.DataFrame",
       "ref": "343f8bdc-69dc-4878-a159-57802704f3b1",
       "rows": [
        [
         "0",
         "0",
         "125.70212823586742",
         "192.56430987860483",
         "1.5319097025730324"
        ],
        [
         "1",
         "1",
         "10790.357525927471",
         "34732.05593516282",
         "3.2188049239061214"
        ],
        [
         "2",
         "2",
         "16031.877860238572",
         "71536.07657731966",
         "4.462114619444533"
        ],
        [
         "3",
         "3",
         "12949.186747587295",
         "58984.689793661586",
         "4.5550883575489145"
        ]
       ],
       "shape": {
        "columns": 4,
        "rows": 4
       }
      },
      "text/html": [
       "<div>\n",
       "<style scoped>\n",
       "    .dataframe tbody tr th:only-of-type {\n",
       "        vertical-align: middle;\n",
       "    }\n",
       "\n",
       "    .dataframe tbody tr th {\n",
       "        vertical-align: top;\n",
       "    }\n",
       "\n",
       "    .dataframe thead th {\n",
       "        text-align: right;\n",
       "    }\n",
       "</style>\n",
       "<table border=\"1\" class=\"dataframe\">\n",
       "  <thead>\n",
       "    <tr style=\"text-align: right;\">\n",
       "      <th></th>\n",
       "      <th>v_size</th>\n",
       "      <th>hh_weight</th>\n",
       "      <th>trip_weight</th>\n",
       "      <th>trips_rate</th>\n",
       "    </tr>\n",
       "  </thead>\n",
       "  <tbody>\n",
       "    <tr>\n",
       "      <th>0</th>\n",
       "      <td>0</td>\n",
       "      <td>125.702128</td>\n",
       "      <td>192.564310</td>\n",
       "      <td>1.531910</td>\n",
       "    </tr>\n",
       "    <tr>\n",
       "      <th>1</th>\n",
       "      <td>1</td>\n",
       "      <td>10790.357526</td>\n",
       "      <td>34732.055935</td>\n",
       "      <td>3.218805</td>\n",
       "    </tr>\n",
       "    <tr>\n",
       "      <th>2</th>\n",
       "      <td>2</td>\n",
       "      <td>16031.877860</td>\n",
       "      <td>71536.076577</td>\n",
       "      <td>4.462115</td>\n",
       "    </tr>\n",
       "    <tr>\n",
       "      <th>3</th>\n",
       "      <td>3</td>\n",
       "      <td>12949.186748</td>\n",
       "      <td>58984.689794</td>\n",
       "      <td>4.555088</td>\n",
       "    </tr>\n",
       "  </tbody>\n",
       "</table>\n",
       "</div>"
      ],
      "text/plain": [
       "   v_size     hh_weight   trip_weight  trips_rate\n",
       "0       0    125.702128    192.564310    1.531910\n",
       "1       1  10790.357526  34732.055935    3.218805\n",
       "2       2  16031.877860  71536.076577    4.462115\n",
       "3       3  12949.186748  58984.689794    4.555088"
      ]
     },
     "execution_count": 22,
     "metadata": {},
     "output_type": "execute_result"
    }
   ],
   "source": [
    "# NCHRP 716 HBO by Vehicles\n",
    "hbo1D_trip_rates_v = GetTripRatesUsingOneVars(hh_df = hh, trips_df=trip_join,\n",
    "            x = \"v_size\", groups = \"HBO\", cat =\"triprate\")\n",
    "hbo1D_trip_rates_v"
   ]
  },
  {
   "cell_type": "code",
   "execution_count": 23,
   "metadata": {},
   "outputs": [
    {
     "name": "stderr",
     "output_type": "stream",
     "text": [
      "C:\\Users\\michael.mccarthy\\AppData\\Local\\Temp\\ipykernel_22520\\3342100913.py:61: FutureWarning: The provided callable <function sum at 0x00000214B1B4ADE0> is currently using DataFrameGroupBy.sum. In a future version of pandas, the provided callable will be used directly. To keep current behavior pass the string \"sum\" instead.\n",
      "  HH_PivotTable = pd.pivot_table(hh_df, values=\"hh_weight\", index=[y],\n",
      "C:\\Users\\michael.mccarthy\\AppData\\Local\\Temp\\ipykernel_22520\\3342100913.py:71: FutureWarning: The provided callable <function sum at 0x00000214B1B4ADE0> is currently using DataFrameGroupBy.sum. In a future version of pandas, the provided callable will be used directly. To keep current behavior pass the string \"sum\" instead.\n",
      "  Trip_PivotTable = pd.pivot_table(trips_df, values=dta, index=[y],\n"
     ]
    },
    {
     "data": {
      "application/vnd.microsoft.datawrangler.viewer.v0+json": {
       "columns": [
        {
         "name": "w_size",
         "rawType": "int64",
         "type": "integer"
        },
        {
         "name": "1",
         "rawType": "float64",
         "type": "float"
        },
        {
         "name": "2",
         "rawType": "float64",
         "type": "float"
        },
        {
         "name": "3",
         "rawType": "float64",
         "type": "float"
        },
        {
         "name": "4",
         "rawType": "float64",
         "type": "float"
        },
        {
         "name": "5",
         "rawType": "float64",
         "type": "float"
        }
       ],
       "conversionMethod": "pd.DataFrame",
       "ref": "9c0a0713-63e1-4081-bc2a-839e1484be8f",
       "rows": [
        [
         "0",
         "2.4706621357977934",
         "2.700374805253755",
         "2.9821753268239757",
         "4.583386560319771",
         "2.0000000000000013"
        ],
        [
         "1",
         "1.9039063961373943",
         "2.2524534819461905",
         "3.2245547599772286",
         "5.643823149143022",
         "5.411595762617638"
        ],
        [
         "2",
         "0.0",
         "3.1501888422529505",
         "2.844969882043811",
         "3.4084364865075933",
         "5.659238613870747"
        ],
        [
         "3",
         "0.0",
         "0.0",
         "5.336043524492439",
         "4.209849829889907",
         "2.0"
        ]
       ],
       "shape": {
        "columns": 5,
        "rows": 4
       }
      },
      "text/html": [
       "<div>\n",
       "<style scoped>\n",
       "    .dataframe tbody tr th:only-of-type {\n",
       "        vertical-align: middle;\n",
       "    }\n",
       "\n",
       "    .dataframe tbody tr th {\n",
       "        vertical-align: top;\n",
       "    }\n",
       "\n",
       "    .dataframe thead th {\n",
       "        text-align: right;\n",
       "    }\n",
       "</style>\n",
       "<table border=\"1\" class=\"dataframe\">\n",
       "  <thead>\n",
       "    <tr style=\"text-align: right;\">\n",
       "      <th>hh_size</th>\n",
       "      <th>1</th>\n",
       "      <th>2</th>\n",
       "      <th>3</th>\n",
       "      <th>4</th>\n",
       "      <th>5</th>\n",
       "    </tr>\n",
       "    <tr>\n",
       "      <th>w_size</th>\n",
       "      <th></th>\n",
       "      <th></th>\n",
       "      <th></th>\n",
       "      <th></th>\n",
       "      <th></th>\n",
       "    </tr>\n",
       "  </thead>\n",
       "  <tbody>\n",
       "    <tr>\n",
       "      <th>0</th>\n",
       "      <td>2.470662</td>\n",
       "      <td>2.700375</td>\n",
       "      <td>2.982175</td>\n",
       "      <td>4.583387</td>\n",
       "      <td>2.000000</td>\n",
       "    </tr>\n",
       "    <tr>\n",
       "      <th>1</th>\n",
       "      <td>1.903906</td>\n",
       "      <td>2.252453</td>\n",
       "      <td>3.224555</td>\n",
       "      <td>5.643823</td>\n",
       "      <td>5.411596</td>\n",
       "    </tr>\n",
       "    <tr>\n",
       "      <th>2</th>\n",
       "      <td>0.000000</td>\n",
       "      <td>3.150189</td>\n",
       "      <td>2.844970</td>\n",
       "      <td>3.408436</td>\n",
       "      <td>5.659239</td>\n",
       "    </tr>\n",
       "    <tr>\n",
       "      <th>3</th>\n",
       "      <td>0.000000</td>\n",
       "      <td>0.000000</td>\n",
       "      <td>5.336044</td>\n",
       "      <td>4.209850</td>\n",
       "      <td>2.000000</td>\n",
       "    </tr>\n",
       "  </tbody>\n",
       "</table>\n",
       "</div>"
      ],
      "text/plain": [
       "hh_size         1         2         3         4         5\n",
       "w_size                                                   \n",
       "0        2.470662  2.700375  2.982175  4.583387  2.000000\n",
       "1        1.903906  2.252453  3.224555  5.643823  5.411596\n",
       "2        0.000000  3.150189  2.844970  3.408436  5.659239\n",
       "3        0.000000  0.000000  5.336044  4.209850  2.000000"
      ]
     },
     "execution_count": 23,
     "metadata": {},
     "output_type": "execute_result"
    }
   ],
   "source": [
    "# NCHRP 716 NHB by Workers and HH Size\n",
    "nhb2D_trip_rates_wh = GetTripRatesUsingTwoVars(hh_df = hh, trips_df=trip_join,\n",
    "            x = \"hh_size\" , y = \"w_size\", groups = \"NHB\", cat =\"triprate\")\n",
    "nhb2D_trip_rates_wh"
   ]
  },
  {
   "cell_type": "code",
   "execution_count": 24,
   "metadata": {},
   "outputs": [
    {
     "data": {
      "application/vnd.microsoft.datawrangler.viewer.v0+json": {
       "columns": [
        {
         "name": "index",
         "rawType": "int64",
         "type": "integer"
        },
        {
         "name": "w_size",
         "rawType": "int64",
         "type": "integer"
        },
        {
         "name": "hh_weight",
         "rawType": "float64",
         "type": "float"
        },
        {
         "name": "trip_weight",
         "rawType": "float64",
         "type": "float"
        },
        {
         "name": "trips_rate",
         "rawType": "float64",
         "type": "float"
        }
       ],
       "conversionMethod": "pd.DataFrame",
       "ref": "83c3270a-dada-4cd9-aa08-fdc18ba9fdb4",
       "rows": [
        [
         "0",
         "0",
         "12318.94661417359",
         "32415.365248207832",
         "2.6313422943900306"
        ],
        [
         "1",
         "1",
         "13090.527935104454",
         "42113.831696304456",
         "3.217122480092581"
        ],
        [
         "2",
         "2",
         "12286.7882826928",
         "41675.250732920416",
         "3.39187505913358"
        ],
        [
         "3",
         "3",
         "2200.861430018358",
         "10429.559676780766",
         "4.738853402821353"
        ]
       ],
       "shape": {
        "columns": 4,
        "rows": 4
       }
      },
      "text/html": [
       "<div>\n",
       "<style scoped>\n",
       "    .dataframe tbody tr th:only-of-type {\n",
       "        vertical-align: middle;\n",
       "    }\n",
       "\n",
       "    .dataframe tbody tr th {\n",
       "        vertical-align: top;\n",
       "    }\n",
       "\n",
       "    .dataframe thead th {\n",
       "        text-align: right;\n",
       "    }\n",
       "</style>\n",
       "<table border=\"1\" class=\"dataframe\">\n",
       "  <thead>\n",
       "    <tr style=\"text-align: right;\">\n",
       "      <th></th>\n",
       "      <th>w_size</th>\n",
       "      <th>hh_weight</th>\n",
       "      <th>trip_weight</th>\n",
       "      <th>trips_rate</th>\n",
       "    </tr>\n",
       "  </thead>\n",
       "  <tbody>\n",
       "    <tr>\n",
       "      <th>0</th>\n",
       "      <td>0</td>\n",
       "      <td>12318.946614</td>\n",
       "      <td>32415.365248</td>\n",
       "      <td>2.631342</td>\n",
       "    </tr>\n",
       "    <tr>\n",
       "      <th>1</th>\n",
       "      <td>1</td>\n",
       "      <td>13090.527935</td>\n",
       "      <td>42113.831696</td>\n",
       "      <td>3.217122</td>\n",
       "    </tr>\n",
       "    <tr>\n",
       "      <th>2</th>\n",
       "      <td>2</td>\n",
       "      <td>12286.788283</td>\n",
       "      <td>41675.250733</td>\n",
       "      <td>3.391875</td>\n",
       "    </tr>\n",
       "    <tr>\n",
       "      <th>3</th>\n",
       "      <td>3</td>\n",
       "      <td>2200.861430</td>\n",
       "      <td>10429.559677</td>\n",
       "      <td>4.738853</td>\n",
       "    </tr>\n",
       "  </tbody>\n",
       "</table>\n",
       "</div>"
      ],
      "text/plain": [
       "   w_size     hh_weight   trip_weight  trips_rate\n",
       "0       0  12318.946614  32415.365248    2.631342\n",
       "1       1  13090.527935  42113.831696    3.217122\n",
       "2       2  12286.788283  41675.250733    3.391875\n",
       "3       3   2200.861430  10429.559677    4.738853"
      ]
     },
     "execution_count": 24,
     "metadata": {},
     "output_type": "execute_result"
    }
   ],
   "source": [
    "# NCHRP 716 NHB by Workers\n",
    "nhb1D_trip_rates_w = GetTripRatesUsingOneVars(hh_df = hh, trips_df=trip_join,\n",
    "            x = \"w_size\", groups = \"NHB\", cat =\"triprate\")\n",
    "nhb1D_trip_rates_w"
   ]
  },
  {
   "cell_type": "code",
   "execution_count": 25,
   "metadata": {},
   "outputs": [
    {
     "data": {
      "application/vnd.microsoft.datawrangler.viewer.v0+json": {
       "columns": [
        {
         "name": "index",
         "rawType": "int64",
         "type": "integer"
        },
        {
         "name": "hh_size",
         "rawType": "int64",
         "type": "integer"
        },
        {
         "name": "hh_weight",
         "rawType": "float64",
         "type": "float"
        },
        {
         "name": "trip_weight",
         "rawType": "float64",
         "type": "float"
        },
        {
         "name": "trips_rate",
         "rawType": "float64",
         "type": "float"
        }
       ],
       "conversionMethod": "pd.DataFrame",
       "ref": "8cb824e8-f3fc-4eb3-824f-12c55a2e843b",
       "rows": [
        [
         "0",
         "1",
         "9230.158688778156",
         "20441.761803449754",
         "2.214670678230315"
        ],
        [
         "1",
         "2",
         "17002.982012096036",
         "47032.60625470556",
         "2.766138682099778"
        ],
        [
         "2",
         "3",
         "4681.874091429348",
         "17777.115343968024",
         "3.7970084194512754"
        ],
        [
         "3",
         "4",
         "5088.573018132926",
         "21775.84704452177",
         "4.279362203691371"
        ],
        [
         "4",
         "5",
         "3893.536451552737",
         "19606.67690756835",
         "5.035698818165484"
        ]
       ],
       "shape": {
        "columns": 4,
        "rows": 5
       }
      },
      "text/html": [
       "<div>\n",
       "<style scoped>\n",
       "    .dataframe tbody tr th:only-of-type {\n",
       "        vertical-align: middle;\n",
       "    }\n",
       "\n",
       "    .dataframe tbody tr th {\n",
       "        vertical-align: top;\n",
       "    }\n",
       "\n",
       "    .dataframe thead th {\n",
       "        text-align: right;\n",
       "    }\n",
       "</style>\n",
       "<table border=\"1\" class=\"dataframe\">\n",
       "  <thead>\n",
       "    <tr style=\"text-align: right;\">\n",
       "      <th></th>\n",
       "      <th>hh_size</th>\n",
       "      <th>hh_weight</th>\n",
       "      <th>trip_weight</th>\n",
       "      <th>trips_rate</th>\n",
       "    </tr>\n",
       "  </thead>\n",
       "  <tbody>\n",
       "    <tr>\n",
       "      <th>0</th>\n",
       "      <td>1</td>\n",
       "      <td>9230.158689</td>\n",
       "      <td>20441.761803</td>\n",
       "      <td>2.214671</td>\n",
       "    </tr>\n",
       "    <tr>\n",
       "      <th>1</th>\n",
       "      <td>2</td>\n",
       "      <td>17002.982012</td>\n",
       "      <td>47032.606255</td>\n",
       "      <td>2.766139</td>\n",
       "    </tr>\n",
       "    <tr>\n",
       "      <th>2</th>\n",
       "      <td>3</td>\n",
       "      <td>4681.874091</td>\n",
       "      <td>17777.115344</td>\n",
       "      <td>3.797008</td>\n",
       "    </tr>\n",
       "    <tr>\n",
       "      <th>3</th>\n",
       "      <td>4</td>\n",
       "      <td>5088.573018</td>\n",
       "      <td>21775.847045</td>\n",
       "      <td>4.279362</td>\n",
       "    </tr>\n",
       "    <tr>\n",
       "      <th>4</th>\n",
       "      <td>5</td>\n",
       "      <td>3893.536452</td>\n",
       "      <td>19606.676908</td>\n",
       "      <td>5.035699</td>\n",
       "    </tr>\n",
       "  </tbody>\n",
       "</table>\n",
       "</div>"
      ],
      "text/plain": [
       "   hh_size     hh_weight   trip_weight  trips_rate\n",
       "0        1   9230.158689  20441.761803    2.214671\n",
       "1        2  17002.982012  47032.606255    2.766139\n",
       "2        3   4681.874091  17777.115344    3.797008\n",
       "3        4   5088.573018  21775.847045    4.279362\n",
       "4        5   3893.536452  19606.676908    5.035699"
      ]
     },
     "execution_count": 25,
     "metadata": {},
     "output_type": "execute_result"
    }
   ],
   "source": [
    "# NCHRP 716 NHB by HH Size\n",
    "nhb1D_trip_rates_h = GetTripRatesUsingOneVars(hh_df = hh, trips_df=trip_join,\n",
    "            x = \"hh_size\", groups = \"NHB\", cat =\"triprate\")\n",
    "nhb1D_trip_rates_h"
   ]
  },
  {
   "cell_type": "code",
   "execution_count": 26,
   "metadata": {},
   "outputs": [
    {
     "name": "stderr",
     "output_type": "stream",
     "text": [
      "C:\\Users\\michael.mccarthy\\AppData\\Local\\Temp\\ipykernel_22520\\3342100913.py:61: FutureWarning: The provided callable <function sum at 0x00000214B1B4ADE0> is currently using DataFrameGroupBy.sum. In a future version of pandas, the provided callable will be used directly. To keep current behavior pass the string \"sum\" instead.\n",
      "  HH_PivotTable = pd.pivot_table(hh_df, values=\"hh_weight\", index=[y],\n",
      "C:\\Users\\michael.mccarthy\\AppData\\Local\\Temp\\ipykernel_22520\\3342100913.py:71: FutureWarning: The provided callable <function sum at 0x00000214B1B4ADE0> is currently using DataFrameGroupBy.sum. In a future version of pandas, the provided callable will be used directly. To keep current behavior pass the string \"sum\" instead.\n",
      "  Trip_PivotTable = pd.pivot_table(trips_df, values=dta, index=[y],\n"
     ]
    },
    {
     "data": {
      "application/vnd.microsoft.datawrangler.viewer.v0+json": {
       "columns": [
        {
         "name": "v_size",
         "rawType": "int64",
         "type": "integer"
        },
        {
         "name": "1",
         "rawType": "float64",
         "type": "float"
        },
        {
         "name": "2",
         "rawType": "float64",
         "type": "float"
        },
        {
         "name": "3",
         "rawType": "float64",
         "type": "float"
        },
        {
         "name": "4",
         "rawType": "float64",
         "type": "float"
        },
        {
         "name": "5",
         "rawType": "float64",
         "type": "float"
        }
       ],
       "conversionMethod": "pd.DataFrame",
       "ref": "26bcb202-96e7-475f-8b21-8b14ca20ca9e",
       "rows": [
        [
         "0",
         "3.697665592757535",
         "1.666666666666669",
         "0.3333333333333329",
         "0.0",
         "0.0"
        ],
        [
         "1",
         "2.3221996155594007",
         "2.18934739007922",
         "4.154839641363385",
         "2.900217577246412",
         "2.0"
        ],
        [
         "2",
         "2.165784861209535",
         "2.647305148015693",
         "2.5731290531436923",
         "4.4558780633911645",
         "4.2741123060025314"
        ],
        [
         "3",
         "1.1048749064789867",
         "3.1102121112198087",
         "4.572429273034347",
         "4.3553306103811735",
         "6.949140224129117"
        ]
       ],
       "shape": {
        "columns": 5,
        "rows": 4
       }
      },
      "text/html": [
       "<div>\n",
       "<style scoped>\n",
       "    .dataframe tbody tr th:only-of-type {\n",
       "        vertical-align: middle;\n",
       "    }\n",
       "\n",
       "    .dataframe tbody tr th {\n",
       "        vertical-align: top;\n",
       "    }\n",
       "\n",
       "    .dataframe thead th {\n",
       "        text-align: right;\n",
       "    }\n",
       "</style>\n",
       "<table border=\"1\" class=\"dataframe\">\n",
       "  <thead>\n",
       "    <tr style=\"text-align: right;\">\n",
       "      <th>hh_size</th>\n",
       "      <th>1</th>\n",
       "      <th>2</th>\n",
       "      <th>3</th>\n",
       "      <th>4</th>\n",
       "      <th>5</th>\n",
       "    </tr>\n",
       "    <tr>\n",
       "      <th>v_size</th>\n",
       "      <th></th>\n",
       "      <th></th>\n",
       "      <th></th>\n",
       "      <th></th>\n",
       "      <th></th>\n",
       "    </tr>\n",
       "  </thead>\n",
       "  <tbody>\n",
       "    <tr>\n",
       "      <th>0</th>\n",
       "      <td>3.697666</td>\n",
       "      <td>1.666667</td>\n",
       "      <td>0.333333</td>\n",
       "      <td>0.000000</td>\n",
       "      <td>0.000000</td>\n",
       "    </tr>\n",
       "    <tr>\n",
       "      <th>1</th>\n",
       "      <td>2.322200</td>\n",
       "      <td>2.189347</td>\n",
       "      <td>4.154840</td>\n",
       "      <td>2.900218</td>\n",
       "      <td>2.000000</td>\n",
       "    </tr>\n",
       "    <tr>\n",
       "      <th>2</th>\n",
       "      <td>2.165785</td>\n",
       "      <td>2.647305</td>\n",
       "      <td>2.573129</td>\n",
       "      <td>4.455878</td>\n",
       "      <td>4.274112</td>\n",
       "    </tr>\n",
       "    <tr>\n",
       "      <th>3</th>\n",
       "      <td>1.104875</td>\n",
       "      <td>3.110212</td>\n",
       "      <td>4.572429</td>\n",
       "      <td>4.355331</td>\n",
       "      <td>6.949140</td>\n",
       "    </tr>\n",
       "  </tbody>\n",
       "</table>\n",
       "</div>"
      ],
      "text/plain": [
       "hh_size         1         2         3         4         5\n",
       "v_size                                                   \n",
       "0        3.697666  1.666667  0.333333  0.000000  0.000000\n",
       "1        2.322200  2.189347  4.154840  2.900218  2.000000\n",
       "2        2.165785  2.647305  2.573129  4.455878  4.274112\n",
       "3        1.104875  3.110212  4.572429  4.355331  6.949140"
      ]
     },
     "execution_count": 26,
     "metadata": {},
     "output_type": "execute_result"
    }
   ],
   "source": [
    "# NCHRP 716 NHB by Vehicles and HH Size\n",
    "nhb2D_trip_rates_vh = GetTripRatesUsingTwoVars(hh_df = hh, trips_df=trip_join,\n",
    "            x = \"hh_size\" , y = \"v_size\", groups = \"NHB\", cat =\"triprate\")\n",
    "nhb2D_trip_rates_vh"
   ]
  },
  {
   "cell_type": "code",
   "execution_count": 27,
   "metadata": {},
   "outputs": [],
   "source": [
    "# NCHRP 716 NHB by Vehicles\n",
    "nhb1D_trip_rates_v = GetTripRatesUsingOneVars(hh_df = hh, trips_df=trip_join,\n",
    "            x = \"v_size\", groups = \"NHB\", cat =\"triprate\")\n",
    "nhb1D_trip_rates_v.to_clipboard()"
   ]
  }
 ],
 "metadata": {
  "kernelspec": {
   "display_name": ".venv",
   "language": "python",
   "name": "python3"
  },
  "language_info": {
   "codemirror_mode": {
    "name": "ipython",
    "version": 3
   },
   "file_extension": ".py",
   "mimetype": "text/x-python",
   "name": "python",
   "nbconvert_exporter": "python",
   "pygments_lexer": "ipython3",
   "version": "3.12.7"
  }
 },
 "nbformat": 4,
 "nbformat_minor": 2
}
