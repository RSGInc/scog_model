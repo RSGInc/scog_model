{
 "cells": [
  {
   "cell_type": "code",
   "execution_count": 68,
   "id": "8d47e330",
   "metadata": {},
   "outputs": [],
   "source": [
    "import pandas as pd\n",
    "import numpy as np\n",
    "import altair as alt\n",
    "import os"
   ]
  },
  {
   "cell_type": "code",
   "execution_count": 69,
   "id": "7329249f",
   "metadata": {},
   "outputs": [],
   "source": [
    "projdir = r\"C:\\Users\\michael.mccarthy\\Resource Systems Group, Inc\\Projects - 2024-Model & RTP Update-240130\\3_Model\\Data\\Replica\"\n",
    "trips_path = os.path.join(projdir,'Auto trip list','replica-scog-06_18_25-trips_dataset.csv')"
   ]
  },
  {
   "cell_type": "code",
   "execution_count": 70,
   "id": "58d38ed6",
   "metadata": {},
   "outputs": [
    {
     "name": "stderr",
     "output_type": "stream",
     "text": [
      "C:\\Users\\michael.mccarthy\\AppData\\Local\\Temp\\ipykernel_30248\\3314353167.py:1: DtypeWarning: Columns (24,25,52,53) have mixed types. Specify dtype option on import or set low_memory=False.\n",
      "  replica_trips = pd.read_csv(trips_path)\n"
     ]
    }
   ],
   "source": [
    "replica_trips = pd.read_csv(trips_path)"
   ]
  },
  {
   "cell_type": "code",
   "execution_count": 71,
   "id": "921bd3ff",
   "metadata": {},
   "outputs": [
    {
     "data": {
      "text/plain": [
       "Index(['activity_id', 'origin_bgrp_2020', 'origin_trct_2020',\n",
       "       'origin_cty_2020', 'origin_st_2020', 'destination_bgrp_2020',\n",
       "       'destination_trct_2020', 'destination_cty_2020', 'destination_st_2020',\n",
       "       'primary_mode', 'trip_purpose', 'previous_trip_purpose',\n",
       "       'trip_start_time', 'trip_end_time', 'trip_duration_minutes',\n",
       "       'trip_distance_miles', 'vehicle_type', 'transit_submode',\n",
       "       'transit_agency', 'transit_route', 'origin_land_use',\n",
       "       'origin_building_use', 'destination_land_use',\n",
       "       'destination_building_use', 'trip_taker_person_id',\n",
       "       'trip_taker_household_id', 'trip_taker_age', 'trip_taker_sex',\n",
       "       'trip_taker_race_ethnicity', 'trip_taker_employment_status',\n",
       "       'trip_taker_wfh', 'trip_taker_individual_income',\n",
       "       'trip_taker_commute_mode', 'trip_taker_household_size',\n",
       "       'trip_taker_household_income', 'trip_taker_available_vehicles',\n",
       "       'trip_taker_resident_type', 'trip_taker_industry',\n",
       "       'trip_taker_building_type', 'trip_taker_school_grade_attending',\n",
       "       'trip_taker_education', 'trip_taker_tenure', 'trip_taker_language',\n",
       "       'trip_taker_home_bgrp_2020', 'trip_taker_home_trct_2020',\n",
       "       'trip_taker_home_cty_2020', 'trip_taker_home_st_2020',\n",
       "       'trip_taker_work_bgrp_2020', 'trip_taker_work_trct_2020',\n",
       "       'trip_taker_work_cty_2020', 'trip_taker_work_st_2020',\n",
       "       'origin_cty_fips_2020', 'destination_st_fips_2020',\n",
       "       'destination_cty_fips_2020', 'origin_st_fips_2020', 'origin_custom',\n",
       "       'destination_custom', 'tour_type'],\n",
       "      dtype='object')"
      ]
     },
     "execution_count": 71,
     "metadata": {},
     "output_type": "execute_result"
    }
   ],
   "source": [
    "replica_trips.columns"
   ]
  },
  {
   "cell_type": "code",
   "execution_count": 72,
   "id": "3bd8a594",
   "metadata": {},
   "outputs": [
    {
     "data": {
      "application/vnd.microsoft.datawrangler.viewer.v0+json": {
       "columns": [
        {
         "name": "index",
         "rawType": "int64",
         "type": "integer"
        },
        {
         "name": "activity_id",
         "rawType": "uint64",
         "type": "integer"
        },
        {
         "name": "origin_bgrp_2020",
         "rawType": "object",
         "type": "string"
        },
        {
         "name": "origin_trct_2020",
         "rawType": "object",
         "type": "string"
        },
        {
         "name": "origin_cty_2020",
         "rawType": "object",
         "type": "string"
        },
        {
         "name": "origin_st_2020",
         "rawType": "object",
         "type": "string"
        },
        {
         "name": "destination_bgrp_2020",
         "rawType": "object",
         "type": "string"
        },
        {
         "name": "destination_trct_2020",
         "rawType": "object",
         "type": "string"
        },
        {
         "name": "destination_cty_2020",
         "rawType": "object",
         "type": "string"
        },
        {
         "name": "destination_st_2020",
         "rawType": "object",
         "type": "string"
        },
        {
         "name": "primary_mode",
         "rawType": "object",
         "type": "string"
        },
        {
         "name": "trip_purpose",
         "rawType": "object",
         "type": "string"
        },
        {
         "name": "previous_trip_purpose",
         "rawType": "object",
         "type": "string"
        },
        {
         "name": "trip_start_time",
         "rawType": "object",
         "type": "string"
        },
        {
         "name": "trip_end_time",
         "rawType": "object",
         "type": "string"
        },
        {
         "name": "trip_duration_minutes",
         "rawType": "int64",
         "type": "integer"
        },
        {
         "name": "trip_distance_miles",
         "rawType": "float64",
         "type": "float"
        },
        {
         "name": "vehicle_type",
         "rawType": "object",
         "type": "string"
        },
        {
         "name": "transit_submode",
         "rawType": "float64",
         "type": "float"
        },
        {
         "name": "transit_agency",
         "rawType": "float64",
         "type": "float"
        },
        {
         "name": "transit_route",
         "rawType": "float64",
         "type": "float"
        },
        {
         "name": "origin_land_use",
         "rawType": "object",
         "type": "string"
        },
        {
         "name": "origin_building_use",
         "rawType": "object",
         "type": "string"
        },
        {
         "name": "destination_land_use",
         "rawType": "object",
         "type": "string"
        },
        {
         "name": "destination_building_use",
         "rawType": "object",
         "type": "string"
        },
        {
         "name": "trip_taker_person_id",
         "rawType": "object",
         "type": "string"
        },
        {
         "name": "trip_taker_household_id",
         "rawType": "object",
         "type": "string"
        },
        {
         "name": "trip_taker_age",
         "rawType": "float64",
         "type": "float"
        },
        {
         "name": "trip_taker_sex",
         "rawType": "object",
         "type": "string"
        },
        {
         "name": "trip_taker_race_ethnicity",
         "rawType": "object",
         "type": "string"
        },
        {
         "name": "trip_taker_employment_status",
         "rawType": "object",
         "type": "string"
        },
        {
         "name": "trip_taker_wfh",
         "rawType": "object",
         "type": "string"
        },
        {
         "name": "trip_taker_individual_income",
         "rawType": "float64",
         "type": "float"
        },
        {
         "name": "trip_taker_commute_mode",
         "rawType": "object",
         "type": "string"
        },
        {
         "name": "trip_taker_household_size",
         "rawType": "int64",
         "type": "integer"
        },
        {
         "name": "trip_taker_household_income",
         "rawType": "float64",
         "type": "float"
        },
        {
         "name": "trip_taker_available_vehicles",
         "rawType": "object",
         "type": "string"
        },
        {
         "name": "trip_taker_resident_type",
         "rawType": "object",
         "type": "string"
        },
        {
         "name": "trip_taker_industry",
         "rawType": "object",
         "type": "string"
        },
        {
         "name": "trip_taker_building_type",
         "rawType": "object",
         "type": "string"
        },
        {
         "name": "trip_taker_school_grade_attending",
         "rawType": "object",
         "type": "string"
        },
        {
         "name": "trip_taker_education",
         "rawType": "object",
         "type": "string"
        },
        {
         "name": "trip_taker_tenure",
         "rawType": "object",
         "type": "string"
        },
        {
         "name": "trip_taker_language",
         "rawType": "object",
         "type": "string"
        },
        {
         "name": "trip_taker_home_bgrp_2020",
         "rawType": "object",
         "type": "string"
        },
        {
         "name": "trip_taker_home_trct_2020",
         "rawType": "object",
         "type": "string"
        },
        {
         "name": "trip_taker_home_cty_2020",
         "rawType": "object",
         "type": "string"
        },
        {
         "name": "trip_taker_home_st_2020",
         "rawType": "object",
         "type": "string"
        },
        {
         "name": "trip_taker_work_bgrp_2020",
         "rawType": "object",
         "type": "string"
        },
        {
         "name": "trip_taker_work_trct_2020",
         "rawType": "object",
         "type": "string"
        },
        {
         "name": "trip_taker_work_cty_2020",
         "rawType": "object",
         "type": "string"
        },
        {
         "name": "trip_taker_work_st_2020",
         "rawType": "object",
         "type": "string"
        },
        {
         "name": "origin_cty_fips_2020",
         "rawType": "int64",
         "type": "integer"
        },
        {
         "name": "destination_st_fips_2020",
         "rawType": "object",
         "type": "unknown"
        },
        {
         "name": "destination_cty_fips_2020",
         "rawType": "object",
         "type": "unknown"
        },
        {
         "name": "origin_st_fips_2020",
         "rawType": "int64",
         "type": "integer"
        },
        {
         "name": "origin_custom",
         "rawType": "float64",
         "type": "float"
        },
        {
         "name": "destination_custom",
         "rawType": "float64",
         "type": "float"
        },
        {
         "name": "tour_type",
         "rawType": "object",
         "type": "string"
        }
       ],
       "ref": "7e39f521-8434-4d26-910d-32201866d899",
       "rows": [
        [
         "0",
         "6586623149266995904",
         "1 (Tract 9702, Island, WA)",
         "9702 (Island, WA)",
         "Island County, WA",
         "Washington",
         "0 (Tract 9901, Skagit, WA)",
         "9901 (Skagit, WA)",
         "Skagit County, WA",
         "Washington",
         "private_auto",
         "work",
         "home",
         "06:14:00",
         "06:50:10",
         "36",
         "15.4",
         "unknown_vehicle_type",
         null,
         null,
         null,
         "civic_institutional",
         "civic_institutional",
         "non_retail_attraction",
         "non_retail_attraction",
         "15515883479422254013",
         "17557398109848339937",
         "21.0",
         "male",
         "asian_not_hispanic_or_latino",
         "employed",
         "in_person",
         "20222.0",
         "private_auto",
         "1",
         "0.0",
         "unknown_num_vehicles",
         "core",
         "not_working",
         "GQ_structure",
         "undergraduate",
         "some_college",
         "GQ",
         "GQ_language",
         "1 (Tract 9702, Island, WA)",
         "9702 (Island, WA)",
         "Island County, WA",
         "Washington",
         "0 (Tract 9901, Skagit, WA)",
         "9901 (Skagit, WA)",
         "Skagit County, WA",
         "Washington",
         "53029",
         "53",
         "53057",
         "53",
         null,
         null,
         "commute"
        ],
        [
         "1",
         "9151891491960631727",
         "1 (Tract 9702, Island, WA)",
         "9702 (Island, WA)",
         "Island County, WA",
         "Washington",
         "0 (Tract 9901, Skagit, WA)",
         "9901 (Skagit, WA)",
         "Skagit County, WA",
         "Washington",
         "private_auto",
         "work",
         "home",
         "05:37:00",
         "06:01:47",
         "24",
         "14.8",
         "unknown_vehicle_type",
         null,
         null,
         null,
         "civic_institutional",
         "civic_institutional",
         "non_retail_attraction",
         "non_retail_attraction",
         "6632351276805752394",
         "7742969184669267528",
         "23.0",
         "female",
         "aian_not_hispanic_or_latino",
         "employed",
         "in_person",
         "21216.0",
         "private_auto",
         "1",
         "0.0",
         "unknown_num_vehicles",
         "core",
         "not_working",
         "GQ_structure",
         "undergraduate",
         "bachelors_degree",
         "GQ",
         "GQ_language",
         "1 (Tract 9702, Island, WA)",
         "9702 (Island, WA)",
         "Island County, WA",
         "Washington",
         "0 (Tract 9901, Skagit, WA)",
         "9901 (Skagit, WA)",
         "Skagit County, WA",
         "Washington",
         "53029",
         "53",
         "53057",
         "53",
         null,
         null,
         "commute"
        ],
        [
         "2",
         "5952347108470654242",
         "1 (Tract 9518, Skagit, WA)",
         "9518 (Skagit, WA)",
         "Skagit County, WA",
         "Washington",
         "0 (Tract 9901, Skagit, WA)",
         "9901 (Skagit, WA)",
         "Skagit County, WA",
         "Washington",
         "private_auto",
         "work",
         "home",
         "07:27:29",
         "07:51:23",
         "23",
         "17.0",
         "unknown_vehicle_type",
         null,
         null,
         null,
         "multi_family",
         "multi_family",
         "non_retail_attraction",
         "non_retail_attraction",
         "14339195438173039185",
         "11869931918289187655",
         "33.0",
         "male",
         "hispanic_or_latino_origin",
         "employed",
         "in_person",
         "94005.0",
         "private_auto",
         "4",
         "150846.0",
         "two",
         "core",
         "naics713930",
         "several_units",
         "not_attending_school",
         "some_college",
         "renter",
         "spanish",
         "1 (Tract 9518, Skagit, WA)",
         "9518 (Skagit, WA)",
         "Skagit County, WA",
         "Washington",
         "0 (Tract 9901, Skagit, WA)",
         "9901 (Skagit, WA)",
         "Skagit County, WA",
         "Washington",
         "53057",
         "53",
         "53057",
         "53",
         "613.0",
         null,
         "commute"
        ],
        [
         "3",
         "1137916112793313995",
         "2 (Tract 9501, Skagit, WA)",
         "9501 (Skagit, WA)",
         "Skagit County, WA",
         "Washington",
         "0 (Tract 9901, Skagit, WA)",
         "9901 (Skagit, WA)",
         "Skagit County, WA",
         "Washington",
         "private_auto",
         "work",
         "home",
         "07:16:11",
         "07:51:00",
         "34",
         "6.3",
         "unknown_vehicle_type",
         null,
         null,
         null,
         "single_family",
         "single_family",
         "non_retail_attraction",
         "non_retail_attraction",
         "9630197291531588506",
         "11178346933826709438",
         "35.0",
         "female",
         "white_not_hispanic_or_latino",
         "employed",
         "in_person",
         "22747.0",
         "private_auto",
         "5",
         "157127.0",
         "two",
         "core",
         "naics713930",
         "single_family",
         "not_attending_school",
         "some_college",
         "renter",
         "english",
         "2 (Tract 9501, Skagit, WA)",
         "9501 (Skagit, WA)",
         "Skagit County, WA",
         "Washington",
         "0 (Tract 9901, Skagit, WA)",
         "9901 (Skagit, WA)",
         "Skagit County, WA",
         "Washington",
         "53057",
         "53",
         "53057",
         "53",
         "429.0",
         null,
         "commute"
        ],
        [
         "4",
         "14285215277898054429",
         "2 (Tract 9701, Island, WA)",
         "9701 (Island, WA)",
         "Island County, WA",
         "Washington",
         "0 (Tract 9901, Skagit, WA)",
         "9901 (Skagit, WA)",
         "Skagit County, WA",
         "Washington",
         "private_auto",
         "work",
         "recreation",
         "08:12:00",
         "08:40:00",
         "28",
         "12.9",
         "unknown_vehicle_type",
         null,
         null,
         null,
         "non_retail_attraction",
         "non_retail_attraction",
         "non_retail_attraction",
         "non_retail_attraction",
         "15515883479422254013",
         "17557398109848339937",
         "21.0",
         "male",
         "asian_not_hispanic_or_latino",
         "employed",
         "in_person",
         "20222.0",
         "private_auto",
         "1",
         "0.0",
         "unknown_num_vehicles",
         "core",
         "not_working",
         "GQ_structure",
         "undergraduate",
         "some_college",
         "GQ",
         "GQ_language",
         "1 (Tract 9702, Island, WA)",
         "9702 (Island, WA)",
         "Island County, WA",
         "Washington",
         "0 (Tract 9901, Skagit, WA)",
         "9901 (Skagit, WA)",
         "Skagit County, WA",
         "Washington",
         "53029",
         "53",
         "53057",
         "53",
         null,
         null,
         "work_based"
        ]
       ],
       "shape": {
        "columns": 58,
        "rows": 5
       }
      },
      "text/html": [
       "<div>\n",
       "<style scoped>\n",
       "    .dataframe tbody tr th:only-of-type {\n",
       "        vertical-align: middle;\n",
       "    }\n",
       "\n",
       "    .dataframe tbody tr th {\n",
       "        vertical-align: top;\n",
       "    }\n",
       "\n",
       "    .dataframe thead th {\n",
       "        text-align: right;\n",
       "    }\n",
       "</style>\n",
       "<table border=\"1\" class=\"dataframe\">\n",
       "  <thead>\n",
       "    <tr style=\"text-align: right;\">\n",
       "      <th></th>\n",
       "      <th>activity_id</th>\n",
       "      <th>origin_bgrp_2020</th>\n",
       "      <th>origin_trct_2020</th>\n",
       "      <th>origin_cty_2020</th>\n",
       "      <th>origin_st_2020</th>\n",
       "      <th>destination_bgrp_2020</th>\n",
       "      <th>destination_trct_2020</th>\n",
       "      <th>destination_cty_2020</th>\n",
       "      <th>destination_st_2020</th>\n",
       "      <th>primary_mode</th>\n",
       "      <th>...</th>\n",
       "      <th>trip_taker_work_trct_2020</th>\n",
       "      <th>trip_taker_work_cty_2020</th>\n",
       "      <th>trip_taker_work_st_2020</th>\n",
       "      <th>origin_cty_fips_2020</th>\n",
       "      <th>destination_st_fips_2020</th>\n",
       "      <th>destination_cty_fips_2020</th>\n",
       "      <th>origin_st_fips_2020</th>\n",
       "      <th>origin_custom</th>\n",
       "      <th>destination_custom</th>\n",
       "      <th>tour_type</th>\n",
       "    </tr>\n",
       "  </thead>\n",
       "  <tbody>\n",
       "    <tr>\n",
       "      <th>0</th>\n",
       "      <td>6586623149266995904</td>\n",
       "      <td>1 (Tract 9702, Island, WA)</td>\n",
       "      <td>9702 (Island, WA)</td>\n",
       "      <td>Island County, WA</td>\n",
       "      <td>Washington</td>\n",
       "      <td>0 (Tract 9901, Skagit, WA)</td>\n",
       "      <td>9901 (Skagit, WA)</td>\n",
       "      <td>Skagit County, WA</td>\n",
       "      <td>Washington</td>\n",
       "      <td>private_auto</td>\n",
       "      <td>...</td>\n",
       "      <td>9901 (Skagit, WA)</td>\n",
       "      <td>Skagit County, WA</td>\n",
       "      <td>Washington</td>\n",
       "      <td>53029</td>\n",
       "      <td>53</td>\n",
       "      <td>53057</td>\n",
       "      <td>53</td>\n",
       "      <td>NaN</td>\n",
       "      <td>NaN</td>\n",
       "      <td>commute</td>\n",
       "    </tr>\n",
       "    <tr>\n",
       "      <th>1</th>\n",
       "      <td>9151891491960631727</td>\n",
       "      <td>1 (Tract 9702, Island, WA)</td>\n",
       "      <td>9702 (Island, WA)</td>\n",
       "      <td>Island County, WA</td>\n",
       "      <td>Washington</td>\n",
       "      <td>0 (Tract 9901, Skagit, WA)</td>\n",
       "      <td>9901 (Skagit, WA)</td>\n",
       "      <td>Skagit County, WA</td>\n",
       "      <td>Washington</td>\n",
       "      <td>private_auto</td>\n",
       "      <td>...</td>\n",
       "      <td>9901 (Skagit, WA)</td>\n",
       "      <td>Skagit County, WA</td>\n",
       "      <td>Washington</td>\n",
       "      <td>53029</td>\n",
       "      <td>53</td>\n",
       "      <td>53057</td>\n",
       "      <td>53</td>\n",
       "      <td>NaN</td>\n",
       "      <td>NaN</td>\n",
       "      <td>commute</td>\n",
       "    </tr>\n",
       "    <tr>\n",
       "      <th>2</th>\n",
       "      <td>5952347108470654242</td>\n",
       "      <td>1 (Tract 9518, Skagit, WA)</td>\n",
       "      <td>9518 (Skagit, WA)</td>\n",
       "      <td>Skagit County, WA</td>\n",
       "      <td>Washington</td>\n",
       "      <td>0 (Tract 9901, Skagit, WA)</td>\n",
       "      <td>9901 (Skagit, WA)</td>\n",
       "      <td>Skagit County, WA</td>\n",
       "      <td>Washington</td>\n",
       "      <td>private_auto</td>\n",
       "      <td>...</td>\n",
       "      <td>9901 (Skagit, WA)</td>\n",
       "      <td>Skagit County, WA</td>\n",
       "      <td>Washington</td>\n",
       "      <td>53057</td>\n",
       "      <td>53</td>\n",
       "      <td>53057</td>\n",
       "      <td>53</td>\n",
       "      <td>613.0</td>\n",
       "      <td>NaN</td>\n",
       "      <td>commute</td>\n",
       "    </tr>\n",
       "    <tr>\n",
       "      <th>3</th>\n",
       "      <td>1137916112793313995</td>\n",
       "      <td>2 (Tract 9501, Skagit, WA)</td>\n",
       "      <td>9501 (Skagit, WA)</td>\n",
       "      <td>Skagit County, WA</td>\n",
       "      <td>Washington</td>\n",
       "      <td>0 (Tract 9901, Skagit, WA)</td>\n",
       "      <td>9901 (Skagit, WA)</td>\n",
       "      <td>Skagit County, WA</td>\n",
       "      <td>Washington</td>\n",
       "      <td>private_auto</td>\n",
       "      <td>...</td>\n",
       "      <td>9901 (Skagit, WA)</td>\n",
       "      <td>Skagit County, WA</td>\n",
       "      <td>Washington</td>\n",
       "      <td>53057</td>\n",
       "      <td>53</td>\n",
       "      <td>53057</td>\n",
       "      <td>53</td>\n",
       "      <td>429.0</td>\n",
       "      <td>NaN</td>\n",
       "      <td>commute</td>\n",
       "    </tr>\n",
       "    <tr>\n",
       "      <th>4</th>\n",
       "      <td>14285215277898054429</td>\n",
       "      <td>2 (Tract 9701, Island, WA)</td>\n",
       "      <td>9701 (Island, WA)</td>\n",
       "      <td>Island County, WA</td>\n",
       "      <td>Washington</td>\n",
       "      <td>0 (Tract 9901, Skagit, WA)</td>\n",
       "      <td>9901 (Skagit, WA)</td>\n",
       "      <td>Skagit County, WA</td>\n",
       "      <td>Washington</td>\n",
       "      <td>private_auto</td>\n",
       "      <td>...</td>\n",
       "      <td>9901 (Skagit, WA)</td>\n",
       "      <td>Skagit County, WA</td>\n",
       "      <td>Washington</td>\n",
       "      <td>53029</td>\n",
       "      <td>53</td>\n",
       "      <td>53057</td>\n",
       "      <td>53</td>\n",
       "      <td>NaN</td>\n",
       "      <td>NaN</td>\n",
       "      <td>work_based</td>\n",
       "    </tr>\n",
       "  </tbody>\n",
       "</table>\n",
       "<p>5 rows × 58 columns</p>\n",
       "</div>"
      ],
      "text/plain": [
       "            activity_id            origin_bgrp_2020   origin_trct_2020  \\\n",
       "0   6586623149266995904  1 (Tract 9702, Island, WA)  9702 (Island, WA)   \n",
       "1   9151891491960631727  1 (Tract 9702, Island, WA)  9702 (Island, WA)   \n",
       "2   5952347108470654242  1 (Tract 9518, Skagit, WA)  9518 (Skagit, WA)   \n",
       "3   1137916112793313995  2 (Tract 9501, Skagit, WA)  9501 (Skagit, WA)   \n",
       "4  14285215277898054429  2 (Tract 9701, Island, WA)  9701 (Island, WA)   \n",
       "\n",
       "     origin_cty_2020 origin_st_2020       destination_bgrp_2020  \\\n",
       "0  Island County, WA     Washington  0 (Tract 9901, Skagit, WA)   \n",
       "1  Island County, WA     Washington  0 (Tract 9901, Skagit, WA)   \n",
       "2  Skagit County, WA     Washington  0 (Tract 9901, Skagit, WA)   \n",
       "3  Skagit County, WA     Washington  0 (Tract 9901, Skagit, WA)   \n",
       "4  Island County, WA     Washington  0 (Tract 9901, Skagit, WA)   \n",
       "\n",
       "  destination_trct_2020 destination_cty_2020 destination_st_2020  \\\n",
       "0     9901 (Skagit, WA)    Skagit County, WA          Washington   \n",
       "1     9901 (Skagit, WA)    Skagit County, WA          Washington   \n",
       "2     9901 (Skagit, WA)    Skagit County, WA          Washington   \n",
       "3     9901 (Skagit, WA)    Skagit County, WA          Washington   \n",
       "4     9901 (Skagit, WA)    Skagit County, WA          Washington   \n",
       "\n",
       "   primary_mode  ... trip_taker_work_trct_2020 trip_taker_work_cty_2020  \\\n",
       "0  private_auto  ...         9901 (Skagit, WA)        Skagit County, WA   \n",
       "1  private_auto  ...         9901 (Skagit, WA)        Skagit County, WA   \n",
       "2  private_auto  ...         9901 (Skagit, WA)        Skagit County, WA   \n",
       "3  private_auto  ...         9901 (Skagit, WA)        Skagit County, WA   \n",
       "4  private_auto  ...         9901 (Skagit, WA)        Skagit County, WA   \n",
       "\n",
       "  trip_taker_work_st_2020 origin_cty_fips_2020  destination_st_fips_2020  \\\n",
       "0              Washington                53029                        53   \n",
       "1              Washington                53029                        53   \n",
       "2              Washington                53057                        53   \n",
       "3              Washington                53057                        53   \n",
       "4              Washington                53029                        53   \n",
       "\n",
       "   destination_cty_fips_2020 origin_st_fips_2020  origin_custom  \\\n",
       "0                      53057                  53            NaN   \n",
       "1                      53057                  53            NaN   \n",
       "2                      53057                  53          613.0   \n",
       "3                      53057                  53          429.0   \n",
       "4                      53057                  53            NaN   \n",
       "\n",
       "   destination_custom   tour_type  \n",
       "0                 NaN     commute  \n",
       "1                 NaN     commute  \n",
       "2                 NaN     commute  \n",
       "3                 NaN     commute  \n",
       "4                 NaN  work_based  \n",
       "\n",
       "[5 rows x 58 columns]"
      ]
     },
     "execution_count": 72,
     "metadata": {},
     "output_type": "execute_result"
    }
   ],
   "source": [
    "replica_trips.head()"
   ]
  },
  {
   "cell_type": "code",
   "execution_count": 73,
   "id": "152872b9",
   "metadata": {},
   "outputs": [],
   "source": [
    "# code time of day\n",
    "def codePeriods(data,todPeriods,todStart,todVar):\n",
    "    data.loc[:, 'start_hour'] = data['trip_start_time'].str[:2].astype(int)\n",
    "    # start HH:MM in hours, plus half of duration in hours \n",
    "    data.loc[:, 'mid_hour'] = np.floor(data['trip_start_time'].str[:2].astype(float) + (data['trip_start_time'].str[3:5].astype(float) / 60) + ((data['trip_duration_minutes']/2)/60))\n",
    "    data.loc[:, todVar] = ''\n",
    "    for i in range(len(todPeriods)):\n",
    "        data.loc[:, todVar] = np.where(data['mid_hour'] >= todStart[i],todPeriods[i],data[todVar])\n",
    "\n",
    "todPeriods = [\"OP\",\"AM\",\"OP\",\"PM\",\"OP\"] # Names of TOD periods\n",
    "todStart = [0,7,9,14,17]\n",
    "codePeriods(replica_trips,todPeriods,todStart,'time_period')\n"
   ]
  },
  {
   "cell_type": "code",
   "execution_count": 74,
   "id": "5fad0bd0",
   "metadata": {},
   "outputs": [],
   "source": [
    "# process tracts outside of SCOG model\n",
    "partial_tracts = ['9408.01 (Skagit, WA)','9511.01 (Skagit, WA)','9511.02 (Skagit, WA)','9512 (Skagit, WA)']\n",
    "outside_tracts = ['9403.02 (Skagit, WA)','9501 (Skagit, WA)', '9901 (Skagit, WA)']\n",
    "partial_or_out = partial_tracts # + outside_tracts\n",
    "\n",
    "replica_trips.loc[~(replica_trips['origin_custom'].isna()),'model_origin'] = \"Int\"\n",
    "replica_trips.loc[~(replica_trips['destination_custom'].isna()),'model_destination'] = \"Int\"\n",
    "\n",
    "replica_trips.loc[(replica_trips['origin_cty_2020'] != 'Skagit County, WA'),'model_origin'] = \"Ext\"\n",
    "replica_trips.loc[(replica_trips['destination_cty_2020'] != 'Skagit County, WA'),'model_destination'] = \"Ext\"\n",
    "\n",
    "replica_trips.loc[(replica_trips['origin_custom'].isna()) & (replica_trips['origin_cty_2020'] == 'Skagit County, WA') &  (replica_trips['origin_trct_2020'].isin(partial_or_out)),'model_origin'] = \"ExtSkagit\"\n",
    "replica_trips.loc[(replica_trips['origin_custom'].isna()) & (replica_trips['origin_cty_2020'] == 'Skagit County, WA') & ~(replica_trips['origin_trct_2020'].isin(partial_or_out)),'model_origin'] = \"PossInt\"\n",
    "\n",
    "replica_trips.loc[(replica_trips['destination_custom'].isna()) & (replica_trips['destination_cty_2020'] == 'Skagit County, WA') &  (replica_trips['destination_trct_2020'].isin(partial_or_out)),'model_destination'] = \"ExSkagit\"\n",
    "replica_trips.loc[(replica_trips['destination_custom'].isna()) & (replica_trips['destination_cty_2020'] == 'Skagit County, WA') & ~(replica_trips['destination_trct_2020'].isin(partial_or_out)),'model_destination'] = \"PossInt\""
   ]
  },
  {
   "cell_type": "code",
   "execution_count": 75,
   "id": "607361f4",
   "metadata": {},
   "outputs": [
    {
     "data": {
      "application/vnd.microsoft.datawrangler.viewer.v0+json": {
       "columns": [
        {
         "name": "origin_trct_2020",
         "rawType": "object",
         "type": "string"
        },
        {
         "name": "count",
         "rawType": "int64",
         "type": "integer"
        }
       ],
       "ref": "2a885f7f-f773-4749-9c2c-089f879257c5",
       "rows": [
        [
         "9407 (Skagit, WA)",
         "166"
        ],
        [
         "9406 (Skagit, WA)",
         "46"
        ],
        [
         "9501 (Skagit, WA)",
         "42"
        ],
        [
         "9403.02 (Skagit, WA)",
         "39"
        ],
        [
         "9901 (Skagit, WA)",
         "21"
        ],
        [
         "9404.03 (Skagit, WA)",
         "15"
        ],
        [
         "9527 (Skagit, WA)",
         "8"
        ],
        [
         "9408.02 (Skagit, WA)",
         "3"
        ],
        [
         "9508.02 (Skagit, WA)",
         "1"
        ]
       ],
       "shape": {
        "columns": 1,
        "rows": 9
       }
      },
      "text/plain": [
       "origin_trct_2020\n",
       "9407 (Skagit, WA)       166\n",
       "9406 (Skagit, WA)        46\n",
       "9501 (Skagit, WA)        42\n",
       "9403.02 (Skagit, WA)     39\n",
       "9901 (Skagit, WA)        21\n",
       "9404.03 (Skagit, WA)     15\n",
       "9527 (Skagit, WA)         8\n",
       "9408.02 (Skagit, WA)      3\n",
       "9508.02 (Skagit, WA)      1\n",
       "Name: count, dtype: int64"
      ]
     },
     "execution_count": 75,
     "metadata": {},
     "output_type": "execute_result"
    }
   ],
   "source": [
    "# problems\n",
    "replica_trips.loc[(replica_trips['origin_custom'].isna()) & (replica_trips['model_origin'] == \"PossInt\"), 'origin_trct_2020'].value_counts()\n",
    "\n",
    "# seem like areas along water, so they should be in the model"
   ]
  },
  {
   "cell_type": "code",
   "execution_count": 81,
   "id": "4ff0dfa3",
   "metadata": {},
   "outputs": [],
   "source": [
    "# tag External markets\n",
    "# External Visitor to Internal Work, Internal Resident to External Work, IE/EI Non-work, External-External, by Time of Day\n",
    "\n",
    "replica_trips.loc[(replica_trips['model_origin'].isin(['Int','PossInt'])) & (replica_trips['model_destination'].isin(['Int','PossInt'])),'ext_type'] = \"II\"\n",
    "replica_trips.loc[(replica_trips['model_origin'].isin(['Int','PossInt'])) &  ~(replica_trips['model_destination'].isin(['Int','PossInt'])),'ext_type'] = \"IE\"\n",
    "replica_trips.loc[~(replica_trips['model_origin'].isin(['Int','PossInt'])) & (replica_trips['model_destination'].isin(['Int','PossInt'])),'ext_type'] = \"EI\"\n",
    "replica_trips.loc[~(replica_trips['model_origin'].isin(['Int','PossInt'])) & ~(replica_trips['model_destination'].isin(['Int','PossInt'])),'ext_type'] = \"EE\"\n",
    "\n",
    "# by purpose\n",
    "replica_trips.loc[(replica_trips['trip_taker_home_cty_2020'] == 'Skagit County, WA') & (replica_trips['ext_type'] == \"IE\") & (replica_trips['trip_purpose'] == 'work'), 'ext_market'] = \"IE Resident Work\"\n",
    "replica_trips.loc[~(replica_trips['trip_taker_home_cty_2020'] == 'Skagit County, WA') & (replica_trips['ext_type'] == \"EI\") & (replica_trips['trip_purpose'] == 'work'), 'ext_market'] = \"EI Visitor Work\"\n",
    "replica_trips.loc[(replica_trips['ext_type'].isin([\"IE\",\"EI\"])) & ~(replica_trips['trip_purpose'] == 'work'), 'ext_market'] = \"IE/EI Non-work\"\n",
    "replica_trips.loc[(replica_trips['ext_type'] == \"EE\") , 'ext_market'] = \"EE\"\n",
    "replica_trips.loc[(replica_trips['ext_type'] == \"II\") , 'ext_market'] = \"II\"\n",
    "\n",
    "# by work location, direction doesn't matter\n",
    "replica_trips.loc[(replica_trips['trip_taker_home_cty_2020'] == 'Skagit County, WA') & ~(replica_trips['trip_taker_work_cty_2020'] == 'Skagit County, WA') & (replica_trips['ext_type'].isin([\"IE\",\"EI\"])) & (replica_trips['tour_type'] == 'commute'), 'ext_market2'] = \"IE Resident Work\"\n",
    "replica_trips.loc[~(replica_trips['trip_taker_home_cty_2020'] == 'Skagit County, WA') & (replica_trips['trip_taker_work_cty_2020'] == 'Skagit County, WA') & (replica_trips['ext_type'].isin([\"IE\",\"EI\"])) & (replica_trips['tour_type'] == 'commute'), 'ext_market2'] = \"EI Visitor Work\"\n",
    "# replica_trips.loc[~(replica_trips['trip_taker_home_cty_2020'] == 'Skagit County, WA') & (replica_trips['ext_type'] == \"EI\") & (replica_trips['tour_type'] == 'commute'), 'ext_market2'] = \"EI Visitor Work\"\n",
    "replica_trips.loc[(replica_trips['ext_type'].isin([\"IE\",\"EI\"])) & ~(replica_trips['tour_type'] == 'commute'), 'ext_market2'] = \"IE/EI Non-work\"\n",
    "# some commute trips for people who live and work in Skagit\n",
    "replica_trips.loc[(replica_trips['ext_type'].isin([\"IE\",\"EI\"])) & (replica_trips['tour_type'] == 'commute') & ~(replica_trips['ext_market2'].isin([\"IE Resident Work\",\"EI Visitor Work\"])), 'ext_market2'] = \"IE/EI Non-work\"\n",
    "replica_trips.loc[(replica_trips['ext_type'] == \"EE\") , 'ext_market2'] = \"EE\"\n",
    "\n"
   ]
  },
  {
   "cell_type": "code",
   "execution_count": 82,
   "id": "6cbf85b4",
   "metadata": {},
   "outputs": [
    {
     "data": {
      "text/html": [
       "\n",
       "<style>\n",
       "  #altair-viz-5cb5435304da4911aace0e41893dd0bd.vega-embed {\n",
       "    width: 100%;\n",
       "    display: flex;\n",
       "  }\n",
       "\n",
       "  #altair-viz-5cb5435304da4911aace0e41893dd0bd.vega-embed details,\n",
       "  #altair-viz-5cb5435304da4911aace0e41893dd0bd.vega-embed details summary {\n",
       "    position: relative;\n",
       "  }\n",
       "</style>\n",
       "<div id=\"altair-viz-5cb5435304da4911aace0e41893dd0bd\"></div>\n",
       "<script type=\"text/javascript\">\n",
       "  var VEGA_DEBUG = (typeof VEGA_DEBUG == \"undefined\") ? {} : VEGA_DEBUG;\n",
       "  (function(spec, embedOpt){\n",
       "    let outputDiv = document.currentScript.previousElementSibling;\n",
       "    if (outputDiv.id !== \"altair-viz-5cb5435304da4911aace0e41893dd0bd\") {\n",
       "      outputDiv = document.getElementById(\"altair-viz-5cb5435304da4911aace0e41893dd0bd\");\n",
       "    }\n",
       "\n",
       "    const paths = {\n",
       "      \"vega\": \"https://cdn.jsdelivr.net/npm/vega@5?noext\",\n",
       "      \"vega-lib\": \"https://cdn.jsdelivr.net/npm/vega-lib?noext\",\n",
       "      \"vega-lite\": \"https://cdn.jsdelivr.net/npm/vega-lite@5.20.1?noext\",\n",
       "      \"vega-embed\": \"https://cdn.jsdelivr.net/npm/vega-embed@6?noext\",\n",
       "    };\n",
       "\n",
       "    function maybeLoadScript(lib, version) {\n",
       "      var key = `${lib.replace(\"-\", \"\")}_version`;\n",
       "      return (VEGA_DEBUG[key] == version) ?\n",
       "        Promise.resolve(paths[lib]) :\n",
       "        new Promise(function(resolve, reject) {\n",
       "          var s = document.createElement('script');\n",
       "          document.getElementsByTagName(\"head\")[0].appendChild(s);\n",
       "          s.async = true;\n",
       "          s.onload = () => {\n",
       "            VEGA_DEBUG[key] = version;\n",
       "            return resolve(paths[lib]);\n",
       "          };\n",
       "          s.onerror = () => reject(`Error loading script: ${paths[lib]}`);\n",
       "          s.src = paths[lib];\n",
       "        });\n",
       "    }\n",
       "\n",
       "    function showError(err) {\n",
       "      outputDiv.innerHTML = `<div class=\"error\" style=\"color:red;\">${err}</div>`;\n",
       "      throw err;\n",
       "    }\n",
       "\n",
       "    function displayChart(vegaEmbed) {\n",
       "      vegaEmbed(outputDiv, spec, embedOpt)\n",
       "        .catch(err => showError(`Javascript Error: ${err.message}<br>This usually means there's a typo in your chart specification. See the javascript console for the full traceback.`));\n",
       "    }\n",
       "\n",
       "    if(typeof define === \"function\" && define.amd) {\n",
       "      requirejs.config({paths});\n",
       "      let deps = [\"vega-embed\"];\n",
       "      require(deps, displayChart, err => showError(`Error loading script: ${err.message}`));\n",
       "    } else {\n",
       "      maybeLoadScript(\"vega\", \"5\")\n",
       "        .then(() => maybeLoadScript(\"vega-lite\", \"5.20.1\"))\n",
       "        .then(() => maybeLoadScript(\"vega-embed\", \"6\"))\n",
       "        .catch(showError)\n",
       "        .then(() => displayChart(vegaEmbed));\n",
       "    }\n",
       "  })({\"config\": {\"view\": {\"continuousWidth\": 300, \"continuousHeight\": 300}}, \"data\": {\"name\": \"data-fd6c8a317539edd0f9340d844c4af0a6\"}, \"mark\": {\"type\": \"line\", \"color\": \"#006FA1\", \"point\": false}, \"encoding\": {\"color\": {\"field\": \"ext_market\", \"type\": \"nominal\"}, \"tooltip\": [{\"field\": \"start_hour\", \"type\": \"quantitative\"}, {\"field\": \"hour_perc\", \"type\": \"quantitative\"}], \"x\": {\"field\": \"start_hour\", \"type\": \"ordinal\"}, \"y\": {\"field\": \"hour_perc\", \"type\": \"quantitative\"}}, \"$schema\": \"https://vega.github.io/schema/vega-lite/v5.20.1.json\", \"datasets\": {\"data-fd6c8a317539edd0f9340d844c4af0a6\": [{\"start_hour\": 0, \"ext_market\": \"EE\", \"count\": 307, \"hour_perc\": 0.007593934746580256}, {\"start_hour\": 0, \"ext_market\": \"EI Visitor Work\", \"count\": 2, \"hour_perc\": 0.00028830906732016723}, {\"start_hour\": 0, \"ext_market\": \"IE/EI Non-work\", \"count\": 182, \"hour_perc\": 0.002763353678904376}, {\"start_hour\": 0, \"ext_market\": \"II\", \"count\": 187, \"hour_perc\": 0.0008143393399932066}, {\"start_hour\": 1, \"ext_market\": \"EE\", \"count\": 198, \"hour_perc\": 0.004897716872387266}, {\"start_hour\": 1, \"ext_market\": \"EI Visitor Work\", \"count\": 6, \"hour_perc\": 0.0008649272019605016}, {\"start_hour\": 1, \"ext_market\": \"IE Resident Work\", \"count\": 1, \"hour_perc\": 0.00012703252032520327}, {\"start_hour\": 1, \"ext_market\": \"IE/EI Non-work\", \"count\": 112, \"hour_perc\": 0.0017005253408642312}, {\"start_hour\": 1, \"ext_market\": \"II\", \"count\": 117, \"hour_perc\": 0.0005095064319743592}, {\"start_hour\": 2, \"ext_market\": \"EE\", \"count\": 166, \"hour_perc\": 0.004106166670789324}, {\"start_hour\": 2, \"ext_market\": \"EI Visitor Work\", \"count\": 5, \"hour_perc\": 0.0007207726683004181}, {\"start_hour\": 2, \"ext_market\": \"IE Resident Work\", \"count\": 5, \"hour_perc\": 0.0006351626016260162}, {\"start_hour\": 2, \"ext_market\": \"IE/EI Non-work\", \"count\": 84, \"hour_perc\": 0.0012753940056481736}, {\"start_hour\": 2, \"ext_market\": \"II\", \"count\": 92, \"hour_perc\": 0.00040063753625334226}, {\"start_hour\": 3, \"ext_market\": \"EE\", \"count\": 216, \"hour_perc\": 0.005342963860786108}, {\"start_hour\": 3, \"ext_market\": \"EI Visitor Work\", \"count\": 101, \"hour_perc\": 0.014559607899668444}, {\"start_hour\": 3, \"ext_market\": \"IE Resident Work\", \"count\": 127, \"hour_perc\": 0.016133130081300812}, {\"start_hour\": 3, \"ext_market\": \"IE/EI Non-work\", \"count\": 205, \"hour_perc\": 0.0031125687042604234}, {\"start_hour\": 3, \"ext_market\": \"II\", \"count\": 620, \"hour_perc\": 0.0026999486138812195}, {\"start_hour\": 4, \"ext_market\": \"EE\", \"count\": 465, \"hour_perc\": 0.011502213866970094}, {\"start_hour\": 4, \"ext_market\": \"EI Visitor Work\", \"count\": 255, \"hour_perc\": 0.036759406083321323}, {\"start_hour\": 4, \"ext_market\": \"IE Resident Work\", \"count\": 277, \"hour_perc\": 0.0351880081300813}, {\"start_hour\": 4, \"ext_market\": \"IE/EI Non-work\", \"count\": 314, \"hour_perc\": 0.004767544259208649}, {\"start_hour\": 4, \"ext_market\": \"II\", \"count\": 1376, \"hour_perc\": 0.0059921440204847715}, {\"start_hour\": 5, \"ext_market\": \"EE\", \"count\": 791, \"hour_perc\": 0.019566131545749127}, {\"start_hour\": 5, \"ext_market\": \"EI Visitor Work\", \"count\": 571, \"hour_perc\": 0.08231223871990774}, {\"start_hour\": 5, \"ext_market\": \"IE Resident Work\", \"count\": 659, \"hour_perc\": 0.08371443089430894}, {\"start_hour\": 5, \"ext_market\": \"IE/EI Non-work\", \"count\": 709, \"hour_perc\": 0.010764932738149465}, {\"start_hour\": 5, \"ext_market\": \"II\", \"count\": 3355, \"hour_perc\": 0.014610205805760472}, {\"start_hour\": 6, \"ext_market\": \"EE\", \"count\": 1657, \"hour_perc\": 0.04098745887649343}, {\"start_hour\": 6, \"ext_market\": \"EI Visitor Work\", \"count\": 1415, \"hour_perc\": 0.2039786651290183}, {\"start_hour\": 6, \"ext_market\": \"IE Resident Work\", \"count\": 1479, \"hour_perc\": 0.1878810975609756}, {\"start_hour\": 6, \"ext_market\": \"IE/EI Non-work\", \"count\": 1241, \"hour_perc\": 0.018842428107254564}, {\"start_hour\": 6, \"ext_market\": \"II\", \"count\": 8258, \"hour_perc\": 0.03596157363456631}, {\"start_hour\": 7, \"ext_market\": \"EE\", \"count\": 2425, \"hour_perc\": 0.05998466371484404}, {\"start_hour\": 7, \"ext_market\": \"EI Visitor Work\", \"count\": 1743, \"hour_perc\": 0.2512613521695257}, {\"start_hour\": 7, \"ext_market\": \"IE Resident Work\", \"count\": 1936, \"hour_perc\": 0.2459349593495935}, {\"start_hour\": 7, \"ext_market\": \"IE/EI Non-work\", \"count\": 1702, \"hour_perc\": 0.025841911876347514}, {\"start_hour\": 7, \"ext_market\": \"II\", \"count\": 15226, \"hour_perc\": 0.06630551224992814}, {\"start_hour\": 8, \"ext_market\": \"EE\", \"count\": 1979, \"hour_perc\": 0.048952432780072726}, {\"start_hour\": 8, \"ext_market\": \"EI Visitor Work\", \"count\": 800, \"hour_perc\": 0.11532362692806689}, {\"start_hour\": 8, \"ext_market\": \"IE Resident Work\", \"count\": 1021, \"hour_perc\": 0.12970020325203252}, {\"start_hour\": 8, \"ext_market\": \"IE/EI Non-work\", \"count\": 2150, \"hour_perc\": 0.03264401323980444}, {\"start_hour\": 8, \"ext_market\": \"II\", \"count\": 11980, \"hour_perc\": 0.05216997482951131}, {\"start_hour\": 9, \"ext_market\": \"EE\", \"count\": 1559, \"hour_perc\": 0.038563336384099735}, {\"start_hour\": 9, \"ext_market\": \"EI Visitor Work\", \"count\": 322, \"hour_perc\": 0.04641775983854692}, {\"start_hour\": 9, \"ext_market\": \"IE Resident Work\", \"count\": 406, \"hour_perc\": 0.05157520325203252}, {\"start_hour\": 9, \"ext_market\": \"IE/EI Non-work\", \"count\": 2538, \"hour_perc\": 0.03853511888494124}, {\"start_hour\": 9, \"ext_market\": \"II\", \"count\": 11247, \"hour_perc\": 0.04897793880697109}, {\"start_hour\": 10, \"ext_market\": \"EE\", \"count\": 1802, \"hour_perc\": 0.044574170727484104}, {\"start_hour\": 10, \"ext_market\": \"EI Visitor Work\", \"count\": 258, \"hour_perc\": 0.03719186968430157}, {\"start_hour\": 10, \"ext_market\": \"IE Resident Work\", \"count\": 306, \"hour_perc\": 0.038871951219512195}, {\"start_hour\": 10, \"ext_market\": \"IE/EI Non-work\", \"count\": 3293, \"hour_perc\": 0.0499984816738028}, {\"start_hour\": 10, \"ext_market\": \"II\", \"count\": 12039, \"hour_perc\": 0.05242690542341291}, {\"start_hour\": 11, \"ext_market\": \"EE\", \"count\": 2139, \"hour_perc\": 0.052910183788062434}, {\"start_hour\": 11, \"ext_market\": \"EI Visitor Work\", \"count\": 199, \"hour_perc\": 0.02868675219835664}, {\"start_hour\": 11, \"ext_market\": \"IE Resident Work\", \"count\": 210, \"hour_perc\": 0.026676829268292682}, {\"start_hour\": 11, \"ext_market\": \"IE/EI Non-work\", \"count\": 4014, \"hour_perc\": 0.06094561355561629}, {\"start_hour\": 11, \"ext_market\": \"II\", \"count\": 14158, \"hour_perc\": 0.061654633024726305}, {\"start_hour\": 12, \"ext_market\": \"EE\", \"count\": 2353, \"hour_perc\": 0.05820367576124867}, {\"start_hour\": 12, \"ext_market\": \"EI Visitor Work\", \"count\": 252, \"hour_perc\": 0.03632694248234107}, {\"start_hour\": 12, \"ext_market\": \"IE Resident Work\", \"count\": 256, \"hour_perc\": 0.032520325203252036}, {\"start_hour\": 12, \"ext_market\": \"IE/EI Non-work\", \"count\": 4384, \"hour_perc\": 0.06656342048525705}, {\"start_hour\": 12, \"ext_market\": \"II\", \"count\": 15001, \"hour_perc\": 0.06532569218843899}, {\"start_hour\": 13, \"ext_market\": \"EE\", \"count\": 2645, \"hour_perc\": 0.0654265713508299}, {\"start_hour\": 13, \"ext_market\": \"EI Visitor Work\", \"count\": 240, \"hour_perc\": 0.03459708807842007}, {\"start_hour\": 13, \"ext_market\": \"IE Resident Work\", \"count\": 243, \"hour_perc\": 0.03086890243902439}, {\"start_hour\": 13, \"ext_market\": \"IE/EI Non-work\", \"count\": 5164, \"hour_perc\": 0.07840636482341866}, {\"start_hour\": 13, \"ext_market\": \"II\", \"count\": 16193, \"hour_perc\": 0.07051656113641708}, {\"start_hour\": 14, \"ext_market\": \"EE\", \"count\": 3062, \"hour_perc\": 0.07574145991540307}, {\"start_hour\": 14, \"ext_market\": \"EI Visitor Work\", \"count\": 218, \"hour_perc\": 0.031425688337898224}, {\"start_hour\": 14, \"ext_market\": \"IE Resident Work\", \"count\": 212, \"hour_perc\": 0.02693089430894309}, {\"start_hour\": 14, \"ext_market\": \"IE/EI Non-work\", \"count\": 5955, \"hour_perc\": 0.0904163250432723}, {\"start_hour\": 14, \"ext_market\": \"II\", \"count\": 19276, \"hour_perc\": 0.08394227335673289}, {\"start_hour\": 15, \"ext_market\": \"EE\", \"count\": 3204, \"hour_perc\": 0.07925396393499394}, {\"start_hour\": 15, \"ext_market\": \"EI Visitor Work\", \"count\": 124, \"hour_perc\": 0.017875162173850368}, {\"start_hour\": 15, \"ext_market\": \"IE Resident Work\", \"count\": 197, \"hour_perc\": 0.02502540650406504}, {\"start_hour\": 15, \"ext_market\": \"IE/EI Non-work\", \"count\": 6481, \"hour_perc\": 0.09840272084054538}, {\"start_hour\": 15, \"ext_market\": \"II\", \"count\": 19501, \"hour_perc\": 0.08492209341822204}, {\"start_hour\": 16, \"ext_market\": \"EE\", \"count\": 3207, \"hour_perc\": 0.07932817176639374}, {\"start_hour\": 16, \"ext_market\": \"EI Visitor Work\", \"count\": 142, \"hour_perc\": 0.020469943779731874}, {\"start_hour\": 16, \"ext_market\": \"IE Resident Work\", \"count\": 161, \"hour_perc\": 0.020452235772357722}, {\"start_hour\": 16, \"ext_market\": \"IE/EI Non-work\", \"count\": 6642, \"hour_perc\": 0.10084722601803771}, {\"start_hour\": 16, \"ext_market\": \"II\", \"count\": 18937, \"hour_perc\": 0.0824660111307559}, {\"start_hour\": 17, \"ext_market\": \"EE\", \"count\": 2995, \"hour_perc\": 0.07408415168080738}, {\"start_hour\": 17, \"ext_market\": \"EI Visitor Work\", \"count\": 111, \"hour_perc\": 0.01600115323626928}, {\"start_hour\": 17, \"ext_market\": \"IE Resident Work\", \"count\": 153, \"hour_perc\": 0.019435975609756097}, {\"start_hour\": 17, \"ext_market\": \"IE/EI Non-work\", \"count\": 5593, \"hour_perc\": 0.08491998420940755}, {\"start_hour\": 17, \"ext_market\": \"II\", \"count\": 17672, \"hour_perc\": 0.07695724500727244}, {\"start_hour\": 18, \"ext_market\": \"EE\", \"count\": 2486, \"hour_perc\": 0.06149355628664012}, {\"start_hour\": 18, \"ext_market\": \"EI Visitor Work\", \"count\": 84, \"hour_perc\": 0.012108980827447022}, {\"start_hour\": 18, \"ext_market\": \"IE Resident Work\", \"count\": 112, \"hour_perc\": 0.014227642276422764}, {\"start_hour\": 18, \"ext_market\": \"IE/EI Non-work\", \"count\": 4591, \"hour_perc\": 0.06970635571346148}, {\"start_hour\": 18, \"ext_market\": \"II\", \"count\": 14897, \"hour_perc\": 0.06487279758223956}, {\"start_hour\": 19, \"ext_market\": \"EE\", \"count\": 2104, \"hour_perc\": 0.05204442575506468}, {\"start_hour\": 19, \"ext_market\": \"EI Visitor Work\", \"count\": 42, \"hour_perc\": 0.006054490413723511}, {\"start_hour\": 19, \"ext_market\": \"IE Resident Work\", \"count\": 49, \"hour_perc\": 0.006224593495934959}, {\"start_hour\": 19, \"ext_market\": \"IE/EI Non-work\", \"count\": 3746, \"hour_perc\": 0.05687649934711973}, {\"start_hour\": 19, \"ext_market\": \"II\", \"count\": 11319, \"hour_perc\": 0.04929148122664762}, {\"start_hour\": 20, \"ext_market\": \"EE\", \"count\": 1833, \"hour_perc\": 0.045340984985282114}, {\"start_hour\": 20, \"ext_market\": \"EI Visitor Work\", \"count\": 23, \"hour_perc\": 0.003315554274181923}, {\"start_hour\": 20, \"ext_market\": \"IE Resident Work\", \"count\": 37, \"hour_perc\": 0.004700203252032521}, {\"start_hour\": 20, \"ext_market\": \"IE/EI Non-work\", \"count\": 2952, \"hour_perc\": 0.04482098934135009}, {\"start_hour\": 20, \"ext_market\": \"II\", \"count\": 8571, \"hour_perc\": 0.03732461220899344}, {\"start_hour\": 21, \"ext_market\": \"EE\", \"count\": 1364, \"hour_perc\": 0.033739827343112275}, {\"start_hour\": 21, \"ext_market\": \"EI Visitor Work\", \"count\": 12, \"hour_perc\": 0.0017298544039210033}, {\"start_hour\": 21, \"ext_market\": \"IE Resident Work\", \"count\": 12, \"hour_perc\": 0.001524390243902439}, {\"start_hour\": 21, \"ext_market\": \"IE/EI Non-work\", \"count\": 2141, \"hour_perc\": 0.03250736388205642}, {\"start_hour\": 21, \"ext_market\": \"II\", \"count\": 5692, \"hour_perc\": 0.024787270177761132}, {\"start_hour\": 22, \"ext_market\": \"EE\", \"count\": 964, \"hour_perc\": 0.023845449823138003}, {\"start_hour\": 22, \"ext_market\": \"EI Visitor Work\", \"count\": 10, \"hour_perc\": 0.0014415453366008362}, {\"start_hour\": 22, \"ext_market\": \"IE Resident Work\", \"count\": 6, \"hour_perc\": 0.0007621951219512195}, {\"start_hour\": 22, \"ext_market\": \"IE/EI Non-work\", \"count\": 1182, \"hour_perc\": 0.017946615650906442}, {\"start_hour\": 22, \"ext_market\": \"II\", \"count\": 2796, \"hour_perc\": 0.012175897297438532}, {\"start_hour\": 23, \"ext_market\": \"EE\", \"count\": 506, \"hour_perc\": 0.012516387562767458}, {\"start_hour\": 23, \"ext_market\": \"EI Visitor Work\", \"count\": 2, \"hour_perc\": 0.00028830906732016723}, {\"start_hour\": 23, \"ext_market\": \"IE Resident Work\", \"count\": 7, \"hour_perc\": 0.0008892276422764227}, {\"start_hour\": 23, \"ext_market\": \"IE/EI Non-work\", \"count\": 487, \"hour_perc\": 0.007394248580365006}, {\"start_hour\": 23, \"ext_market\": \"II\", \"count\": 1124, \"hour_perc\": 0.004894745551616921}]}}, {\"mode\": \"vega-lite\"});\n",
       "</script>"
      ],
      "text/plain": [
       "alt.Chart(...)"
      ]
     },
     "execution_count": 82,
     "metadata": {},
     "output_type": "execute_result"
    }
   ],
   "source": [
    "# hourly departures by market\n",
    "replica_departures = replica_trips.groupby(['start_hour','ext_market']).size().reset_index(name='count')\n",
    "replica_departures['hour_perc'] = replica_departures['count'] / replica_departures.groupby(['ext_market'])['count'].transform('sum')\n",
    "\n",
    "ext_chart = alt.Chart(replica_departures).mark_line(point=False, color='#006FA1').encode(\n",
    "    x='start_hour:O',\n",
    "    y='hour_perc:Q',\n",
    "    color='ext_market:N',\n",
    "    tooltip=['start_hour', 'hour_perc']\n",
    ")\n",
    "\n",
    "ext_chart"
   ]
  },
  {
   "cell_type": "code",
   "execution_count": null,
   "id": "bb54456d",
   "metadata": {},
   "outputs": [
    {
     "data": {
      "text/html": [
       "\n",
       "<style>\n",
       "  #altair-viz-eb78283b035849a39f9f5dabecbedd6f.vega-embed {\n",
       "    width: 100%;\n",
       "    display: flex;\n",
       "  }\n",
       "\n",
       "  #altair-viz-eb78283b035849a39f9f5dabecbedd6f.vega-embed details,\n",
       "  #altair-viz-eb78283b035849a39f9f5dabecbedd6f.vega-embed details summary {\n",
       "    position: relative;\n",
       "  }\n",
       "</style>\n",
       "<div id=\"altair-viz-eb78283b035849a39f9f5dabecbedd6f\"></div>\n",
       "<script type=\"text/javascript\">\n",
       "  var VEGA_DEBUG = (typeof VEGA_DEBUG == \"undefined\") ? {} : VEGA_DEBUG;\n",
       "  (function(spec, embedOpt){\n",
       "    let outputDiv = document.currentScript.previousElementSibling;\n",
       "    if (outputDiv.id !== \"altair-viz-eb78283b035849a39f9f5dabecbedd6f\") {\n",
       "      outputDiv = document.getElementById(\"altair-viz-eb78283b035849a39f9f5dabecbedd6f\");\n",
       "    }\n",
       "\n",
       "    const paths = {\n",
       "      \"vega\": \"https://cdn.jsdelivr.net/npm/vega@5?noext\",\n",
       "      \"vega-lib\": \"https://cdn.jsdelivr.net/npm/vega-lib?noext\",\n",
       "      \"vega-lite\": \"https://cdn.jsdelivr.net/npm/vega-lite@5.20.1?noext\",\n",
       "      \"vega-embed\": \"https://cdn.jsdelivr.net/npm/vega-embed@6?noext\",\n",
       "    };\n",
       "\n",
       "    function maybeLoadScript(lib, version) {\n",
       "      var key = `${lib.replace(\"-\", \"\")}_version`;\n",
       "      return (VEGA_DEBUG[key] == version) ?\n",
       "        Promise.resolve(paths[lib]) :\n",
       "        new Promise(function(resolve, reject) {\n",
       "          var s = document.createElement('script');\n",
       "          document.getElementsByTagName(\"head\")[0].appendChild(s);\n",
       "          s.async = true;\n",
       "          s.onload = () => {\n",
       "            VEGA_DEBUG[key] = version;\n",
       "            return resolve(paths[lib]);\n",
       "          };\n",
       "          s.onerror = () => reject(`Error loading script: ${paths[lib]}`);\n",
       "          s.src = paths[lib];\n",
       "        });\n",
       "    }\n",
       "\n",
       "    function showError(err) {\n",
       "      outputDiv.innerHTML = `<div class=\"error\" style=\"color:red;\">${err}</div>`;\n",
       "      throw err;\n",
       "    }\n",
       "\n",
       "    function displayChart(vegaEmbed) {\n",
       "      vegaEmbed(outputDiv, spec, embedOpt)\n",
       "        .catch(err => showError(`Javascript Error: ${err.message}<br>This usually means there's a typo in your chart specification. See the javascript console for the full traceback.`));\n",
       "    }\n",
       "\n",
       "    if(typeof define === \"function\" && define.amd) {\n",
       "      requirejs.config({paths});\n",
       "      let deps = [\"vega-embed\"];\n",
       "      require(deps, displayChart, err => showError(`Error loading script: ${err.message}`));\n",
       "    } else {\n",
       "      maybeLoadScript(\"vega\", \"5\")\n",
       "        .then(() => maybeLoadScript(\"vega-lite\", \"5.20.1\"))\n",
       "        .then(() => maybeLoadScript(\"vega-embed\", \"6\"))\n",
       "        .catch(showError)\n",
       "        .then(() => displayChart(vegaEmbed));\n",
       "    }\n",
       "  })({\"config\": {\"view\": {\"continuousWidth\": 300, \"continuousHeight\": 300}}, \"data\": {\"name\": \"data-40b4b9ab882e63d59273bd8c9530f14b\"}, \"mark\": {\"type\": \"line\", \"color\": \"#006FA1\", \"point\": false}, \"encoding\": {\"color\": {\"field\": \"ext_market2\", \"type\": \"nominal\"}, \"tooltip\": [{\"field\": \"mid_hour\", \"type\": \"quantitative\"}, {\"field\": \"hour_perc\", \"type\": \"quantitative\"}], \"x\": {\"field\": \"mid_hour\", \"type\": \"ordinal\"}, \"y\": {\"field\": \"hour_perc\", \"type\": \"quantitative\"}}, \"$schema\": \"https://vega.github.io/schema/vega-lite/v5.20.1.json\", \"datasets\": {\"data-40b4b9ab882e63d59273bd8c9530f14b\": [{\"mid_hour\": 0.0, \"ext_market2\": \"EE\", \"count\": 24, \"hour_perc\": 0.0005936626511984565}, {\"mid_hour\": 0.0, \"ext_market2\": \"EI Visitor Work\", \"count\": 5, \"hour_perc\": 0.0003466444814198558}, {\"mid_hour\": 0.0, \"ext_market2\": \"IE Resident Work\", \"count\": 3, \"hour_perc\": 0.000184945441094877}, {\"mid_hour\": 0.0, \"ext_market2\": \"IE/EI Non-work\", \"count\": 74, \"hour_perc\": 0.0014274966723895137}, {\"mid_hour\": 1.0, \"ext_market2\": \"EE\", \"count\": 160, \"hour_perc\": 0.00395775100798971}, {\"mid_hour\": 1.0, \"ext_market2\": \"EI Visitor Work\", \"count\": 7, \"hour_perc\": 0.0004853022739877981}, {\"mid_hour\": 1.0, \"ext_market2\": \"IE Resident Work\", \"count\": 6, \"hour_perc\": 0.000369890882189754}, {\"mid_hour\": 1.0, \"ext_market2\": \"IE/EI Non-work\", \"count\": 114, \"hour_perc\": 0.002199116495302764}, {\"mid_hour\": 2.0, \"ext_market2\": \"EE\", \"count\": 210, \"hour_perc\": 0.005194548197986495}, {\"mid_hour\": 2.0, \"ext_market2\": \"EI Visitor Work\", \"count\": 9, \"hour_perc\": 0.0006239600665557404}, {\"mid_hour\": 2.0, \"ext_market2\": \"IE Resident Work\", \"count\": 8, \"hour_perc\": 0.0004931878429196721}, {\"mid_hour\": 2.0, \"ext_market2\": \"IE/EI Non-work\", \"count\": 89, \"hour_perc\": 0.0017168541059819826}, {\"mid_hour\": 3.0, \"ext_market2\": \"EE\", \"count\": 186, \"hour_perc\": 0.0046008855467880375}, {\"mid_hour\": 3.0, \"ext_market2\": \"EI Visitor Work\", \"count\": 59, \"hour_perc\": 0.004090404880754298}, {\"mid_hour\": 3.0, \"ext_market2\": \"IE Resident Work\", \"count\": 44, \"hour_perc\": 0.002712533136058196}, {\"mid_hour\": 3.0, \"ext_market2\": \"IE/EI Non-work\", \"count\": 143, \"hour_perc\": 0.002758540866914871}, {\"mid_hour\": 4.0, \"ext_market2\": \"EE\", \"count\": 256, \"hour_perc\": 0.006332401612783535}, {\"mid_hour\": 4.0, \"ext_market2\": \"EI Visitor Work\", \"count\": 177, \"hour_perc\": 0.012271214642262895}, {\"mid_hour\": 4.0, \"ext_market2\": \"IE Resident Work\", \"count\": 217, \"hour_perc\": 0.013377720239196103}, {\"mid_hour\": 4.0, \"ext_market2\": \"IE/EI Non-work\", \"count\": 230, \"hour_perc\": 0.004436813981751191}, {\"mid_hour\": 5.0, \"ext_market2\": \"EE\", \"count\": 530, \"hour_perc\": 0.013110050213965914}, {\"mid_hour\": 5.0, \"ext_market2\": \"EI Visitor Work\", \"count\": 409, \"hour_perc\": 0.028355518580144203}, {\"mid_hour\": 5.0, \"ext_market2\": \"IE Resident Work\", \"count\": 503, \"hour_perc\": 0.031009185623574378}, {\"mid_hour\": 5.0, \"ext_market2\": \"IE/EI Non-work\", \"count\": 461, \"hour_perc\": 0.008892918459075213}, {\"mid_hour\": 6.0, \"ext_market2\": \"EE\", \"count\": 887, \"hour_perc\": 0.021940782150542956}, {\"mid_hour\": 6.0, \"ext_market2\": \"EI Visitor Work\", \"count\": 1098, \"hour_perc\": 0.07612312811980033}, {\"mid_hour\": 6.0, \"ext_market2\": \"IE Resident Work\", \"count\": 1146, \"hour_perc\": 0.07064915849824302}, {\"mid_hour\": 6.0, \"ext_market2\": \"IE/EI Non-work\", \"count\": 920, \"hour_perc\": 0.017747255927004765}, {\"mid_hour\": 7.0, \"ext_market2\": \"EE\", \"count\": 1549, \"hour_perc\": 0.03831597694610038}, {\"mid_hour\": 7.0, \"ext_market2\": \"EI Visitor Work\", \"count\": 1735, \"hour_perc\": 0.12028563505268997}, {\"mid_hour\": 7.0, \"ext_market2\": \"IE Resident Work\", \"count\": 1913, \"hour_perc\": 0.11793354293816657}, {\"mid_hour\": 7.0, \"ext_market2\": \"IE/EI Non-work\", \"count\": 1555, \"hour_perc\": 0.02999672061575262}, {\"mid_hour\": 8.0, \"ext_market2\": \"EE\", \"count\": 2097, \"hour_perc\": 0.05187127414846514}, {\"mid_hour\": 8.0, \"ext_market2\": \"EI Visitor Work\", \"count\": 1217, \"hour_perc\": 0.0843732667775929}, {\"mid_hour\": 8.0, \"ext_market2\": \"IE Resident Work\", \"count\": 1612, \"hour_perc\": 0.09937735034831391}, {\"mid_hour\": 8.0, \"ext_market2\": \"IE/EI Non-work\", \"count\": 1945, \"hour_perc\": 0.037520013889156816}, {\"mid_hour\": 9.0, \"ext_market2\": \"EE\", \"count\": 2120, \"hour_perc\": 0.05244020085586366}, {\"mid_hour\": 9.0, \"ext_market2\": \"EI Visitor Work\", \"count\": 494, \"hour_perc\": 0.03424847476428175}, {\"mid_hour\": 9.0, \"ext_market2\": \"IE Resident Work\", \"count\": 869, \"hour_perc\": 0.05357252943714937}, {\"mid_hour\": 9.0, \"ext_market2\": \"IE/EI Non-work\", \"count\": 2250, \"hour_perc\": 0.04340361503887035}, {\"mid_hour\": 10.0, \"ext_market2\": \"EE\", \"count\": 1776, \"hour_perc\": 0.04393103618868578}, {\"mid_hour\": 10.0, \"ext_market2\": \"EI Visitor Work\", \"count\": 408, \"hour_perc\": 0.028286189683860232}, {\"mid_hour\": 10.0, \"ext_market2\": \"IE Resident Work\", \"count\": 500, \"hour_perc\": 0.030824240182479503}, {\"mid_hour\": 10.0, \"ext_market2\": \"IE/EI Non-work\", \"count\": 2803, \"hour_perc\": 0.054071259090646036}, {\"mid_hour\": 11.0, \"ext_market2\": \"EE\", \"count\": 1899, \"hour_perc\": 0.04697355727607787}, {\"mid_hour\": 11.0, \"ext_market2\": \"EI Visitor Work\", \"count\": 382, \"hour_perc\": 0.026483638380476984}, {\"mid_hour\": 11.0, \"ext_market2\": \"IE Resident Work\", \"count\": 470, \"hour_perc\": 0.02897478577153073}, {\"mid_hour\": 11.0, \"ext_market2\": \"IE/EI Non-work\", \"count\": 3434, \"hour_perc\": 0.06624356179710257}, {\"mid_hour\": 12.0, \"ext_market2\": \"EE\", \"count\": 2173, \"hour_perc\": 0.05375120587726025}, {\"mid_hour\": 12.0, \"ext_market2\": \"EI Visitor Work\", \"count\": 520, \"hour_perc\": 0.036051026067665005}, {\"mid_hour\": 12.0, \"ext_market2\": \"IE Resident Work\", \"count\": 593, \"hour_perc\": 0.03655754885642069}, {\"mid_hour\": 12.0, \"ext_market2\": \"IE/EI Non-work\", \"count\": 3758, \"hour_perc\": 0.0724936823626999}, {\"mid_hour\": 13.0, \"ext_market2\": \"EE\", \"count\": 2351, \"hour_perc\": 0.0581542038736488}, {\"mid_hour\": 13.0, \"ext_market2\": \"EI Visitor Work\", \"count\": 603, \"hour_perc\": 0.04180532445923461}, {\"mid_hour\": 13.0, \"ext_market2\": \"IE Resident Work\", \"count\": 703, \"hour_perc\": 0.04333888169656618}, {\"mid_hour\": 13.0, \"ext_market2\": \"IE/EI Non-work\", \"count\": 4054, \"hour_perc\": 0.07820366905225795}, {\"mid_hour\": 14.0, \"ext_market2\": \"EE\", \"count\": 2591, \"hour_perc\": 0.06409083038563336}, {\"mid_hour\": 14.0, \"ext_market2\": \"EI Visitor Work\", \"count\": 931, \"hour_perc\": 0.06454520244037715}, {\"mid_hour\": 14.0, \"ext_market2\": \"IE Resident Work\", \"count\": 966, \"hour_perc\": 0.059552432032550395}, {\"mid_hour\": 14.0, \"ext_market2\": \"IE/EI Non-work\", \"count\": 4309, \"hour_perc\": 0.08312274542332992}, {\"mid_hour\": 15.0, \"ext_market2\": \"EE\", \"count\": 2946, \"hour_perc\": 0.07287209043461053}, {\"mid_hour\": 15.0, \"ext_market2\": \"EI Visitor Work\", \"count\": 1172, \"hour_perc\": 0.0812534664448142}, {\"mid_hour\": 15.0, \"ext_market2\": \"IE Resident Work\", \"count\": 1240, \"hour_perc\": 0.07644411565254916}, {\"mid_hour\": 15.0, \"ext_market2\": \"IE/EI Non-work\", \"count\": 4344, \"hour_perc\": 0.08379791276837902}, {\"mid_hour\": 16.0, \"ext_market2\": \"EE\", \"count\": 3104, \"hour_perc\": 0.07678036955500037}, {\"mid_hour\": 16.0, \"ext_market2\": \"EI Visitor Work\", \"count\": 1445, \"hour_perc\": 0.10018025513033832}, {\"mid_hour\": 16.0, \"ext_market2\": \"IE Resident Work\", \"count\": 1319, \"hour_perc\": 0.08131434560138093}, {\"mid_hour\": 16.0, \"ext_market2\": \"IE/EI Non-work\", \"count\": 4282, \"hour_perc\": 0.08260190204286348}, {\"mid_hour\": 17.0, \"ext_market2\": \"EE\", \"count\": 3135, \"hour_perc\": 0.07754718381279838}, {\"mid_hour\": 17.0, \"ext_market2\": \"EI Visitor Work\", \"count\": 1204, \"hour_perc\": 0.08347199112590127}, {\"mid_hour\": 17.0, \"ext_market2\": \"IE Resident Work\", \"count\": 1149, \"hour_perc\": 0.0708341039393379}, {\"mid_hour\": 17.0, \"ext_market2\": \"IE/EI Non-work\", \"count\": 4034, \"hour_perc\": 0.07781785914080133}, {\"mid_hour\": 18.0, \"ext_market2\": \"EE\", \"count\": 2925, \"hour_perc\": 0.07235263561481188}, {\"mid_hour\": 18.0, \"ext_market2\": \"EI Visitor Work\", \"count\": 795, \"hour_perc\": 0.05511647254575707}, {\"mid_hour\": 18.0, \"ext_market2\": \"IE Resident Work\", \"count\": 893, \"hour_perc\": 0.05505209296590839}, {\"mid_hour\": 18.0, \"ext_market2\": \"IE/EI Non-work\", \"count\": 3615, \"hour_perc\": 0.06973514149578502}, {\"mid_hour\": 19.0, \"ext_market2\": \"EE\", \"count\": 2454, \"hour_perc\": 0.06070200608504218}, {\"mid_hour\": 19.0, \"ext_market2\": \"EI Visitor Work\", \"count\": 583, \"hour_perc\": 0.040418746533555185}, {\"mid_hour\": 19.0, \"ext_market2\": \"IE Resident Work\", \"count\": 695, \"hour_perc\": 0.042845693853646505}, {\"mid_hour\": 19.0, \"ext_market2\": \"IE/EI Non-work\", \"count\": 3103, \"hour_perc\": 0.059858407762495416}, {\"mid_hour\": 20.0, \"ext_market2\": \"EE\", \"count\": 2222, \"hour_perc\": 0.054963267123457095}, {\"mid_hour\": 20.0, \"ext_market2\": \"EI Visitor Work\", \"count\": 451, \"hour_perc\": 0.03126733222407099}, {\"mid_hour\": 20.0, \"ext_market2\": \"IE Resident Work\", \"count\": 507, \"hour_perc\": 0.03125577954503422}, {\"mid_hour\": 20.0, \"ext_market2\": \"IE/EI Non-work\", \"count\": 2581, \"hour_perc\": 0.0497887690734775}, {\"mid_hour\": 21.0, \"ext_market2\": \"EE\", \"count\": 1803, \"hour_perc\": 0.04459890667128404}, {\"mid_hour\": 21.0, \"ext_market2\": \"EI Visitor Work\", \"count\": 327, \"hour_perc\": 0.02267054908485857}, {\"mid_hour\": 21.0, \"ext_market2\": \"IE Resident Work\", \"count\": 410, \"hour_perc\": 0.02527587694963319}, {\"mid_hour\": 21.0, \"ext_market2\": \"IE/EI Non-work\", \"count\": 1738, \"hour_perc\": 0.03352688130558074}, {\"mid_hour\": 22.0, \"ext_market2\": \"EE\", \"count\": 1329, \"hour_perc\": 0.03287406931011453}, {\"mid_hour\": 22.0, \"ext_market2\": \"EI Visitor Work\", \"count\": 262, \"hour_perc\": 0.018164170826400445}, {\"mid_hour\": 22.0, \"ext_market2\": \"IE Resident Work\", \"count\": 296, \"hour_perc\": 0.018247950188027866}, {\"mid_hour\": 22.0, \"ext_market2\": \"IE/EI Non-work\", \"count\": 1215, \"hour_perc\": 0.023437952120989987}, {\"mid_hour\": 23.0, \"ext_market2\": \"EE\", \"count\": 863, \"hour_perc\": 0.021347119499344498}, {\"mid_hour\": 23.0, \"ext_market2\": \"EI Visitor Work\", \"count\": 110, \"hour_perc\": 0.007626178591236828}, {\"mid_hour\": 23.0, \"ext_market2\": \"IE Resident Work\", \"count\": 127, \"hour_perc\": 0.007829357006349794}, {\"mid_hour\": 23.0, \"ext_market2\": \"IE/EI Non-work\", \"count\": 560, \"hour_perc\": 0.010802677520785509}, {\"mid_hour\": 24.0, \"ext_market2\": \"EE\", \"count\": 549, \"hour_perc\": 0.013580033146164691}, {\"mid_hour\": 24.0, \"ext_market2\": \"EI Visitor Work\", \"count\": 20, \"hour_perc\": 0.0013865779256794233}, {\"mid_hour\": 24.0, \"ext_market2\": \"IE Resident Work\", \"count\": 29, \"hour_perc\": 0.0017878059305838111}, {\"mid_hour\": 24.0, \"ext_market2\": \"IE/EI Non-work\", \"count\": 175, \"hour_perc\": 0.0033758367252454714}, {\"mid_hour\": 25.0, \"ext_market2\": \"EE\", \"count\": 183, \"hour_perc\": 0.00452667771538823}, {\"mid_hour\": 25.0, \"ext_market2\": \"EI Visitor Work\", \"count\": 1, \"hour_perc\": 6.932889628397117e-05}, {\"mid_hour\": 25.0, \"ext_market2\": \"IE Resident Work\", \"count\": 2, \"hour_perc\": 0.00012329696072991802}, {\"mid_hour\": 25.0, \"ext_market2\": \"IE/EI Non-work\", \"count\": 42, \"hour_perc\": 0.0008102008140589131}, {\"mid_hour\": 26.0, \"ext_market2\": \"EE\", \"count\": 94, \"hour_perc\": 0.0023251787171939546}, {\"mid_hour\": 26.0, \"ext_market2\": \"IE Resident Work\", \"count\": 1, \"hour_perc\": 6.164848036495901e-05}, {\"mid_hour\": 26.0, \"ext_market2\": \"IE/EI Non-work\", \"count\": 10, \"hour_perc\": 0.00019290495572831266}, {\"mid_hour\": 27.0, \"ext_market2\": \"EE\", \"count\": 11, \"hour_perc\": 0.00027209538179929257}, {\"mid_hour\": 27.0, \"ext_market2\": \"IE/EI Non-work\", \"count\": 1, \"hour_perc\": 1.9290495572831266e-05}]}}, {\"mode\": \"vega-lite\"});\n",
       "</script>"
      ],
      "text/plain": [
       "alt.Chart(...)"
      ]
     },
     "execution_count": 85,
     "metadata": {},
     "output_type": "execute_result"
    }
   ],
   "source": [
    "# hourly departures by market 2\n",
    "# trying to find PM IE/EI work trips\n",
    "replica_departures = replica_trips.groupby(['start_hour','ext_market2']).size().reset_index(name='count')\n",
    "replica_departures['hour_perc'] = replica_departures['count'] / replica_departures.groupby(['ext_market2'])['count'].transform('sum')\n",
    "\n",
    "ext_chart = alt.Chart(replica_departures).mark_line(point=False, color='#006FA1').encode(\n",
    "    x='start_hour:O',\n",
    "    y='hour_perc:Q',\n",
    "    color='ext_market2:N',\n",
    "    tooltip=['start_hour', 'hour_perc']\n",
    ")\n",
    "\n",
    "ext_chart"
   ]
  },
  {
   "cell_type": "code",
   "execution_count": null,
   "id": "d52f9106",
   "metadata": {},
   "outputs": [
    {
     "data": {
      "text/html": [
       "\n",
       "<style>\n",
       "  #altair-viz-e29645325bf04b268ef2ab6d864104ca.vega-embed {\n",
       "    width: 100%;\n",
       "    display: flex;\n",
       "  }\n",
       "\n",
       "  #altair-viz-e29645325bf04b268ef2ab6d864104ca.vega-embed details,\n",
       "  #altair-viz-e29645325bf04b268ef2ab6d864104ca.vega-embed details summary {\n",
       "    position: relative;\n",
       "  }\n",
       "</style>\n",
       "<div id=\"altair-viz-e29645325bf04b268ef2ab6d864104ca\"></div>\n",
       "<script type=\"text/javascript\">\n",
       "  var VEGA_DEBUG = (typeof VEGA_DEBUG == \"undefined\") ? {} : VEGA_DEBUG;\n",
       "  (function(spec, embedOpt){\n",
       "    let outputDiv = document.currentScript.previousElementSibling;\n",
       "    if (outputDiv.id !== \"altair-viz-e29645325bf04b268ef2ab6d864104ca\") {\n",
       "      outputDiv = document.getElementById(\"altair-viz-e29645325bf04b268ef2ab6d864104ca\");\n",
       "    }\n",
       "\n",
       "    const paths = {\n",
       "      \"vega\": \"https://cdn.jsdelivr.net/npm/vega@5?noext\",\n",
       "      \"vega-lib\": \"https://cdn.jsdelivr.net/npm/vega-lib?noext\",\n",
       "      \"vega-lite\": \"https://cdn.jsdelivr.net/npm/vega-lite@5.20.1?noext\",\n",
       "      \"vega-embed\": \"https://cdn.jsdelivr.net/npm/vega-embed@6?noext\",\n",
       "    };\n",
       "\n",
       "    function maybeLoadScript(lib, version) {\n",
       "      var key = `${lib.replace(\"-\", \"\")}_version`;\n",
       "      return (VEGA_DEBUG[key] == version) ?\n",
       "        Promise.resolve(paths[lib]) :\n",
       "        new Promise(function(resolve, reject) {\n",
       "          var s = document.createElement('script');\n",
       "          document.getElementsByTagName(\"head\")[0].appendChild(s);\n",
       "          s.async = true;\n",
       "          s.onload = () => {\n",
       "            VEGA_DEBUG[key] = version;\n",
       "            return resolve(paths[lib]);\n",
       "          };\n",
       "          s.onerror = () => reject(`Error loading script: ${paths[lib]}`);\n",
       "          s.src = paths[lib];\n",
       "        });\n",
       "    }\n",
       "\n",
       "    function showError(err) {\n",
       "      outputDiv.innerHTML = `<div class=\"error\" style=\"color:red;\">${err}</div>`;\n",
       "      throw err;\n",
       "    }\n",
       "\n",
       "    function displayChart(vegaEmbed) {\n",
       "      vegaEmbed(outputDiv, spec, embedOpt)\n",
       "        .catch(err => showError(`Javascript Error: ${err.message}<br>This usually means there's a typo in your chart specification. See the javascript console for the full traceback.`));\n",
       "    }\n",
       "\n",
       "    if(typeof define === \"function\" && define.amd) {\n",
       "      requirejs.config({paths});\n",
       "      let deps = [\"vega-embed\"];\n",
       "      require(deps, displayChart, err => showError(`Error loading script: ${err.message}`));\n",
       "    } else {\n",
       "      maybeLoadScript(\"vega\", \"5\")\n",
       "        .then(() => maybeLoadScript(\"vega-lite\", \"5.20.1\"))\n",
       "        .then(() => maybeLoadScript(\"vega-embed\", \"6\"))\n",
       "        .catch(showError)\n",
       "        .then(() => displayChart(vegaEmbed));\n",
       "    }\n",
       "  })({\"config\": {\"view\": {\"continuousWidth\": 300, \"continuousHeight\": 300}}, \"data\": {\"name\": \"data-1f7c5378a656575855829f430acc29a1\"}, \"mark\": {\"type\": \"line\", \"color\": \"#006FA1\", \"point\": false}, \"encoding\": {\"color\": {\"field\": \"tour_type\", \"type\": \"nominal\"}, \"tooltip\": [{\"field\": \"mid_hour\", \"type\": \"quantitative\"}, {\"field\": \"hour_perc\", \"type\": \"quantitative\"}], \"x\": {\"field\": \"mid_hour\", \"type\": \"ordinal\"}, \"y\": {\"field\": \"hour_perc\", \"type\": \"quantitative\"}}, \"$schema\": \"https://vega.github.io/schema/vega-lite/v5.20.1.json\", \"datasets\": {\"data-1f7c5378a656575855829f430acc29a1\": [{\"mid_hour\": 0.0, \"tour_type\": \"commute\", \"count\": 62, \"hour_perc\": 0.000440290876036814}, {\"mid_hour\": 0.0, \"tour_type\": \"other_home_based\", \"count\": 186, \"hour_perc\": 0.0009496773139449392}, {\"mid_hour\": 0.0, \"tour_type\": \"work_based\", \"count\": 4, \"hour_perc\": 0.00026549847338377806}, {\"mid_hour\": 1.0, \"tour_type\": \"commute\", \"count\": 97, \"hour_perc\": 0.000688842177025338}, {\"mid_hour\": 1.0, \"tour_type\": \"other_home_based\", \"count\": 308, \"hour_perc\": 0.001572583939220652}, {\"mid_hour\": 1.0, \"tour_type\": \"undirected\", \"count\": 1, \"hour_perc\": 0.0012391573729863693}, {\"mid_hour\": 1.0, \"tour_type\": \"work_based\", \"count\": 10, \"hour_perc\": 0.0006637461834594451}, {\"mid_hour\": 2.0, \"tour_type\": \"commute\", \"count\": 109, \"hour_perc\": 0.0007740597659356891}, {\"mid_hour\": 2.0, \"tour_type\": \"other_home_based\", \"count\": 294, \"hour_perc\": 0.0015011028510742586}, {\"mid_hour\": 2.0, \"tour_type\": \"undirected\", \"count\": 4, \"hour_perc\": 0.004956629491945477}, {\"mid_hour\": 2.0, \"tour_type\": \"work_based\", \"count\": 11, \"hour_perc\": 0.0007301208018053897}, {\"mid_hour\": 3.0, \"tour_type\": \"commute\", \"count\": 472, \"hour_perc\": 0.0033518918304738096}, {\"mid_hour\": 3.0, \"tour_type\": \"other_home_based\", \"count\": 414, \"hour_perc\": 0.002113797892329058}, {\"mid_hour\": 3.0, \"tour_type\": \"undirected\", \"count\": 3, \"hour_perc\": 0.0037174721189591076}, {\"mid_hour\": 3.0, \"tour_type\": \"work_based\", \"count\": 14, \"hour_perc\": 0.0009292446568432231}, {\"mid_hour\": 4.0, \"tour_type\": \"commute\", \"count\": 1293, \"hour_perc\": 0.00918219520509033}, {\"mid_hour\": 4.0, \"tour_type\": \"other_home_based\", \"count\": 742, \"hour_perc\": 0.003788497671758843}, {\"mid_hour\": 4.0, \"tour_type\": \"undirected\", \"count\": 2, \"hour_perc\": 0.0024783147459727386}, {\"mid_hour\": 4.0, \"tour_type\": \"work_based\", \"count\": 16, \"hour_perc\": 0.0010619938935351122}, {\"mid_hour\": 5.0, \"tour_type\": \"commute\", \"count\": 3253, \"hour_perc\": 0.023101068060447677}, {\"mid_hour\": 5.0, \"tour_type\": \"other_home_based\", \"count\": 1468, \"hour_perc\": 0.0074953026713503795}, {\"mid_hour\": 5.0, \"tour_type\": \"undirected\", \"count\": 11, \"hour_perc\": 0.013630731102850062}, {\"mid_hour\": 5.0, \"tour_type\": \"work_based\", \"count\": 31, \"hour_perc\": 0.00205761316872428}, {\"mid_hour\": 6.0, \"tour_type\": \"commute\", \"count\": 8311, \"hour_perc\": 0.059020281786160665}, {\"mid_hour\": 6.0, \"tour_type\": \"other_home_based\", \"count\": 2669, \"hour_perc\": 0.01362735887590883}, {\"mid_hour\": 6.0, \"tour_type\": \"undirected\", \"count\": 17, \"hour_perc\": 0.021065675340768277}, {\"mid_hour\": 6.0, \"tour_type\": \"work_based\", \"count\": 110, \"hour_perc\": 0.007301208018053896}, {\"mid_hour\": 7.0, \"tour_type\": \"commute\", \"count\": 16018, \"hour_perc\": 0.11375127826383366}, {\"mid_hour\": 7.0, \"tour_type\": \"other_home_based\", \"count\": 5264, \"hour_perc\": 0.02687688914304387}, {\"mid_hour\": 7.0, \"tour_type\": \"undirected\", \"count\": 27, \"hour_perc\": 0.03345724907063197}, {\"mid_hour\": 7.0, \"tour_type\": \"work_based\", \"count\": 302, \"hour_perc\": 0.020045134740475243}, {\"mid_hour\": 8.0, \"tour_type\": \"commute\", \"count\": 11262, \"hour_perc\": 0.07997670719236451}, {\"mid_hour\": 8.0, \"tour_type\": \"other_home_based\", \"count\": 7642, \"hour_perc\": 0.03901846254390981}, {\"mid_hour\": 8.0, \"tour_type\": \"undirected\", \"count\": 21, \"hour_perc\": 0.026022304832713755}, {\"mid_hour\": 8.0, \"tour_type\": \"work_based\", \"count\": 630, \"hour_perc\": 0.04181600955794504}, {\"mid_hour\": 9.0, \"tour_type\": \"commute\", \"count\": 6393, \"hour_perc\": 0.04539967049198955}, {\"mid_hour\": 9.0, \"tour_type\": \"other_home_based\", \"count\": 9603, \"hour_perc\": 0.049030920676415325}, {\"mid_hour\": 9.0, \"tour_type\": \"undirected\", \"count\": 22, \"hour_perc\": 0.027261462205700124}, {\"mid_hour\": 9.0, \"tour_type\": \"work_based\", \"count\": 1033, \"hour_perc\": 0.06856498075136068}, {\"mid_hour\": 10.0, \"tour_type\": \"commute\", \"count\": 5040, \"hour_perc\": 0.035791387342347464}, {\"mid_hour\": 10.0, \"tour_type\": \"other_home_based\", \"count\": 10884, \"hour_perc\": 0.05557144024181031}, {\"mid_hour\": 10.0, \"tour_type\": \"undirected\", \"count\": 36, \"hour_perc\": 0.04460966542750929}, {\"mid_hour\": 10.0, \"tour_type\": \"work_based\", \"count\": 1459, \"hour_perc\": 0.09684056816673305}, {\"mid_hour\": 11.0, \"tour_type\": \"commute\", \"count\": 5138, \"hour_perc\": 0.03648733098511533}, {\"mid_hour\": 11.0, \"tour_type\": \"other_home_based\", \"count\": 12726, \"hour_perc\": 0.06497630912507148}, {\"mid_hour\": 11.0, \"tour_type\": \"undirected\", \"count\": 34, \"hour_perc\": 0.042131350681536554}, {\"mid_hour\": 11.0, \"tour_type\": \"work_based\", \"count\": 1931, \"hour_perc\": 0.12816938802601885}, {\"mid_hour\": 12.0, \"tour_type\": \"commute\", \"count\": 6224, \"hour_perc\": 0.044199522781502104}, {\"mid_hour\": 12.0, \"tour_type\": \"other_home_based\", \"count\": 13481, \"hour_perc\": 0.06883118209296626}, {\"mid_hour\": 12.0, \"tour_type\": \"undirected\", \"count\": 37, \"hour_perc\": 0.04584882280049566}, {\"mid_hour\": 12.0, \"tour_type\": \"work_based\", \"count\": 2292, \"hour_perc\": 0.1521306252489048}, {\"mid_hour\": 13.0, \"tour_type\": \"commute\", \"count\": 7140, \"hour_perc\": 0.050704465401658905}, {\"mid_hour\": 13.0, \"tour_type\": \"other_home_based\", \"count\": 14429, \"hour_perc\": 0.07367147291887918}, {\"mid_hour\": 13.0, \"tour_type\": \"undirected\", \"count\": 39, \"hour_perc\": 0.048327137546468404}, {\"mid_hour\": 13.0, \"tour_type\": \"work_based\", \"count\": 1939, \"hour_perc\": 0.1287003849727864}, {\"mid_hour\": 14.0, \"tour_type\": \"commute\", \"count\": 10336, \"hour_perc\": 0.07340074991478242}, {\"mid_hour\": 14.0, \"tour_type\": \"other_home_based\", \"count\": 15904, \"hour_perc\": 0.08120251613430275}, {\"mid_hour\": 14.0, \"tour_type\": \"undirected\", \"count\": 35, \"hour_perc\": 0.04337050805452292}, {\"mid_hour\": 14.0, \"tour_type\": \"work_based\", \"count\": 1485, \"hour_perc\": 0.0985663082437276}, {\"mid_hour\": 15.0, \"tour_type\": \"commute\", \"count\": 11880, \"hour_perc\": 0.08436541302124759}, {\"mid_hour\": 15.0, \"tour_type\": \"other_home_based\", \"count\": 16231, \"hour_perc\": 0.08287211012172208}, {\"mid_hour\": 15.0, \"tour_type\": \"undirected\", \"count\": 51, \"hour_perc\": 0.06319702602230483}, {\"mid_hour\": 15.0, \"tour_type\": \"work_based\", \"count\": 1028, \"hour_perc\": 0.06823310765963096}, {\"mid_hour\": 16.0, \"tour_type\": \"commute\", \"count\": 12352, \"hour_perc\": 0.0877173048517214}, {\"mid_hour\": 16.0, \"tour_type\": \"other_home_based\", \"count\": 15849, \"hour_perc\": 0.08092169757372764}, {\"mid_hour\": 16.0, \"tour_type\": \"undirected\", \"count\": 55, \"hour_perc\": 0.06815365551425032}, {\"mid_hour\": 16.0, \"tour_type\": \"work_based\", \"count\": 819, \"hour_perc\": 0.05436081242532855}, {\"mid_hour\": 17.0, \"tour_type\": \"commute\", \"count\": 10815, \"hour_perc\": 0.07680235200545392}, {\"mid_hour\": 17.0, \"tour_type\": \"other_home_based\", \"count\": 15942, \"hour_perc\": 0.0813965362307001}, {\"mid_hour\": 17.0, \"tour_type\": \"undirected\", \"count\": 50, \"hour_perc\": 0.061957868649318466}, {\"mid_hour\": 17.0, \"tour_type\": \"work_based\", \"count\": 589, \"hour_perc\": 0.03909465020576132}, {\"mid_hour\": 18.0, \"tour_type\": \"commute\", \"count\": 7714, \"hour_perc\": 0.054780706737870694}, {\"mid_hour\": 18.0, \"tour_type\": \"other_home_based\", \"count\": 15393, \"hour_perc\": 0.0785934564169594}, {\"mid_hour\": 18.0, \"tour_type\": \"undirected\", \"count\": 68, \"hour_perc\": 0.08426270136307311}, {\"mid_hour\": 18.0, \"tour_type\": \"work_based\", \"count\": 462, \"hour_perc\": 0.030665073675826365}, {\"mid_hour\": 19.0, \"tour_type\": \"commute\", \"count\": 5639, \"hour_perc\": 0.04004516532212249}, {\"mid_hour\": 19.0, \"tour_type\": \"other_home_based\", \"count\": 12617, \"hour_perc\": 0.06441977779593171}, {\"mid_hour\": 19.0, \"tour_type\": \"undirected\", \"count\": 71, \"hour_perc\": 0.08798017348203221}, {\"mid_hour\": 19.0, \"tour_type\": \"work_based\", \"count\": 348, \"hour_perc\": 0.02309836718438869}, {\"mid_hour\": 20.0, \"tour_type\": \"commute\", \"count\": 4392, \"hour_perc\": 0.031189637541188503}, {\"mid_hour\": 20.0, \"tour_type\": \"other_home_based\", \"count\": 10027, \"hour_perc\": 0.05119577648884895}, {\"mid_hour\": 20.0, \"tour_type\": \"undirected\", \"count\": 63, \"hour_perc\": 0.07806691449814127}, {\"mid_hour\": 20.0, \"tour_type\": \"work_based\", \"count\": 240, \"hour_perc\": 0.01592990840302668}, {\"mid_hour\": 21.0, \"tour_type\": \"commute\", \"count\": 3292, \"hour_perc\": 0.023378025224406317}, {\"mid_hour\": 21.0, \"tour_type\": \"other_home_based\", \"count\": 6914, \"hour_perc\": 0.03530144596029736}, {\"mid_hour\": 21.0, \"tour_type\": \"undirected\", \"count\": 54, \"hour_perc\": 0.06691449814126393}, {\"mid_hour\": 21.0, \"tour_type\": \"work_based\", \"count\": 156, \"hour_perc\": 0.010354440461967344}, {\"mid_hour\": 22.0, \"tour_type\": \"commute\", \"count\": 2208, \"hour_perc\": 0.0156800363595046}, {\"mid_hour\": 22.0, \"tour_type\": \"other_home_based\", \"count\": 4029, \"hour_perc\": 0.02057123601012989}, {\"mid_hour\": 22.0, \"tour_type\": \"undirected\", \"count\": 48, \"hour_perc\": 0.05947955390334572}, {\"mid_hour\": 22.0, \"tour_type\": \"work_based\", \"count\": 86, \"hour_perc\": 0.005708217177751228}, {\"mid_hour\": 23.0, \"tour_type\": \"commute\", \"count\": 1029, \"hour_perc\": 0.007307408249062606}, {\"mid_hour\": 23.0, \"tour_type\": \"other_home_based\", \"count\": 1962, \"hour_perc\": 0.010017563924515971}, {\"mid_hour\": 23.0, \"tour_type\": \"undirected\", \"count\": 39, \"hour_perc\": 0.048327137546468404}, {\"mid_hour\": 23.0, \"tour_type\": \"work_based\", \"count\": 45, \"hour_perc\": 0.002986857825567503}, {\"mid_hour\": 24.0, \"tour_type\": \"commute\", \"count\": 257, \"hour_perc\": 0.0018250766958300194}, {\"mid_hour\": 24.0, \"tour_type\": \"other_home_based\", \"count\": 634, \"hour_perc\": 0.003237072134629524}, {\"mid_hour\": 24.0, \"tour_type\": \"undirected\", \"count\": 10, \"hour_perc\": 0.012391573729863693}, {\"mid_hour\": 24.0, \"tour_type\": \"work_based\", \"count\": 20, \"hour_perc\": 0.0013274923669188902}, {\"mid_hour\": 25.0, \"tour_type\": \"commute\", \"count\": 62, \"hour_perc\": 0.000440290876036814}, {\"mid_hour\": 25.0, \"tour_type\": \"other_home_based\", \"count\": 161, \"hour_perc\": 0.0008220325136835226}, {\"mid_hour\": 25.0, \"tour_type\": \"undirected\", \"count\": 6, \"hour_perc\": 0.007434944237918215}, {\"mid_hour\": 25.0, \"tour_type\": \"work_based\", \"count\": 3, \"hour_perc\": 0.00019912385503783353}, {\"mid_hour\": 26.0, \"tour_type\": \"commute\", \"count\": 24, \"hour_perc\": 0.0001704351778207022}, {\"mid_hour\": 26.0, \"tour_type\": \"other_home_based\", \"count\": 75, \"hour_perc\": 0.0003829344007842497}, {\"mid_hour\": 26.0, \"tour_type\": \"undirected\", \"count\": 3, \"hour_perc\": 0.0037174721189591076}, {\"mid_hour\": 26.0, \"tour_type\": \"work_based\", \"count\": 3, \"hour_perc\": 0.00019912385503783353}, {\"mid_hour\": 27.0, \"tour_type\": \"commute\", \"count\": 4, \"hour_perc\": 2.840586297011703e-05}, {\"mid_hour\": 27.0, \"tour_type\": \"other_home_based\", \"count\": 8, \"hour_perc\": 4.084633608365329e-05}]}}, {\"mode\": \"vega-lite\"});\n",
       "</script>"
      ],
      "text/plain": [
       "alt.Chart(...)"
      ]
     },
     "execution_count": 86,
     "metadata": {},
     "output_type": "execute_result"
    }
   ],
   "source": [
    "# hourly departures by tour type\n",
    "replica_departures = replica_trips.groupby(['start_hour','tour_type']).size().reset_index(name='count')\n",
    "replica_departures['hour_perc'] = replica_departures['count'] / replica_departures.groupby(['tour_type'])['count'].transform('sum')\n",
    "\n",
    "ext_chart = alt.Chart(replica_departures).mark_line(point=False, color='#006FA1').encode(\n",
    "    x='start_hour:O',\n",
    "    y='hour_perc:Q',\n",
    "    color='tour_type:N',\n",
    "    tooltip=['start_hour', 'hour_perc']\n",
    ")\n",
    "\n",
    "ext_chart"
   ]
  },
  {
   "cell_type": "code",
   "execution_count": null,
   "id": "ccab09cd",
   "metadata": {},
   "outputs": [],
   "source": [
    "# period PA factors for EI/IE\n",
    "replica_factors = replica_trips.groupby(['time_period','ext_type','ext_market2']).size().reset_index(name='count')\n",
    "#replica_factors.to_csv('replica_extmarket.csv',index=False)"
   ]
  }
 ],
 "metadata": {
  "kernelspec": {
   "display_name": ".venv",
   "language": "python",
   "name": "python3"
  },
  "language_info": {
   "codemirror_mode": {
    "name": "ipython",
    "version": 3
   },
   "file_extension": ".py",
   "mimetype": "text/x-python",
   "name": "python",
   "nbconvert_exporter": "python",
   "pygments_lexer": "ipython3",
   "version": "3.12.7"
  }
 },
 "nbformat": 4,
 "nbformat_minor": 5
}
